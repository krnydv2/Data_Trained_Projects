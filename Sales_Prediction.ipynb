{
 "cells": [
  {
   "cell_type": "code",
   "execution_count": 1,
   "id": "2c4b976b",
   "metadata": {},
   "outputs": [],
   "source": [
    "import pandas as pd\n",
    "import numpy as np\n",
    "import matplotlib.pyplot as plt\n",
    "%matplotlib inline\n",
    "import seaborn as sns\n",
    "import pickle\n",
    "\n",
    "\n",
    "\n",
    "import warnings\n",
    "warnings.filterwarnings('ignore')"
   ]
  },
  {
   "cell_type": "code",
   "execution_count": 2,
   "id": "5b4244c1",
   "metadata": {},
   "outputs": [
    {
     "data": {
      "text/html": [
       "<div>\n",
       "<style scoped>\n",
       "    .dataframe tbody tr th:only-of-type {\n",
       "        vertical-align: middle;\n",
       "    }\n",
       "\n",
       "    .dataframe tbody tr th {\n",
       "        vertical-align: top;\n",
       "    }\n",
       "\n",
       "    .dataframe thead th {\n",
       "        text-align: right;\n",
       "    }\n",
       "</style>\n",
       "<table border=\"1\" class=\"dataframe\">\n",
       "  <thead>\n",
       "    <tr style=\"text-align: right;\">\n",
       "      <th></th>\n",
       "      <th>Unnamed: 0</th>\n",
       "      <th>TV</th>\n",
       "      <th>radio</th>\n",
       "      <th>newspaper</th>\n",
       "      <th>sales</th>\n",
       "    </tr>\n",
       "  </thead>\n",
       "  <tbody>\n",
       "    <tr>\n",
       "      <th>0</th>\n",
       "      <td>1</td>\n",
       "      <td>230.1</td>\n",
       "      <td>37.8</td>\n",
       "      <td>69.2</td>\n",
       "      <td>22.1</td>\n",
       "    </tr>\n",
       "    <tr>\n",
       "      <th>1</th>\n",
       "      <td>2</td>\n",
       "      <td>44.5</td>\n",
       "      <td>39.3</td>\n",
       "      <td>45.1</td>\n",
       "      <td>10.4</td>\n",
       "    </tr>\n",
       "    <tr>\n",
       "      <th>2</th>\n",
       "      <td>3</td>\n",
       "      <td>17.2</td>\n",
       "      <td>45.9</td>\n",
       "      <td>69.3</td>\n",
       "      <td>9.3</td>\n",
       "    </tr>\n",
       "    <tr>\n",
       "      <th>3</th>\n",
       "      <td>4</td>\n",
       "      <td>151.5</td>\n",
       "      <td>41.3</td>\n",
       "      <td>58.5</td>\n",
       "      <td>18.5</td>\n",
       "    </tr>\n",
       "    <tr>\n",
       "      <th>4</th>\n",
       "      <td>5</td>\n",
       "      <td>180.8</td>\n",
       "      <td>10.8</td>\n",
       "      <td>58.4</td>\n",
       "      <td>12.9</td>\n",
       "    </tr>\n",
       "  </tbody>\n",
       "</table>\n",
       "</div>"
      ],
      "text/plain": [
       "   Unnamed: 0     TV  radio  newspaper  sales\n",
       "0           1  230.1   37.8       69.2   22.1\n",
       "1           2   44.5   39.3       45.1   10.4\n",
       "2           3   17.2   45.9       69.3    9.3\n",
       "3           4  151.5   41.3       58.5   18.5\n",
       "4           5  180.8   10.8       58.4   12.9"
      ]
     },
     "execution_count": 2,
     "metadata": {},
     "output_type": "execute_result"
    }
   ],
   "source": [
    "data = pd.read_csv('https://raw.githubusercontent.com/dsrscientist/DSData/master/Advertising.csv')\n",
    "\n",
    "data.head()"
   ]
  },
  {
   "cell_type": "code",
   "execution_count": 3,
   "id": "5517c339",
   "metadata": {},
   "outputs": [
    {
     "data": {
      "text/plain": [
       "(200, 5)"
      ]
     },
     "execution_count": 3,
     "metadata": {},
     "output_type": "execute_result"
    }
   ],
   "source": [
    "data.shape"
   ]
  },
  {
   "cell_type": "code",
   "execution_count": 4,
   "id": "6f5bffbc",
   "metadata": {},
   "outputs": [
    {
     "name": "stdout",
     "output_type": "stream",
     "text": [
      "<class 'pandas.core.frame.DataFrame'>\n",
      "RangeIndex: 200 entries, 0 to 199\n",
      "Data columns (total 5 columns):\n",
      " #   Column      Non-Null Count  Dtype  \n",
      "---  ------      --------------  -----  \n",
      " 0   Unnamed: 0  200 non-null    int64  \n",
      " 1   TV          200 non-null    float64\n",
      " 2   radio       200 non-null    float64\n",
      " 3   newspaper   200 non-null    float64\n",
      " 4   sales       200 non-null    float64\n",
      "dtypes: float64(4), int64(1)\n",
      "memory usage: 7.9 KB\n"
     ]
    }
   ],
   "source": [
    "data.info()"
   ]
  },
  {
   "cell_type": "code",
   "execution_count": 5,
   "id": "3990e1ca",
   "metadata": {},
   "outputs": [
    {
     "data": {
      "text/plain": [
       "Unnamed: 0    0\n",
       "TV            0\n",
       "radio         0\n",
       "newspaper     0\n",
       "sales         0\n",
       "dtype: int64"
      ]
     },
     "execution_count": 5,
     "metadata": {},
     "output_type": "execute_result"
    }
   ],
   "source": [
    "data.isnull().sum()"
   ]
  },
  {
   "cell_type": "code",
   "execution_count": 6,
   "id": "0236f3d1",
   "metadata": {},
   "outputs": [
    {
     "data": {
      "text/html": [
       "<div>\n",
       "<style scoped>\n",
       "    .dataframe tbody tr th:only-of-type {\n",
       "        vertical-align: middle;\n",
       "    }\n",
       "\n",
       "    .dataframe tbody tr th {\n",
       "        vertical-align: top;\n",
       "    }\n",
       "\n",
       "    .dataframe thead th {\n",
       "        text-align: right;\n",
       "    }\n",
       "</style>\n",
       "<table border=\"1\" class=\"dataframe\">\n",
       "  <thead>\n",
       "    <tr style=\"text-align: right;\">\n",
       "      <th></th>\n",
       "      <th>TV</th>\n",
       "      <th>radio</th>\n",
       "      <th>newspaper</th>\n",
       "      <th>sales</th>\n",
       "    </tr>\n",
       "  </thead>\n",
       "  <tbody>\n",
       "    <tr>\n",
       "      <th>0</th>\n",
       "      <td>230.1</td>\n",
       "      <td>37.8</td>\n",
       "      <td>69.2</td>\n",
       "      <td>22.1</td>\n",
       "    </tr>\n",
       "    <tr>\n",
       "      <th>1</th>\n",
       "      <td>44.5</td>\n",
       "      <td>39.3</td>\n",
       "      <td>45.1</td>\n",
       "      <td>10.4</td>\n",
       "    </tr>\n",
       "    <tr>\n",
       "      <th>2</th>\n",
       "      <td>17.2</td>\n",
       "      <td>45.9</td>\n",
       "      <td>69.3</td>\n",
       "      <td>9.3</td>\n",
       "    </tr>\n",
       "    <tr>\n",
       "      <th>3</th>\n",
       "      <td>151.5</td>\n",
       "      <td>41.3</td>\n",
       "      <td>58.5</td>\n",
       "      <td>18.5</td>\n",
       "    </tr>\n",
       "    <tr>\n",
       "      <th>4</th>\n",
       "      <td>180.8</td>\n",
       "      <td>10.8</td>\n",
       "      <td>58.4</td>\n",
       "      <td>12.9</td>\n",
       "    </tr>\n",
       "  </tbody>\n",
       "</table>\n",
       "</div>"
      ],
      "text/plain": [
       "      TV  radio  newspaper  sales\n",
       "0  230.1   37.8       69.2   22.1\n",
       "1   44.5   39.3       45.1   10.4\n",
       "2   17.2   45.9       69.3    9.3\n",
       "3  151.5   41.3       58.5   18.5\n",
       "4  180.8   10.8       58.4   12.9"
      ]
     },
     "execution_count": 6,
     "metadata": {},
     "output_type": "execute_result"
    }
   ],
   "source": [
    "data = data.drop(columns = 'Unnamed: 0', axis=1)\n",
    "\n",
    "data.head()"
   ]
  },
  {
   "cell_type": "code",
   "execution_count": 7,
   "id": "f8839c2f",
   "metadata": {},
   "outputs": [
    {
     "data": {
      "text/html": [
       "<div>\n",
       "<style scoped>\n",
       "    .dataframe tbody tr th:only-of-type {\n",
       "        vertical-align: middle;\n",
       "    }\n",
       "\n",
       "    .dataframe tbody tr th {\n",
       "        vertical-align: top;\n",
       "    }\n",
       "\n",
       "    .dataframe thead th {\n",
       "        text-align: right;\n",
       "    }\n",
       "</style>\n",
       "<table border=\"1\" class=\"dataframe\">\n",
       "  <thead>\n",
       "    <tr style=\"text-align: right;\">\n",
       "      <th></th>\n",
       "      <th>TV</th>\n",
       "      <th>radio</th>\n",
       "      <th>newspaper</th>\n",
       "      <th>sales</th>\n",
       "    </tr>\n",
       "  </thead>\n",
       "  <tbody>\n",
       "    <tr>\n",
       "      <th>count</th>\n",
       "      <td>200.000000</td>\n",
       "      <td>200.000000</td>\n",
       "      <td>200.000000</td>\n",
       "      <td>200.000000</td>\n",
       "    </tr>\n",
       "    <tr>\n",
       "      <th>mean</th>\n",
       "      <td>147.042500</td>\n",
       "      <td>23.264000</td>\n",
       "      <td>30.554000</td>\n",
       "      <td>14.022500</td>\n",
       "    </tr>\n",
       "    <tr>\n",
       "      <th>std</th>\n",
       "      <td>85.854236</td>\n",
       "      <td>14.846809</td>\n",
       "      <td>21.778621</td>\n",
       "      <td>5.217457</td>\n",
       "    </tr>\n",
       "    <tr>\n",
       "      <th>min</th>\n",
       "      <td>0.700000</td>\n",
       "      <td>0.000000</td>\n",
       "      <td>0.300000</td>\n",
       "      <td>1.600000</td>\n",
       "    </tr>\n",
       "    <tr>\n",
       "      <th>25%</th>\n",
       "      <td>74.375000</td>\n",
       "      <td>9.975000</td>\n",
       "      <td>12.750000</td>\n",
       "      <td>10.375000</td>\n",
       "    </tr>\n",
       "    <tr>\n",
       "      <th>50%</th>\n",
       "      <td>149.750000</td>\n",
       "      <td>22.900000</td>\n",
       "      <td>25.750000</td>\n",
       "      <td>12.900000</td>\n",
       "    </tr>\n",
       "    <tr>\n",
       "      <th>75%</th>\n",
       "      <td>218.825000</td>\n",
       "      <td>36.525000</td>\n",
       "      <td>45.100000</td>\n",
       "      <td>17.400000</td>\n",
       "    </tr>\n",
       "    <tr>\n",
       "      <th>max</th>\n",
       "      <td>296.400000</td>\n",
       "      <td>49.600000</td>\n",
       "      <td>114.000000</td>\n",
       "      <td>27.000000</td>\n",
       "    </tr>\n",
       "  </tbody>\n",
       "</table>\n",
       "</div>"
      ],
      "text/plain": [
       "               TV       radio   newspaper       sales\n",
       "count  200.000000  200.000000  200.000000  200.000000\n",
       "mean   147.042500   23.264000   30.554000   14.022500\n",
       "std     85.854236   14.846809   21.778621    5.217457\n",
       "min      0.700000    0.000000    0.300000    1.600000\n",
       "25%     74.375000    9.975000   12.750000   10.375000\n",
       "50%    149.750000   22.900000   25.750000   12.900000\n",
       "75%    218.825000   36.525000   45.100000   17.400000\n",
       "max    296.400000   49.600000  114.000000   27.000000"
      ]
     },
     "execution_count": 7,
     "metadata": {},
     "output_type": "execute_result"
    }
   ],
   "source": [
    "data.describe()"
   ]
  },
  {
   "cell_type": "code",
   "execution_count": 8,
   "id": "5f2e75aa",
   "metadata": {},
   "outputs": [
    {
     "data": {
      "image/png": "[encoded data removed]",
      "text/plain": [
       "<Figure size 720x720 with 4 Axes>"
      ]
     },
     "metadata": {
      "needs_background": "light"
     },
     "output_type": "display_data"
    }
   ],
   "source": [
    "plt.figure(figsize = (10,10))\n",
    "plotnumber = 1\n",
    "\n",
    "for column in data:\n",
    "    if plotnumber <= 4:\n",
    "        ax = plt.subplot(2,2,plotnumber)\n",
    "        sns.distplot(data[column])\n",
    "        plt.xlabel(column, fontsize = 10)\n",
    "    plotnumber +=1\n",
    "plt.tight_layout()"
   ]
  },
  {
   "cell_type": "markdown",
   "id": "90a40b2c",
   "metadata": {},
   "source": [
    "There seems to be some skewness present in the data. We will confirm that in furthur steps."
   ]
  },
  {
   "cell_type": "code",
   "execution_count": 9,
   "id": "dac4689f",
   "metadata": {},
   "outputs": [
    {
     "data": {
      "text/plain": [
       "<AxesSubplot:xlabel='TV', ylabel='sales'>"
      ]
     },
     "execution_count": 9,
     "metadata": {},
     "output_type": "execute_result"
    },
    {
     "data": {
      "image/png": "[encoded data removed]",
      "text/plain": [
       "<Figure size 432x288 with 1 Axes>"
      ]
     },
     "metadata": {
      "needs_background": "light"
     },
     "output_type": "display_data"
    }
   ],
   "source": [
    "# Lets Check the Scatter plot between Independent and Dependent Variable.\n",
    "\n",
    "sns.scatterplot(x = 'TV', y = 'sales', data = data)"
   ]
  },
  {
   "cell_type": "markdown",
   "id": "94a70ea6",
   "metadata": {},
   "source": [
    "There seems to be a relation between TV and sales, as the curve is linearly distributed. We will check the value from correlation table."
   ]
  },
  {
   "cell_type": "code",
   "execution_count": 10,
   "id": "ca0bfa7f",
   "metadata": {},
   "outputs": [
    {
     "data": {
      "text/plain": [
       "<AxesSubplot:xlabel='radio', ylabel='sales'>"
      ]
     },
     "execution_count": 10,
     "metadata": {},
     "output_type": "execute_result"
    },
    {
     "data": {
      "image/png": "[encoded data removed]",
      "text/plain": [
       "<Figure size 432x288 with 1 Axes>"
      ]
     },
     "metadata": {
      "needs_background": "light"
     },
     "output_type": "display_data"
    }
   ],
   "source": [
    "sns.scatterplot(x = 'radio', y = 'sales', data = data)"
   ]
  },
  {
   "cell_type": "markdown",
   "id": "65731120",
   "metadata": {},
   "source": [
    "There is nothing much conclusive from Sales vs Radio graph, but it can be seen that it certainly follows some pattern, where as radio data goes up, sales also increases."
   ]
  },
  {
   "cell_type": "code",
   "execution_count": 11,
   "id": "486bd74a",
   "metadata": {},
   "outputs": [
    {
     "data": {
      "text/plain": [
       "<AxesSubplot:xlabel='newspaper', ylabel='sales'>"
      ]
     },
     "execution_count": 11,
     "metadata": {},
     "output_type": "execute_result"
    },
    {
     "data": {
      "image/png": "[encoded data removed]",
      "text/plain": [
       "<Figure size 432x288 with 1 Axes>"
      ]
     },
     "metadata": {
      "needs_background": "light"
     },
     "output_type": "display_data"
    }
   ],
   "source": [
    "sns.scatterplot(x = 'newspaper', y = 'sales', data = data)"
   ]
  },
  {
   "cell_type": "markdown",
   "id": "21cca89f",
   "metadata": {},
   "source": [
    "Newspaper vs sales graph is randomly distributed."
   ]
  },
  {
   "cell_type": "code",
   "execution_count": 12,
   "id": "a17eb786",
   "metadata": {},
   "outputs": [
    {
     "data": {
      "image/png": "[encoded data removed]",
      "text/plain": [
       "<Figure size 720x720 with 2 Axes>"
      ]
     },
     "metadata": {
      "needs_background": "light"
     },
     "output_type": "display_data"
    }
   ],
   "source": [
    "data_corr = data.corr().abs()\n",
    "\n",
    "plt.figure(figsize = (10,10))\n",
    "\n",
    "sns.heatmap(data_corr, annot=True)\n",
    "\n",
    "plt.title(\"Correlation Matrix\")\n",
    "plt.show()"
   ]
  },
  {
   "cell_type": "markdown",
   "id": "e83b1e69",
   "metadata": {},
   "source": [
    "The correlation values for dataset shows that there is a relation between TV and Sales, apart from that there is no such relation among other features."
   ]
  },
  {
   "cell_type": "code",
   "execution_count": 13,
   "id": "e72886aa",
   "metadata": {},
   "outputs": [
    {
     "data": {
      "image/png": "[encoded data removed]",
      "text/plain": [
       "<Figure size 720x720 with 20 Axes>"
      ]
     },
     "metadata": {
      "needs_background": "light"
     },
     "output_type": "display_data"
    }
   ],
   "source": [
    "sns.pairplot(data)\n",
    "\n",
    "plt.show()"
   ]
  },
  {
   "cell_type": "code",
   "execution_count": 14,
   "id": "990a1688",
   "metadata": {},
   "outputs": [],
   "source": [
    "x = data.drop(columns = ['sales'])\n",
    "y = data['sales']"
   ]
  },
  {
   "cell_type": "code",
   "execution_count": 15,
   "id": "9b45067b",
   "metadata": {},
   "outputs": [
    {
     "data": {
      "text/plain": [
       "newspaper    0.894720\n",
       "radio        0.094175\n",
       "TV          -0.069853\n",
       "dtype: float64"
      ]
     },
     "execution_count": 15,
     "metadata": {},
     "output_type": "execute_result"
    }
   ],
   "source": [
    "x.skew().sort_values(ascending = False)"
   ]
  },
  {
   "cell_type": "code",
   "execution_count": 16,
   "id": "8fd75b71",
   "metadata": {},
   "outputs": [],
   "source": [
    "from sklearn.preprocessing import power_transform\n",
    "x_new = power_transform(x)"
   ]
  },
  {
   "cell_type": "code",
   "execution_count": 17,
   "id": "cd68194a",
   "metadata": {},
   "outputs": [
    {
     "data": {
      "text/plain": [
       "newspaper   -0.077942\n",
       "radio       -0.242968\n",
       "TV          -0.315199\n",
       "dtype: float64"
      ]
     },
     "execution_count": 17,
     "metadata": {},
     "output_type": "execute_result"
    }
   ],
   "source": [
    "pd.DataFrame(x_new, columns = x.columns).skew().sort_values(ascending = False)"
   ]
  },
  {
   "cell_type": "code",
   "execution_count": 18,
   "id": "edd9f6f7",
   "metadata": {},
   "outputs": [
    {
     "data": {
      "text/html": [
       "<div>\n",
       "<style scoped>\n",
       "    .dataframe tbody tr th:only-of-type {\n",
       "        vertical-align: middle;\n",
       "    }\n",
       "\n",
       "    .dataframe tbody tr th {\n",
       "        vertical-align: top;\n",
       "    }\n",
       "\n",
       "    .dataframe thead th {\n",
       "        text-align: right;\n",
       "    }\n",
       "</style>\n",
       "<table border=\"1\" class=\"dataframe\">\n",
       "  <thead>\n",
       "    <tr style=\"text-align: right;\">\n",
       "      <th></th>\n",
       "      <th>TV</th>\n",
       "      <th>radio</th>\n",
       "      <th>newspaper</th>\n",
       "    </tr>\n",
       "  </thead>\n",
       "  <tbody>\n",
       "    <tr>\n",
       "      <th>0</th>\n",
       "      <td>0.948674</td>\n",
       "      <td>0.962247</td>\n",
       "      <td>1.514335</td>\n",
       "    </tr>\n",
       "    <tr>\n",
       "      <th>1</th>\n",
       "      <td>-1.191314</td>\n",
       "      <td>1.040179</td>\n",
       "      <td>0.787683</td>\n",
       "    </tr>\n",
       "    <tr>\n",
       "      <th>2</th>\n",
       "      <td>-1.647757</td>\n",
       "      <td>1.370710</td>\n",
       "      <td>1.516998</td>\n",
       "    </tr>\n",
       "    <tr>\n",
       "      <th>3</th>\n",
       "      <td>0.141020</td>\n",
       "      <td>1.142387</td>\n",
       "      <td>1.214656</td>\n",
       "    </tr>\n",
       "    <tr>\n",
       "      <th>4</th>\n",
       "      <td>0.452715</td>\n",
       "      <td>-0.748651</td>\n",
       "      <td>1.211704</td>\n",
       "    </tr>\n",
       "  </tbody>\n",
       "</table>\n",
       "</div>"
      ],
      "text/plain": [
       "         TV     radio  newspaper\n",
       "0  0.948674  0.962247   1.514335\n",
       "1 -1.191314  1.040179   0.787683\n",
       "2 -1.647757  1.370710   1.516998\n",
       "3  0.141020  1.142387   1.214656\n",
       "4  0.452715 -0.748651   1.211704"
      ]
     },
     "execution_count": 18,
     "metadata": {},
     "output_type": "execute_result"
    }
   ],
   "source": [
    "x = pd.DataFrame(x_new, columns = x.columns)\n",
    "\n",
    "x.head()"
   ]
  },
  {
   "cell_type": "code",
   "execution_count": 19,
   "id": "c7043c23",
   "metadata": {},
   "outputs": [
    {
     "data": {
      "text/plain": [
       "True"
      ]
     },
     "execution_count": 19,
     "metadata": {},
     "output_type": "execute_result"
    }
   ],
   "source": [
    "x.skew()[np.abs(x.skew())<0.25].all()"
   ]
  },
  {
   "cell_type": "code",
   "execution_count": 20,
   "id": "b3ba7c1b",
   "metadata": {},
   "outputs": [
    {
     "data": {
      "image/png": "[encoded data removed]",
      "text/plain": [
       "<Figure size 720x720 with 3 Axes>"
      ]
     },
     "metadata": {
      "needs_background": "light"
     },
     "output_type": "display_data"
    }
   ],
   "source": [
    "plt.figure(figsize = (10,10))\n",
    "plotnumber = 1\n",
    "\n",
    "for column in x:\n",
    "    if plotnumber <= 4:\n",
    "        ax = plt.subplot(2,2,plotnumber)\n",
    "        sns.distplot(x[column])\n",
    "        plt.xlabel(column, fontsize = 10)\n",
    "    plotnumber +=1\n",
    "plt.tight_layout()"
   ]
  },
  {
   "cell_type": "code",
   "execution_count": 21,
   "id": "dc98ec66",
   "metadata": {},
   "outputs": [
    {
     "data": {
      "image/png": "[encoded data removed]",
      "text/plain": [
       "<Figure size 720x576 with 1 Axes>"
      ]
     },
     "metadata": {
      "needs_background": "light"
     },
     "output_type": "display_data"
    }
   ],
   "source": [
    "# checking Outliers\n",
    "\n",
    "x.iloc[:,:].boxplot(figsize = (10,8))\n",
    "plt.subplots_adjust(bottom=0.25)\n",
    "plt.show()"
   ]
  },
  {
   "cell_type": "code",
   "execution_count": 22,
   "id": "955e3faa",
   "metadata": {},
   "outputs": [
    {
     "data": {
      "text/plain": [
       "TV           True\n",
       "radio        True\n",
       "newspaper    True\n",
       "dtype: bool"
      ]
     },
     "execution_count": 22,
     "metadata": {},
     "output_type": "execute_result"
    }
   ],
   "source": [
    "from scipy.stats import zscore\n",
    "(np.abs(zscore(x))<3).all()"
   ]
  },
  {
   "cell_type": "markdown",
   "id": "dc8e7149",
   "metadata": {},
   "source": [
    "Since There is no outlier present in data, we can proceed ahead."
   ]
  },
  {
   "cell_type": "code",
   "execution_count": 23,
   "id": "5430f0d1",
   "metadata": {},
   "outputs": [
    {
     "data": {
      "image/png": "[encoded data removed]",
      "text/plain": [
       "<Figure size 432x288 with 1 Axes>"
      ]
     },
     "metadata": {
      "needs_background": "light"
     },
     "output_type": "display_data"
    }
   ],
   "source": [
    "# Checking outliers in Target column\n",
    "\n",
    "sns.boxplot(y)\n",
    "\n",
    "plt.show()"
   ]
  },
  {
   "cell_type": "markdown",
   "id": "11234432",
   "metadata": {},
   "source": [
    "There is no outlier present in sales data, and it is having mean value range from 10 to 17."
   ]
  },
  {
   "cell_type": "code",
   "execution_count": 24,
   "id": "1ec7cba4",
   "metadata": {},
   "outputs": [],
   "source": [
    "from sklearn.preprocessing import StandardScaler\n",
    "from sklearn.model_selection import train_test_split, GridSearchCV\n",
    "from sklearn.linear_model import LinearRegression\n",
    "from sklearn.metrics import mean_squared_error, r2_score, mean_absolute_error"
   ]
  },
  {
   "cell_type": "code",
   "execution_count": 25,
   "id": "5a485081",
   "metadata": {},
   "outputs": [
    {
     "name": "stdout",
     "output_type": "stream",
     "text": [
      "r2_score 91.27783752035566 % random_state 1\n",
      "r2_score 91.27783752035566 % random_state 1\n",
      "r2_score 82.5630578545904 % random_state 2\n",
      "r2_score 89.69911283672779 % random_state 3\n",
      "r2_score 90.91498622840182 % random_state 4\n",
      "r2_score 89.78350865173104 % random_state 5\n",
      "r2_score 92.00502433240167 % random_state 6\n",
      "r2_score 92.00502433240167 % random_state 6\n",
      "r2_score 91.33377447361889 % random_state 7\n",
      "r2_score 88.33381553849966 % random_state 8\n",
      "r2_score 91.51837614445915 % random_state 9\n",
      "r2_score 86.58496476110761 % random_state 10\n",
      "r2_score 89.25336064747864 % random_state 11\n",
      "r2_score 91.92123829791696 % random_state 12\n",
      "r2_score 93.79030875501375 % random_state 13\n",
      "r2_score 93.79030875501375 % random_state 13\n",
      "r2_score 89.6197779218918 % random_state 14\n",
      "r2_score 89.86164790056645 % random_state 15\n",
      "r2_score 92.61021273502936 % random_state 16\n",
      "r2_score 87.997200403163 % random_state 17\n",
      "r2_score 89.22737860915655 % random_state 18\n",
      "r2_score 89.66138721127817 % random_state 19\n",
      "r2_score 88.89168499223315 % random_state 20\n",
      "r2_score 90.7962992931189 % random_state 21\n",
      "r2_score 92.43487448023826 % random_state 22\n",
      "r2_score 91.845694187195 % random_state 23\n",
      "r2_score 90.17703464671865 % random_state 24\n",
      "r2_score 89.38475592923895 % random_state 25\n",
      "r2_score 88.27643208306279 % random_state 26\n",
      "r2_score 90.29976990559597 % random_state 27\n",
      "r2_score 91.4793098934166 % random_state 28\n",
      "r2_score 90.87411339333214 % random_state 29\n",
      "r2_score 92.53391602800436 % random_state 30\n",
      "r2_score 92.08664009760716 % random_state 31\n",
      "r2_score 86.12644876042738 % random_state 32\n",
      "r2_score 90.6177715066272 % random_state 33\n",
      "r2_score 89.87794060208306 % random_state 34\n",
      "r2_score 82.96885577385864 % random_state 35\n",
      "r2_score 91.81543593913344 % random_state 36\n",
      "r2_score 88.35783652631567 % random_state 37\n",
      "r2_score 89.6198189847583 % random_state 38\n",
      "r2_score 89.61298225637955 % random_state 39\n",
      "r2_score 86.62323561900658 % random_state 40\n",
      "r2_score 90.41129431575101 % random_state 41\n",
      "r2_score 91.00802222523188 % random_state 42\n",
      "r2_score 93.26983801109913 % random_state 43\n",
      "r2_score 86.70124653150557 % random_state 44\n",
      "r2_score 91.00924859137798 % random_state 45\n",
      "r2_score 87.4980975177771 % random_state 46\n",
      "r2_score 86.91634251008772 % random_state 47\n",
      "r2_score 93.27427061250188 % random_state 48\n",
      "r2_score 82.17381419912202 % random_state 49\n",
      "r2_score 88.9245313933589 % random_state 50\n",
      "r2_score 89.3637317939254 % random_state 51\n",
      "r2_score 88.37552360965807 % random_state 52\n",
      "r2_score 93.40474846337668 % random_state 53\n",
      "r2_score 92.8689613501206 % random_state 54\n",
      "r2_score 91.83525211331414 % random_state 55\n",
      "r2_score 90.3763620032073 % random_state 56\n",
      "r2_score 93.44901516862836 % random_state 57\n",
      "r2_score 85.94523403398426 % random_state 58\n",
      "r2_score 91.70906470207213 % random_state 59\n",
      "r2_score 92.51647986135005 % random_state 60\n",
      "r2_score 90.56281389728646 % random_state 61\n",
      "r2_score 86.96908130279115 % random_state 62\n",
      "r2_score 90.62797076045277 % random_state 63\n",
      "r2_score 88.27738761139999 % random_state 64\n",
      "r2_score 92.02491824122801 % random_state 65\n",
      "r2_score 89.00309441591686 % random_state 66\n",
      "r2_score 89.51663126523358 % random_state 67\n",
      "r2_score 87.3527028610026 % random_state 68\n",
      "r2_score 92.00301138806645 % random_state 69\n",
      "r2_score 91.07351476058155 % random_state 70\n",
      "r2_score 86.65475641356589 % random_state 71\n",
      "r2_score 92.13276273631442 % random_state 72\n",
      "r2_score 87.26401439013267 % random_state 73\n",
      "r2_score 90.01468966996889 % random_state 74\n",
      "r2_score 92.62173528293151 % random_state 75\n",
      "r2_score 86.97691540647871 % random_state 76\n",
      "r2_score 92.3366043337878 % random_state 77\n",
      "r2_score 92.18511154456968 % random_state 78\n",
      "r2_score 90.67898310364593 % random_state 79\n",
      "r2_score 88.85263400929279 % random_state 80\n",
      "r2_score 90.873073944997 % random_state 81\n",
      "r2_score 86.16590764693771 % random_state 82\n",
      "r2_score 92.9637826100463 % random_state 83\n",
      "r2_score 92.42374710488286 % random_state 84\n",
      "r2_score 88.71153059892353 % random_state 85\n",
      "r2_score 88.7429707013064 % random_state 86\n",
      "r2_score 88.20358901872306 % random_state 87\n",
      "r2_score 88.28049064847572 % random_state 88\n",
      "r2_score 87.42491307320692 % random_state 89\n",
      "r2_score 86.41802137041873 % random_state 90\n",
      "r2_score 91.44108863510625 % random_state 91\n",
      "r2_score 90.9827136567945 % random_state 92\n",
      "r2_score 90.19654512416666 % random_state 93\n",
      "r2_score 89.72538314007608 % random_state 94\n",
      "r2_score 89.99922555107474 % random_state 95\n",
      "r2_score 88.12810311879245 % random_state 96\n",
      "r2_score 90.78399212098815 % random_state 97\n",
      "r2_score 92.76699212416503 % random_state 98\n",
      "r2_score 91.02870584694018 % random_state 99\n",
      "r2_score 91.68572901475454 % random_state 100\n",
      "r2_score 93.52464021782549 % random_state 101\n",
      "r2_score 91.26976566583052 % random_state 102\n",
      "r2_score 92.40229786035415 % random_state 103\n",
      "r2_score 87.52305542410845 % random_state 104\n",
      "r2_score 90.65455642927812 % random_state 105\n",
      "r2_score 88.9816200846616 % random_state 106\n",
      "r2_score 88.71500779397728 % random_state 107\n",
      "r2_score 90.9122335381468 % random_state 108\n",
      "r2_score 87.95621898619453 % random_state 109\n",
      "r2_score 91.67020729144735 % random_state 110\n",
      "r2_score 88.45074335943951 % random_state 111\n",
      "r2_score 91.11201663876318 % random_state 112\n",
      "r2_score 90.95946925539718 % random_state 113\n",
      "r2_score 90.65966517078834 % random_state 114\n",
      "r2_score 92.03070567649492 % random_state 115\n",
      "r2_score 89.26671724308423 % random_state 116\n",
      "r2_score 91.12923732788661 % random_state 117\n",
      "r2_score 91.58164637278561 % random_state 118\n",
      "r2_score 85.20757665229924 % random_state 119\n",
      "r2_score 84.92809534332525 % random_state 120\n",
      "r2_score 90.25020521214272 % random_state 121\n",
      "r2_score 86.86655362299169 % random_state 122\n",
      "r2_score 91.62860119375148 % random_state 123\n",
      "r2_score 89.99398368507802 % random_state 124\n",
      "r2_score 87.68559144628838 % random_state 125\n",
      "r2_score 88.53474707968422 % random_state 126\n",
      "r2_score 88.73651568024444 % random_state 127\n",
      "r2_score 90.89468643044826 % random_state 128\n",
      "r2_score 89.0988903544426 % random_state 129\n",
      "r2_score 90.23055652524177 % random_state 130\n",
      "r2_score 90.95811558599208 % random_state 131\n",
      "r2_score 89.82924946366605 % random_state 132\n",
      "r2_score 88.85739983829494 % random_state 133\n",
      "r2_score 88.36236807901791 % random_state 134\n",
      "r2_score 87.34479665879026 % random_state 135\n",
      "r2_score 89.10421571331264 % random_state 136\n",
      "r2_score 92.02552313821886 % random_state 137\n",
      "r2_score 90.46573486148401 % random_state 138\n",
      "r2_score 92.6650598408516 % random_state 139\n",
      "r2_score 86.72446617110047 % random_state 140\n",
      "r2_score 91.29959722924345 % random_state 141\n",
      "r2_score 86.65024766038275 % random_state 142\n",
      "r2_score 88.44815104368601 % random_state 143\n",
      "r2_score 90.22401040388071 % random_state 144\n",
      "r2_score 86.98885783536238 % random_state 145\n",
      "r2_score 90.59399416276264 % random_state 146\n",
      "r2_score 87.20848123795018 % random_state 147\n",
      "r2_score 91.76218267169656 % random_state 148\n",
      "r2_score 87.65384110246428 % random_state 149\n",
      "r2_score 92.27518986172214 % random_state 150\n",
      "r2_score 92.76591449184042 % random_state 151\n",
      "r2_score 90.16375362973474 % random_state 152\n",
      "r2_score 89.15417499471396 % random_state 153\n",
      "r2_score 92.57908916415198 % random_state 154\n",
      "r2_score 85.54389330021388 % random_state 155\n",
      "r2_score 92.35213595394775 % random_state 156\n",
      "r2_score 85.02661909921943 % random_state 157\n",
      "r2_score 92.33472868274968 % random_state 158\n",
      "r2_score 91.65198614599639 % random_state 159\n",
      "r2_score 89.53334150937815 % random_state 160\n",
      "r2_score 89.03782063079254 % random_state 161\n",
      "r2_score 90.83497961491003 % random_state 162\n",
      "r2_score 91.87149567192053 % random_state 163\n",
      "r2_score 92.32622973029805 % random_state 164\n",
      "r2_score 87.672521367187 % random_state 165\n",
      "r2_score 89.3496440376035 % random_state 166\n",
      "r2_score 89.5016859860985 % random_state 167\n",
      "r2_score 91.38733334382438 % random_state 168\n",
      "r2_score 90.4248271947208 % random_state 169\n",
      "r2_score 88.80162912439162 % random_state 170\n",
      "r2_score 90.20359575868119 % random_state 171\n",
      "r2_score 89.76791978891508 % random_state 172\n",
      "r2_score 91.81733205180922 % random_state 173\n",
      "r2_score 88.83254547523171 % random_state 174\n",
      "r2_score 89.02790243114057 % random_state 175\n",
      "r2_score 89.40422771456079 % random_state 176\n",
      "r2_score 92.52579989025116 % random_state 177\n",
      "r2_score 91.44699413147083 % random_state 178\n",
      "r2_score 90.52153282074579 % random_state 179\n",
      "r2_score 86.04517899734965 % random_state 180\n",
      "r2_score 91.54799999191124 % random_state 181\n",
      "r2_score 92.35010773009733 % random_state 182\n",
      "r2_score 88.90008201057721 % random_state 183\n",
      "r2_score 90.07841695561943 % random_state 184\n",
      "r2_score 90.57419871336583 % random_state 185\n",
      "r2_score 88.4965538512011 % random_state 186\n",
      "r2_score 91.96847945492125 % random_state 187\n",
      "r2_score 89.96795157706423 % random_state 188\n"
     ]
    },
    {
     "name": "stdout",
     "output_type": "stream",
     "text": [
      "r2_score 87.71855626239098 % random_state 189\n",
      "r2_score 90.69486986522628 % random_state 190\n",
      "r2_score 91.66863995814509 % random_state 191\n",
      "r2_score 91.42444193618563 % random_state 192\n",
      "r2_score 91.20443986349198 % random_state 193\n",
      "r2_score 93.51295380959719 % random_state 194\n",
      "r2_score 86.98530049134554 % random_state 195\n",
      "r2_score 91.44350950594439 % random_state 196\n",
      "r2_score 90.07494706178814 % random_state 197\n",
      "r2_score 91.01526514487169 % random_state 198\n",
      "r2_score 88.16072409476435 % random_state 199\n",
      "r2_score 88.15396812705221 % random_state 200\n",
      "r2_score 92.85752183927268 % random_state 201\n",
      "r2_score 92.0333545413804 % random_state 202\n",
      "r2_score 88.40311598360367 % random_state 203\n",
      "r2_score 88.66567890645187 % random_state 204\n",
      "r2_score 91.09802381580624 % random_state 205\n",
      "r2_score 90.00534091029742 % random_state 206\n",
      "r2_score 87.48162464474647 % random_state 207\n",
      "r2_score 88.10166414188312 % random_state 208\n",
      "r2_score 86.25496205589945 % random_state 209\n",
      "r2_score 87.77663054994949 % random_state 210\n",
      "r2_score 92.29447746292507 % random_state 211\n",
      "r2_score 92.41254412261912 % random_state 212\n",
      "r2_score 92.1943212805899 % random_state 213\n",
      "r2_score 90.78011506712093 % random_state 214\n",
      "r2_score 85.67872896655784 % random_state 215\n",
      "r2_score 90.15158075589565 % random_state 216\n",
      "r2_score 93.54908046779936 % random_state 217\n",
      "r2_score 92.03112889796866 % random_state 218\n",
      "r2_score 92.58456090134015 % random_state 219\n",
      "r2_score 88.87286513153956 % random_state 220\n",
      "r2_score 91.39891516372022 % random_state 221\n",
      "r2_score 86.05795272181234 % random_state 222\n",
      "r2_score 84.53191092642889 % random_state 223\n",
      "r2_score 85.93023482045393 % random_state 224\n",
      "r2_score 90.79940805537001 % random_state 225\n",
      "r2_score 88.14290509803844 % random_state 226\n",
      "r2_score 91.48607943788801 % random_state 227\n",
      "r2_score 89.1109023183744 % random_state 228\n",
      "r2_score 92.40400087790319 % random_state 229\n",
      "r2_score 87.44354453996411 % random_state 230\n",
      "r2_score 89.09413132028199 % random_state 231\n",
      "r2_score 90.94891296251238 % random_state 232\n",
      "r2_score 91.47775179360895 % random_state 233\n",
      "r2_score 93.34615004696106 % random_state 234\n",
      "r2_score 87.16306023606353 % random_state 235\n",
      "r2_score 89.8274913701377 % random_state 236\n",
      "r2_score 87.10141313371327 % random_state 237\n",
      "r2_score 92.26985684991635 % random_state 238\n",
      "r2_score 93.0804884896137 % random_state 239\n",
      "r2_score 85.20977780726699 % random_state 240\n",
      "r2_score 91.58208659357464 % random_state 241\n",
      "r2_score 83.79571360675975 % random_state 242\n",
      "r2_score 92.09169250279004 % random_state 243\n",
      "r2_score 86.35319882126257 % random_state 244\n",
      "r2_score 87.21152663268103 % random_state 245\n",
      "r2_score 89.61900862499465 % random_state 246\n",
      "r2_score 90.7967012753966 % random_state 247\n",
      "r2_score 87.87431725541461 % random_state 248\n",
      "r2_score 91.22896136285912 % random_state 249\n",
      "r2_score 90.00470318462672 % random_state 250\n",
      "r2_score 87.25673345462208 % random_state 251\n",
      "r2_score 88.18452463546734 % random_state 252\n",
      "r2_score 87.99444495890548 % random_state 253\n",
      "r2_score 88.07863657038006 % random_state 254\n",
      "r2_score 92.51047803128223 % random_state 255\n",
      "r2_score 89.95039662522977 % random_state 256\n",
      "r2_score 90.23202822474774 % random_state 257\n",
      "r2_score 91.21725471620728 % random_state 258\n",
      "r2_score 91.77671798885203 % random_state 259\n",
      "r2_score 92.79181733338082 % random_state 260\n",
      "r2_score 86.52500453956907 % random_state 261\n",
      "r2_score 91.95146893783493 % random_state 262\n",
      "r2_score 93.80588219537147 % random_state 263\n",
      "r2_score 93.80588219537147 % random_state 263\n",
      "r2_score 90.07122195985598 % random_state 264\n",
      "r2_score 87.74863102041334 % random_state 265\n",
      "r2_score 87.40251761310994 % random_state 266\n",
      "r2_score 87.06264889507247 % random_state 267\n",
      "r2_score 91.1929835984562 % random_state 268\n",
      "r2_score 89.17364556474143 % random_state 269\n",
      "r2_score 87.90550061532643 % random_state 270\n",
      "r2_score 87.67279590051409 % random_state 271\n",
      "r2_score 88.91198106388158 % random_state 272\n",
      "r2_score 89.14987864320977 % random_state 273\n",
      "r2_score 87.8806440246041 % random_state 274\n",
      "r2_score 90.3608886596572 % random_state 275\n",
      "r2_score 92.33928354350334 % random_state 276\n",
      "r2_score 90.39398914551066 % random_state 277\n",
      "r2_score 90.57550076997698 % random_state 278\n",
      "r2_score 92.25948564767786 % random_state 279\n",
      "r2_score 91.14398917393174 % random_state 280\n",
      "r2_score 91.7308250201892 % random_state 281\n",
      "r2_score 90.07787800588581 % random_state 282\n",
      "r2_score 89.02537179094341 % random_state 283\n",
      "r2_score 91.82896969761636 % random_state 284\n",
      "r2_score 93.07019262616681 % random_state 285\n",
      "r2_score 87.56760875563407 % random_state 286\n",
      "r2_score 92.07515996525972 % random_state 287\n",
      "r2_score 89.45553080977862 % random_state 288\n",
      "r2_score 93.10292852245036 % random_state 289\n",
      "r2_score 91.86867585179614 % random_state 290\n",
      "r2_score 88.32523418064993 % random_state 291\n",
      "r2_score 85.37503562681668 % random_state 292\n",
      "r2_score 89.3727266192058 % random_state 293\n",
      "r2_score 90.84604755987114 % random_state 294\n",
      "r2_score 87.05640505289928 % random_state 295\n",
      "r2_score 89.9444132339132 % random_state 296\n",
      "r2_score 89.0646603680713 % random_state 297\n",
      "r2_score 87.11401666722404 % random_state 298\n",
      "r2_score 91.36903047403764 % random_state 299\n",
      "r2_score 89.6227839460761 % random_state 300\n",
      "r2_score 90.41208351055141 % random_state 301\n",
      "r2_score 92.89711616500364 % random_state 302\n",
      "r2_score 87.70087254477053 % random_state 303\n",
      "r2_score 92.5711570995852 % random_state 304\n",
      "r2_score 89.33190733403403 % random_state 305\n",
      "r2_score 88.95442113906633 % random_state 306\n",
      "r2_score 86.66211132557055 % random_state 307\n",
      "r2_score 91.39578640728332 % random_state 308\n",
      "r2_score 86.87914131035168 % random_state 309\n",
      "r2_score 90.59946836473297 % random_state 310\n",
      "r2_score 93.6372697618902 % random_state 311\n",
      "r2_score 92.95916247719101 % random_state 312\n",
      "r2_score 86.81325468055533 % random_state 313\n",
      "r2_score 88.4633287847774 % random_state 314\n",
      "r2_score 88.35473863355247 % random_state 315\n",
      "r2_score 90.69857422204308 % random_state 316\n",
      "r2_score 92.34512272702416 % random_state 317\n",
      "r2_score 91.5960776563363 % random_state 318\n",
      "r2_score 92.72781097944008 % random_state 319\n",
      "r2_score 87.92636140338041 % random_state 320\n",
      "r2_score 91.12153499923743 % random_state 321\n",
      "r2_score 89.0084240162499 % random_state 322\n",
      "r2_score 87.94984791644991 % random_state 323\n",
      "r2_score 91.51261405907631 % random_state 324\n",
      "r2_score 85.038718047068 % random_state 325\n",
      "r2_score 92.446879013771 % random_state 326\n",
      "r2_score 81.13567344389672 % random_state 327\n",
      "r2_score 91.18600358293617 % random_state 328\n",
      "r2_score 87.35996962678644 % random_state 329\n",
      "r2_score 91.03231469476863 % random_state 330\n",
      "r2_score 93.21200607255362 % random_state 331\n",
      "r2_score 86.08904467009766 % random_state 332\n",
      "r2_score 90.64245596306813 % random_state 333\n",
      "r2_score 90.40264505087576 % random_state 334\n",
      "r2_score 86.25812787081135 % random_state 335\n",
      "r2_score 88.6680728305909 % random_state 336\n",
      "r2_score 90.71530312249939 % random_state 337\n",
      "r2_score 91.83117600522033 % random_state 338\n",
      "r2_score 86.76712584789935 % random_state 339\n",
      "r2_score 92.27790295575561 % random_state 340\n",
      "r2_score 88.6516882349086 % random_state 341\n",
      "r2_score 86.95119880364359 % random_state 342\n",
      "r2_score 90.76700582489391 % random_state 343\n",
      "r2_score 90.31091308684296 % random_state 344\n",
      "r2_score 87.12214052644678 % random_state 345\n",
      "r2_score 89.68951078088594 % random_state 346\n",
      "r2_score 85.1946150324587 % random_state 347\n",
      "r2_score 89.49118586258624 % random_state 348\n",
      "r2_score 90.68623321423522 % random_state 349\n",
      "r2_score 90.42332235765569 % random_state 350\n",
      "r2_score 88.24669699470995 % random_state 351\n",
      "r2_score 90.9753086857656 % random_state 352\n",
      "r2_score 89.31340991206741 % random_state 353\n",
      "r2_score 93.22824782011838 % random_state 354\n",
      "r2_score 91.19359668087169 % random_state 355\n",
      "r2_score 89.36266873417779 % random_state 356\n",
      "r2_score 91.03762204897944 % random_state 357\n",
      "r2_score 93.55304390992683 % random_state 358\n",
      "r2_score 85.85320425140023 % random_state 359\n",
      "r2_score 91.1445595434489 % random_state 360\n",
      "r2_score 90.26510265780429 % random_state 361\n",
      "r2_score 89.03411639811387 % random_state 362\n",
      "r2_score 86.70006406575669 % random_state 363\n",
      "r2_score 89.41766938332295 % random_state 364\n",
      "r2_score 90.85614803997836 % random_state 365\n",
      "r2_score 90.31014024911403 % random_state 366\n",
      "r2_score 92.05550555769906 % random_state 367\n",
      "r2_score 87.16581468743958 % random_state 368\n",
      "r2_score 91.11165341587986 % random_state 369\n",
      "r2_score 92.00511838704105 % random_state 370\n"
     ]
    },
    {
     "name": "stdout",
     "output_type": "stream",
     "text": [
      "r2_score 90.22041220823628 % random_state 371\n",
      "r2_score 86.19114739079822 % random_state 372\n",
      "r2_score 90.22626787723426 % random_state 373\n",
      "r2_score 90.22946039290444 % random_state 374\n",
      "r2_score 88.74828312469793 % random_state 375\n",
      "r2_score 88.34051277253884 % random_state 376\n",
      "r2_score 86.9358175823865 % random_state 377\n",
      "r2_score 88.8215385994134 % random_state 378\n",
      "r2_score 88.92832177790994 % random_state 379\n",
      "r2_score 89.61430903480358 % random_state 380\n",
      "r2_score 89.17495352737748 % random_state 381\n",
      "r2_score 91.81917917260496 % random_state 382\n",
      "r2_score 87.15386719951634 % random_state 383\n",
      "r2_score 89.33170897837975 % random_state 384\n",
      "r2_score 84.94839690926807 % random_state 385\n",
      "r2_score 89.07322440778009 % random_state 386\n",
      "r2_score 88.63379790873496 % random_state 387\n",
      "r2_score 87.08440353354987 % random_state 388\n",
      "r2_score 92.15293846874367 % random_state 389\n",
      "r2_score 88.34403517509392 % random_state 390\n",
      "r2_score 88.39134001950873 % random_state 391\n",
      "r2_score 89.74129018968308 % random_state 392\n",
      "r2_score 89.71257674323168 % random_state 393\n",
      "r2_score 88.2740852329336 % random_state 394\n",
      "r2_score 90.11783993760257 % random_state 395\n",
      "r2_score 90.21668378345868 % random_state 396\n",
      "r2_score 89.46383888881033 % random_state 397\n",
      "r2_score 90.59774635358694 % random_state 398\n",
      "r2_score 89.18551825004842 % random_state 399\n",
      "r2_score 89.17313175099295 % random_state 400\n",
      "r2_score 91.26442945144879 % random_state 401\n",
      "r2_score 90.59269846363432 % random_state 402\n",
      "r2_score 91.25698742924858 % random_state 403\n",
      "r2_score 83.47620107180462 % random_state 404\n",
      "r2_score 90.15385584033862 % random_state 405\n",
      "r2_score 87.10932407106021 % random_state 406\n",
      "r2_score 91.95648082275345 % random_state 407\n",
      "r2_score 86.10514271396092 % random_state 408\n",
      "r2_score 88.0241302882224 % random_state 409\n",
      "r2_score 88.63380317455177 % random_state 410\n",
      "r2_score 91.64751717769252 % random_state 411\n",
      "r2_score 91.75446616651615 % random_state 412\n",
      "r2_score 87.32473494549872 % random_state 413\n",
      "r2_score 89.81350291206823 % random_state 414\n",
      "r2_score 90.99839291559645 % random_state 415\n",
      "r2_score 91.93218200278814 % random_state 416\n",
      "r2_score 88.85802009231617 % random_state 417\n",
      "r2_score 86.76005114745448 % random_state 418\n",
      "r2_score 92.9017003088991 % random_state 419\n",
      "r2_score 90.46390185291655 % random_state 420\n",
      "r2_score 90.8245006951806 % random_state 421\n",
      "r2_score 90.71471340712512 % random_state 422\n",
      "r2_score 89.43530352257633 % random_state 423\n",
      "r2_score 90.88932628760837 % random_state 424\n",
      "r2_score 89.46008313679708 % random_state 425\n",
      "r2_score 92.81215822150483 % random_state 426\n",
      "r2_score 88.41690654315221 % random_state 427\n",
      "r2_score 87.40089653906648 % random_state 428\n",
      "r2_score 91.07187972020645 % random_state 429\n",
      "r2_score 91.3931328951875 % random_state 430\n",
      "r2_score 93.10535027624665 % random_state 431\n",
      "r2_score 90.4452099698279 % random_state 432\n",
      "r2_score 89.85681467602838 % random_state 433\n",
      "r2_score 86.20251566919934 % random_state 434\n",
      "r2_score 87.18741310013634 % random_state 435\n",
      "r2_score 92.43293064331074 % random_state 436\n",
      "r2_score 90.47471088921458 % random_state 437\n",
      "r2_score 91.34899353830005 % random_state 438\n",
      "r2_score 90.91678782552019 % random_state 439\n",
      "r2_score 85.6424330278922 % random_state 440\n",
      "r2_score 92.387028348922 % random_state 441\n",
      "r2_score 88.69539986018738 % random_state 442\n",
      "r2_score 92.23823265046498 % random_state 443\n",
      "r2_score 92.58509332791475 % random_state 444\n",
      "r2_score 89.0225509983347 % random_state 445\n",
      "r2_score 91.40445889719247 % random_state 446\n",
      "r2_score 88.26199912520698 % random_state 447\n",
      "r2_score 91.35988344736172 % random_state 448\n",
      "r2_score 91.67166876407106 % random_state 449\n",
      "r2_score 88.02969426864293 % random_state 450\n",
      "r2_score 90.92523020822118 % random_state 451\n",
      "r2_score 92.08574149352948 % random_state 452\n",
      "r2_score 92.02288282820736 % random_state 453\n",
      "r2_score 87.78164721839826 % random_state 454\n",
      "r2_score 89.78355940228022 % random_state 455\n",
      "r2_score 89.71953051945539 % random_state 456\n",
      "r2_score 90.98650320999641 % random_state 457\n",
      "r2_score 91.98023614358512 % random_state 458\n",
      "r2_score 92.08182070701002 % random_state 459\n",
      "r2_score 92.3370267228573 % random_state 460\n",
      "r2_score 86.05474462110354 % random_state 461\n",
      "r2_score 90.44055286145152 % random_state 462\n",
      "r2_score 91.52351603102917 % random_state 463\n",
      "r2_score 90.36502271006141 % random_state 464\n",
      "r2_score 91.23947465472304 % random_state 465\n",
      "r2_score 91.80642819246016 % random_state 466\n",
      "r2_score 87.95784047171506 % random_state 467\n",
      "r2_score 88.5946106039439 % random_state 468\n",
      "r2_score 89.63745887027332 % random_state 469\n",
      "r2_score 92.50466104987699 % random_state 470\n",
      "r2_score 84.74679875804256 % random_state 471\n",
      "r2_score 91.5166786785437 % random_state 472\n",
      "r2_score 89.29926374841764 % random_state 473\n",
      "r2_score 88.90790290816797 % random_state 474\n",
      "r2_score 90.91063512648043 % random_state 475\n",
      "r2_score 92.57065439199846 % random_state 476\n",
      "r2_score 90.99346145745879 % random_state 477\n",
      "r2_score 88.7477072822982 % random_state 478\n",
      "r2_score 91.84885757336303 % random_state 479\n",
      "r2_score 89.16012914305679 % random_state 480\n",
      "r2_score 85.78911913410519 % random_state 481\n",
      "r2_score 88.71200990172144 % random_state 482\n",
      "r2_score 92.01546136367887 % random_state 483\n",
      "r2_score 92.01302679713844 % random_state 484\n",
      "r2_score 91.93640193214735 % random_state 485\n",
      "r2_score 91.13627652163494 % random_state 486\n",
      "r2_score 88.08691182349918 % random_state 487\n",
      "r2_score 89.44578756933777 % random_state 488\n",
      "r2_score 85.2671864347173 % random_state 489\n",
      "r2_score 88.09797928868859 % random_state 490\n",
      "r2_score 92.54919663235415 % random_state 491\n",
      "r2_score 87.75944115307071 % random_state 492\n",
      "r2_score 91.1190772786615 % random_state 493\n",
      "r2_score 86.23553141569238 % random_state 494\n",
      "r2_score 92.18870226171406 % random_state 495\n",
      "r2_score 89.08355240721583 % random_state 496\n",
      "r2_score 90.53999304041825 % random_state 497\n",
      "r2_score 91.22676565491383 % random_state 498\n",
      "r2_score 91.3300715502496 % random_state 499\n",
      "r2_score 83.69054061428481 % random_state 500\n",
      "r2_score 88.6784589032682 % random_state 501\n",
      "r2_score 86.42909318114546 % random_state 502\n",
      "r2_score 91.29339292390232 % random_state 503\n",
      "r2_score 83.93401433961242 % random_state 504\n",
      "r2_score 89.56094579023808 % random_state 505\n",
      "r2_score 93.10234640088386 % random_state 506\n",
      "r2_score 90.4269068961207 % random_state 507\n",
      "r2_score 89.81772468726557 % random_state 508\n",
      "r2_score 87.48757430263532 % random_state 509\n",
      "r2_score 83.40752464842865 % random_state 510\n",
      "r2_score 89.99925536523645 % random_state 511\n",
      "r2_score 91.06307555744392 % random_state 512\n",
      "r2_score 84.12193572203527 % random_state 513\n",
      "r2_score 91.74860393189913 % random_state 514\n",
      "r2_score 90.1994606680945 % random_state 515\n",
      "r2_score 88.40911049697513 % random_state 516\n",
      "r2_score 90.49886686868133 % random_state 517\n",
      "r2_score 92.08903805297399 % random_state 518\n",
      "r2_score 89.01447618812571 % random_state 519\n",
      "r2_score 88.02954687796107 % random_state 520\n",
      "r2_score 88.75903418749833 % random_state 521\n",
      "r2_score 91.26401880283626 % random_state 522\n",
      "r2_score 92.51451938235967 % random_state 523\n",
      "r2_score 89.1608424189517 % random_state 524\n",
      "r2_score 92.40181049000904 % random_state 525\n",
      "r2_score 88.637111378121 % random_state 526\n",
      "r2_score 88.06153477763776 % random_state 527\n",
      "r2_score 91.04484015091624 % random_state 528\n",
      "r2_score 86.89840381462213 % random_state 529\n",
      "r2_score 87.95724003563919 % random_state 530\n",
      "r2_score 87.91577308123065 % random_state 531\n",
      "r2_score 91.61590148991772 % random_state 532\n",
      "r2_score 91.30029462403128 % random_state 533\n",
      "r2_score 88.17412215261066 % random_state 534\n",
      "r2_score 89.5168833831417 % random_state 535\n",
      "r2_score 88.43819925959731 % random_state 536\n",
      "r2_score 92.36240950226944 % random_state 537\n",
      "r2_score 90.24664987180068 % random_state 538\n",
      "r2_score 85.7846665267527 % random_state 539\n",
      "r2_score 91.44415437475372 % random_state 540\n",
      "r2_score 88.5262300939892 % random_state 541\n",
      "r2_score 91.4181543703926 % random_state 542\n",
      "r2_score 89.47021466038974 % random_state 543\n",
      "r2_score 88.8393731467761 % random_state 544\n",
      "r2_score 84.09339701993599 % random_state 545\n",
      "r2_score 91.44175586029291 % random_state 546\n",
      "r2_score 89.32664069463078 % random_state 547\n",
      "r2_score 93.19368680163561 % random_state 548\n",
      "r2_score 91.13739658015703 % random_state 549\n",
      "r2_score 90.47857969288803 % random_state 550\n",
      "r2_score 92.0999697786891 % random_state 551\n",
      "r2_score 90.4074755044824 % random_state 552\n",
      "r2_score 88.9310430638501 % random_state 553\n",
      "r2_score 87.65909338215411 % random_state 554\n",
      "r2_score 90.48258381176612 % random_state 555\n",
      "r2_score 91.57162653597095 % random_state 556\n",
      "r2_score 89.72234630988244 % random_state 557\n",
      "r2_score 87.21494221602752 % random_state 558\n",
      "r2_score 90.40290146663473 % random_state 559\n"
     ]
    },
    {
     "name": "stdout",
     "output_type": "stream",
     "text": [
      "r2_score 88.87035947146386 % random_state 560\n",
      "r2_score 92.17606192838768 % random_state 561\n",
      "r2_score 89.26203902106357 % random_state 562\n",
      "r2_score 84.64333550790863 % random_state 563\n",
      "r2_score 91.26551922837777 % random_state 564\n",
      "r2_score 91.10223875329518 % random_state 565\n",
      "r2_score 87.01944594482677 % random_state 566\n",
      "r2_score 93.22528667232908 % random_state 567\n",
      "r2_score 91.80152298894113 % random_state 568\n",
      "r2_score 90.39696211610668 % random_state 569\n",
      "r2_score 89.92527903842769 % random_state 570\n",
      "r2_score 87.63985163908082 % random_state 571\n",
      "r2_score 89.89597356308933 % random_state 572\n",
      "r2_score 91.16344510719915 % random_state 573\n",
      "r2_score 91.2943988608267 % random_state 574\n",
      "r2_score 88.11309720844484 % random_state 575\n",
      "r2_score 92.45725356429703 % random_state 576\n",
      "r2_score 92.54167650919777 % random_state 577\n",
      "r2_score 84.54252763663625 % random_state 578\n",
      "r2_score 87.6886299905599 % random_state 579\n",
      "r2_score 88.6377097525941 % random_state 580\n",
      "r2_score 90.00501050570634 % random_state 581\n",
      "r2_score 90.06693219551804 % random_state 582\n",
      "r2_score 90.51422025417882 % random_state 583\n",
      "r2_score 92.78680151625564 % random_state 584\n",
      "r2_score 89.14170667827736 % random_state 585\n",
      "r2_score 88.91577301735553 % random_state 586\n",
      "r2_score 93.02515324273553 % random_state 587\n",
      "r2_score 89.92183898759458 % random_state 588\n",
      "r2_score 91.13988765766095 % random_state 589\n",
      "r2_score 90.11877925979088 % random_state 590\n",
      "r2_score 89.44666127810332 % random_state 591\n",
      "r2_score 92.85367719019195 % random_state 592\n",
      "r2_score 90.77002064671355 % random_state 593\n",
      "r2_score 92.75815284611303 % random_state 594\n",
      "r2_score 87.825445889079 % random_state 595\n",
      "r2_score 90.07075866815848 % random_state 596\n",
      "r2_score 89.84909966620513 % random_state 597\n",
      "r2_score 88.84116021629761 % random_state 598\n",
      "r2_score 91.81603428003348 % random_state 599\n",
      "r2_score 92.3071105338324 % random_state 600\n",
      "r2_score 93.02901303880672 % random_state 601\n",
      "r2_score 81.57664079439671 % random_state 602\n",
      "r2_score 86.45120637036365 % random_state 603\n",
      "r2_score 89.31990164137932 % random_state 604\n",
      "r2_score 90.20184428963702 % random_state 605\n",
      "r2_score 91.31686755438533 % random_state 606\n",
      "r2_score 90.45340936049502 % random_state 607\n",
      "r2_score 91.15412747116629 % random_state 608\n",
      "r2_score 90.66025570419744 % random_state 609\n",
      "r2_score 87.925534246901 % random_state 610\n",
      "r2_score 87.0872810317805 % random_state 611\n",
      "r2_score 92.09254250714247 % random_state 612\n",
      "r2_score 90.9752081502534 % random_state 613\n",
      "r2_score 88.78081512994235 % random_state 614\n",
      "r2_score 90.86253481813125 % random_state 615\n",
      "r2_score 89.17982878223644 % random_state 616\n",
      "r2_score 90.67551522706201 % random_state 617\n",
      "r2_score 92.74501846008738 % random_state 618\n",
      "r2_score 92.16580172810704 % random_state 619\n",
      "r2_score 90.16671861494875 % random_state 620\n",
      "r2_score 89.4687365956512 % random_state 621\n",
      "r2_score 90.61210153787869 % random_state 622\n",
      "r2_score 89.19789498042675 % random_state 623\n",
      "r2_score 89.05340319207153 % random_state 624\n",
      "r2_score 85.01590334783779 % random_state 625\n",
      "r2_score 91.3017474596632 % random_state 626\n",
      "r2_score 87.65265986963038 % random_state 627\n",
      "r2_score 89.07378528854471 % random_state 628\n",
      "r2_score 88.97766098023932 % random_state 629\n",
      "r2_score 89.89860945519501 % random_state 630\n",
      "r2_score 93.08691293595682 % random_state 631\n",
      "r2_score 93.07591003775934 % random_state 632\n",
      "r2_score 89.64114634950614 % random_state 633\n",
      "r2_score 92.01835195025846 % random_state 634\n",
      "r2_score 90.460015198266 % random_state 635\n",
      "r2_score 88.67770163665352 % random_state 636\n",
      "r2_score 89.28823124346799 % random_state 637\n",
      "r2_score 93.66251923684182 % random_state 638\n",
      "r2_score 90.72668707836671 % random_state 639\n",
      "r2_score 86.45741865884366 % random_state 640\n",
      "r2_score 91.9251478779241 % random_state 641\n",
      "r2_score 90.46410847316588 % random_state 642\n",
      "r2_score 90.21310666397383 % random_state 643\n",
      "r2_score 89.71548228961447 % random_state 644\n",
      "r2_score 87.94590106017304 % random_state 645\n",
      "r2_score 91.28511298137272 % random_state 646\n",
      "r2_score 89.24314413340211 % random_state 647\n",
      "r2_score 93.02740032235712 % random_state 648\n",
      "r2_score 89.02811948319156 % random_state 649\n",
      "r2_score 88.07164401782342 % random_state 650\n",
      "r2_score 87.96493580063192 % random_state 651\n",
      "r2_score 87.57049667552022 % random_state 652\n",
      "r2_score 89.40702789471176 % random_state 653\n",
      "r2_score 89.74639999900475 % random_state 654\n",
      "r2_score 90.65765191993907 % random_state 655\n",
      "r2_score 87.67927998213291 % random_state 656\n",
      "r2_score 90.41672669861424 % random_state 657\n",
      "r2_score 88.70244393438853 % random_state 658\n",
      "r2_score 88.66961475795662 % random_state 659\n",
      "r2_score 89.7279285050409 % random_state 660\n",
      "r2_score 90.22110972923502 % random_state 661\n",
      "r2_score 89.3498017055597 % random_state 662\n",
      "r2_score 90.57716648220743 % random_state 663\n",
      "r2_score 90.52344270453526 % random_state 664\n",
      "r2_score 92.7603604825999 % random_state 665\n",
      "r2_score 92.22947335376108 % random_state 666\n",
      "r2_score 89.73397554219912 % random_state 667\n",
      "r2_score 87.37395765904718 % random_state 668\n",
      "r2_score 92.42204563288627 % random_state 669\n",
      "r2_score 90.22013364131749 % random_state 670\n",
      "r2_score 91.47680019227757 % random_state 671\n",
      "r2_score 94.09431938986181 % random_state 672\n",
      "r2_score 94.09431938986181 % random_state 672\n",
      "r2_score 91.82147956483465 % random_state 673\n",
      "r2_score 89.03650817409773 % random_state 674\n",
      "r2_score 88.60752707942797 % random_state 675\n",
      "r2_score 89.5437792895428 % random_state 676\n",
      "r2_score 89.63597826051766 % random_state 677\n",
      "r2_score 88.2022228046101 % random_state 678\n",
      "r2_score 91.49013581642801 % random_state 679\n",
      "r2_score 92.40977461070123 % random_state 680\n",
      "r2_score 88.73505200298524 % random_state 681\n",
      "r2_score 86.73251291506755 % random_state 682\n",
      "r2_score 81.8121230474947 % random_state 683\n",
      "r2_score 88.22989184379605 % random_state 684\n",
      "r2_score 91.38211067766481 % random_state 685\n",
      "r2_score 90.62294441362585 % random_state 686\n",
      "r2_score 91.7078430329604 % random_state 687\n",
      "r2_score 88.86699749723978 % random_state 688\n",
      "r2_score 92.47907747590429 % random_state 689\n",
      "r2_score 88.95726522869072 % random_state 690\n",
      "r2_score 89.50924830203022 % random_state 691\n",
      "r2_score 90.87050780711581 % random_state 692\n",
      "r2_score 88.34923949361885 % random_state 693\n",
      "r2_score 90.13273276545013 % random_state 694\n",
      "r2_score 90.6830992500392 % random_state 695\n",
      "r2_score 90.86422329153537 % random_state 696\n",
      "r2_score 84.36199955853563 % random_state 697\n",
      "r2_score 89.66809495999252 % random_state 698\n",
      "r2_score 91.12707189668515 % random_state 699\n",
      "r2_score 90.04810849706442 % random_state 700\n",
      "r2_score 90.89232131931252 % random_state 701\n",
      "r2_score 90.59330626675312 % random_state 702\n",
      "r2_score 89.7701043561042 % random_state 703\n",
      "r2_score 91.54455252471355 % random_state 704\n",
      "r2_score 90.02819285716049 % random_state 705\n",
      "r2_score 88.08542387863847 % random_state 706\n",
      "r2_score 91.98289506951429 % random_state 707\n",
      "r2_score 88.707238036899 % random_state 708\n",
      "r2_score 91.65030856530379 % random_state 709\n",
      "r2_score 89.80807576148625 % random_state 710\n",
      "r2_score 89.72316730922884 % random_state 711\n",
      "r2_score 92.42008467927015 % random_state 712\n",
      "r2_score 92.55190769603817 % random_state 713\n",
      "r2_score 92.31790791829904 % random_state 714\n",
      "r2_score 90.96558028813315 % random_state 715\n",
      "r2_score 90.74404687067693 % random_state 716\n",
      "r2_score 89.17647560486716 % random_state 717\n",
      "r2_score 91.47490088207267 % random_state 718\n",
      "r2_score 90.97702568489836 % random_state 719\n",
      "r2_score 86.97281579038673 % random_state 720\n",
      "r2_score 90.32811227831706 % random_state 721\n",
      "r2_score 90.89061267942691 % random_state 722\n",
      "r2_score 92.79024271102332 % random_state 723\n",
      "r2_score 90.02899467357331 % random_state 724\n",
      "r2_score 92.94508009254733 % random_state 725\n",
      "r2_score 89.24736920546914 % random_state 726\n",
      "r2_score 89.10110533030429 % random_state 727\n",
      "r2_score 90.98887111376662 % random_state 728\n",
      "r2_score 92.07933231732578 % random_state 729\n",
      "r2_score 90.5838659237825 % random_state 730\n",
      "r2_score 92.38168656383647 % random_state 731\n",
      "r2_score 90.35895369288917 % random_state 732\n",
      "r2_score 93.21546667896278 % random_state 733\n",
      "r2_score 87.69641903043082 % random_state 734\n",
      "r2_score 90.00552739539796 % random_state 735\n",
      "r2_score 90.33778786541257 % random_state 736\n",
      "r2_score 88.13832220072526 % random_state 737\n",
      "r2_score 90.64949868483785 % random_state 738\n",
      "r2_score 90.79397978918212 % random_state 739\n",
      "r2_score 87.73907297522456 % random_state 740\n",
      "r2_score 91.96988658514887 % random_state 741\n",
      "r2_score 87.95646994008898 % random_state 742\n",
      "r2_score 91.75274443903227 % random_state 743\n"
     ]
    },
    {
     "name": "stdout",
     "output_type": "stream",
     "text": [
      "r2_score 90.7807429624246 % random_state 744\n",
      "r2_score 92.56077373646424 % random_state 745\n",
      "r2_score 91.09051355631249 % random_state 746\n",
      "r2_score 87.5334715488994 % random_state 747\n",
      "r2_score 92.21139318106498 % random_state 748\n",
      "r2_score 89.74681309496724 % random_state 749\n",
      "r2_score 88.96295789233216 % random_state 750\n",
      "r2_score 89.50899964482139 % random_state 751\n",
      "r2_score 91.32147032334119 % random_state 752\n",
      "r2_score 91.30850717716534 % random_state 753\n",
      "r2_score 91.46572180462151 % random_state 754\n",
      "r2_score 90.29661216496766 % random_state 755\n",
      "r2_score 88.80327487601073 % random_state 756\n",
      "r2_score 88.81970266567565 % random_state 757\n",
      "r2_score 88.65383836616176 % random_state 758\n",
      "r2_score 91.09513256604085 % random_state 759\n",
      "r2_score 92.54030227974562 % random_state 760\n",
      "r2_score 88.02913350598229 % random_state 761\n",
      "r2_score 88.78502609100106 % random_state 762\n",
      "r2_score 88.63351513469905 % random_state 763\n",
      "r2_score 87.93261370001397 % random_state 764\n",
      "r2_score 90.16087616364602 % random_state 765\n",
      "r2_score 89.3905082641877 % random_state 766\n",
      "r2_score 92.31044097531105 % random_state 767\n",
      "r2_score 91.89662481368373 % random_state 768\n",
      "r2_score 86.2821225771264 % random_state 769\n",
      "r2_score 87.66168692669216 % random_state 770\n",
      "r2_score 90.42114820209943 % random_state 771\n",
      "r2_score 92.2222984379179 % random_state 772\n",
      "r2_score 91.40281200112936 % random_state 773\n",
      "r2_score 89.14672988913924 % random_state 774\n",
      "r2_score 90.85637296639574 % random_state 775\n",
      "r2_score 91.16603163903223 % random_state 776\n",
      "r2_score 91.45512109545135 % random_state 777\n",
      "r2_score 87.23404223391894 % random_state 778\n",
      "r2_score 86.8203632524154 % random_state 779\n",
      "r2_score 89.17666884158484 % random_state 780\n",
      "r2_score 91.41102040646693 % random_state 781\n",
      "r2_score 89.90362363337219 % random_state 782\n",
      "r2_score 89.8450737859047 % random_state 783\n",
      "r2_score 90.84972816230258 % random_state 784\n",
      "r2_score 91.51731291912436 % random_state 785\n",
      "r2_score 92.21673094282713 % random_state 786\n",
      "r2_score 90.27377251374594 % random_state 787\n",
      "r2_score 88.57876550932585 % random_state 788\n",
      "r2_score 92.51250213687487 % random_state 789\n",
      "r2_score 91.8025279241399 % random_state 790\n",
      "r2_score 91.33836486600387 % random_state 791\n",
      "r2_score 88.43921160699385 % random_state 792\n",
      "r2_score 89.50717915514606 % random_state 793\n",
      "r2_score 91.43814744954588 % random_state 794\n",
      "r2_score 89.81378654316099 % random_state 795\n",
      "r2_score 85.33240314966464 % random_state 796\n",
      "r2_score 85.67558477009352 % random_state 797\n",
      "r2_score 91.08533563729424 % random_state 798\n",
      "r2_score 90.4602977077207 % random_state 799\n",
      "r2_score 89.68390852877025 % random_state 800\n",
      "r2_score 94.39266880843905 % random_state 801\n",
      "r2_score 94.39266880843905 % random_state 801\n",
      "r2_score 87.15517899634402 % random_state 802\n",
      "r2_score 89.29439743830679 % random_state 803\n",
      "r2_score 92.66837432159073 % random_state 804\n",
      "r2_score 89.90687057232033 % random_state 805\n",
      "r2_score 91.84784654331081 % random_state 806\n",
      "r2_score 91.04727091850067 % random_state 807\n",
      "r2_score 88.62884347062526 % random_state 808\n",
      "r2_score 91.23107917918034 % random_state 809\n",
      "r2_score 91.15264676880584 % random_state 810\n",
      "r2_score 88.07252445303405 % random_state 811\n",
      "r2_score 91.42384229938803 % random_state 812\n",
      "r2_score 90.8832134030214 % random_state 813\n",
      "r2_score 87.74399997740099 % random_state 814\n",
      "r2_score 90.13669695669667 % random_state 815\n",
      "r2_score 92.34058131777184 % random_state 816\n",
      "r2_score 86.67021033014755 % random_state 817\n",
      "r2_score 85.46060909850766 % random_state 818\n",
      "r2_score 86.91601023672546 % random_state 819\n",
      "r2_score 88.32728201358749 % random_state 820\n",
      "r2_score 87.35614425374759 % random_state 821\n",
      "r2_score 85.43241088399431 % random_state 822\n",
      "r2_score 89.66812669581763 % random_state 823\n",
      "r2_score 92.53853598746863 % random_state 824\n",
      "r2_score 93.01767144582051 % random_state 825\n",
      "r2_score 87.77132022270241 % random_state 826\n",
      "r2_score 90.77210996685332 % random_state 827\n",
      "r2_score 88.10319312019985 % random_state 828\n",
      "r2_score 89.27473796692202 % random_state 829\n",
      "r2_score 87.36179803627205 % random_state 830\n",
      "r2_score 88.1734017066756 % random_state 831\n",
      "r2_score 88.9578568524205 % random_state 832\n",
      "r2_score 89.96395667337552 % random_state 833\n",
      "r2_score 91.99930997251349 % random_state 834\n",
      "r2_score 90.47151007412775 % random_state 835\n",
      "r2_score 86.72429957321096 % random_state 836\n",
      "r2_score 92.1701861931712 % random_state 837\n",
      "r2_score 91.43405502627988 % random_state 838\n",
      "r2_score 88.99800653230005 % random_state 839\n",
      "r2_score 92.10377082525211 % random_state 840\n",
      "r2_score 88.28958142411443 % random_state 841\n",
      "r2_score 85.1140845909593 % random_state 842\n",
      "r2_score 87.4983160717977 % random_state 843\n",
      "r2_score 91.58915943535621 % random_state 844\n",
      "r2_score 90.3611086869517 % random_state 845\n",
      "r2_score 87.32988147446665 % random_state 846\n",
      "r2_score 88.50993969622661 % random_state 847\n",
      "r2_score 88.46621240030026 % random_state 848\n",
      "r2_score 91.85257722489085 % random_state 849\n",
      "r2_score 91.07261994747877 % random_state 850\n",
      "r2_score 93.1231666040584 % random_state 851\n",
      "r2_score 87.79224161948007 % random_state 852\n",
      "r2_score 92.13118944640377 % random_state 853\n",
      "r2_score 92.07091284956019 % random_state 854\n",
      "r2_score 91.74772506250928 % random_state 855\n",
      "r2_score 91.89400213095804 % random_state 856\n",
      "r2_score 91.03773435170146 % random_state 857\n",
      "r2_score 92.00552837705655 % random_state 858\n",
      "r2_score 91.10403001155977 % random_state 859\n",
      "r2_score 92.95292866961044 % random_state 860\n",
      "r2_score 89.8418686065325 % random_state 861\n",
      "r2_score 92.45919968608901 % random_state 862\n",
      "r2_score 90.70785653196144 % random_state 863\n",
      "r2_score 89.35110989775485 % random_state 864\n",
      "r2_score 91.0960485092275 % random_state 865\n",
      "r2_score 89.63496627587378 % random_state 866\n",
      "r2_score 90.35901327776313 % random_state 867\n",
      "r2_score 91.52481789745545 % random_state 868\n",
      "r2_score 91.50873731756846 % random_state 869\n",
      "r2_score 86.83803084339281 % random_state 870\n",
      "r2_score 91.27148900308292 % random_state 871\n",
      "r2_score 79.50450985156031 % random_state 872\n",
      "r2_score 86.34220515767154 % random_state 873\n",
      "r2_score 90.02287775878379 % random_state 874\n",
      "r2_score 92.50490606173084 % random_state 875\n",
      "r2_score 85.7124233677724 % random_state 876\n",
      "r2_score 93.54814440014366 % random_state 877\n",
      "r2_score 91.34577493372223 % random_state 878\n",
      "r2_score 88.91795181756427 % random_state 879\n",
      "r2_score 90.49783645477815 % random_state 880\n",
      "r2_score 90.77028850358356 % random_state 881\n",
      "r2_score 88.88892978965694 % random_state 882\n",
      "r2_score 90.23275398832803 % random_state 883\n",
      "r2_score 88.57750643456663 % random_state 884\n",
      "r2_score 91.07983712973919 % random_state 885\n",
      "r2_score 89.25866103592503 % random_state 886\n",
      "r2_score 90.35092674256396 % random_state 887\n",
      "r2_score 89.35056115389641 % random_state 888\n",
      "r2_score 91.73215294344588 % random_state 889\n",
      "r2_score 90.84146210029051 % random_state 890\n",
      "r2_score 90.7625596023974 % random_state 891\n",
      "r2_score 87.7715578964797 % random_state 892\n",
      "r2_score 85.17042137962785 % random_state 893\n",
      "r2_score 91.0448017319613 % random_state 894\n",
      "r2_score 91.44421764561815 % random_state 895\n",
      "r2_score 90.18511809766018 % random_state 896\n",
      "r2_score 90.42709516874238 % random_state 897\n",
      "r2_score 91.01022916190774 % random_state 898\n",
      "r2_score 90.40086684794004 % random_state 899\n",
      "r2_score 90.78021809137667 % random_state 900\n",
      "r2_score 90.74016768240006 % random_state 901\n",
      "r2_score 91.55189171873093 % random_state 902\n",
      "r2_score 91.90734056137579 % random_state 903\n",
      "r2_score 91.5342811547462 % random_state 904\n",
      "r2_score 93.09687889232308 % random_state 905\n",
      "r2_score 91.8325580678463 % random_state 906\n",
      "r2_score 90.33787373312673 % random_state 907\n",
      "r2_score 89.62288122447994 % random_state 908\n",
      "r2_score 92.72617448041784 % random_state 909\n",
      "r2_score 91.67855786493627 % random_state 910\n",
      "r2_score 92.41155062857227 % random_state 911\n",
      "r2_score 93.48915892163411 % random_state 912\n",
      "r2_score 88.80413024512774 % random_state 913\n",
      "r2_score 87.67867748210664 % random_state 914\n",
      "r2_score 93.98219282310865 % random_state 915\n",
      "r2_score 89.3412604009277 % random_state 916\n",
      "r2_score 89.59431200902226 % random_state 917\n",
      "r2_score 88.11347215851882 % random_state 918\n",
      "r2_score 88.72257289107696 % random_state 919\n",
      "r2_score 89.87024380083353 % random_state 920\n",
      "r2_score 84.16103302891999 % random_state 921\n",
      "r2_score 87.97206618430462 % random_state 922\n",
      "r2_score 89.89512317998059 % random_state 923\n",
      "r2_score 86.4891137091318 % random_state 924\n",
      "r2_score 91.2281601187172 % random_state 925\n",
      "r2_score 91.14682634480309 % random_state 926\n",
      "r2_score 89.7310957974497 % random_state 927\n"
     ]
    },
    {
     "name": "stdout",
     "output_type": "stream",
     "text": [
      "r2_score 88.66724053937848 % random_state 928\n",
      "r2_score 89.60321386677069 % random_state 929\n",
      "r2_score 89.45695195537525 % random_state 930\n",
      "r2_score 91.60605957060486 % random_state 931\n",
      "r2_score 89.06016131242305 % random_state 932\n",
      "r2_score 87.68912441588947 % random_state 933\n",
      "r2_score 90.18751752874475 % random_state 934\n",
      "r2_score 90.26791217971412 % random_state 935\n",
      "r2_score 87.92160332713073 % random_state 936\n",
      "r2_score 91.24350183298064 % random_state 937\n",
      "r2_score 87.38644621798059 % random_state 938\n",
      "r2_score 90.319174348593 % random_state 939\n",
      "r2_score 91.10619632255191 % random_state 940\n",
      "r2_score 91.45403782720271 % random_state 941\n",
      "r2_score 91.1542337346094 % random_state 942\n",
      "r2_score 89.09026420986777 % random_state 943\n",
      "r2_score 93.46513138175825 % random_state 944\n",
      "r2_score 88.83057733686283 % random_state 945\n",
      "r2_score 92.19243198702802 % random_state 946\n",
      "r2_score 89.31050484937477 % random_state 947\n",
      "r2_score 90.16330374480387 % random_state 948\n",
      "r2_score 91.4628030478474 % random_state 949\n",
      "r2_score 91.83811814305261 % random_state 950\n",
      "r2_score 92.05379803038973 % random_state 951\n",
      "r2_score 89.43249826344102 % random_state 952\n",
      "r2_score 85.9603110626542 % random_state 953\n",
      "r2_score 91.27773220471347 % random_state 954\n",
      "r2_score 89.39814128470657 % random_state 955\n",
      "r2_score 83.35796887560703 % random_state 956\n",
      "r2_score 92.37145003886062 % random_state 957\n",
      "r2_score 88.4152863662146 % random_state 958\n",
      "r2_score 90.16647150152555 % random_state 959\n",
      "r2_score 87.19328676940931 % random_state 960\n",
      "r2_score 90.01055056119797 % random_state 961\n",
      "r2_score 87.01119408417782 % random_state 962\n",
      "r2_score 90.17809962391527 % random_state 963\n",
      "r2_score 89.13854257480284 % random_state 964\n",
      "r2_score 87.24766513256024 % random_state 965\n",
      "r2_score 92.93955586700213 % random_state 966\n",
      "r2_score 89.2214554942307 % random_state 967\n",
      "r2_score 88.84056427441901 % random_state 968\n",
      "r2_score 92.54448083447622 % random_state 969\n",
      "r2_score 90.58985503787902 % random_state 970\n",
      "r2_score 92.99214562282981 % random_state 971\n",
      "r2_score 88.43376332486129 % random_state 972\n",
      "r2_score 93.20481389764383 % random_state 973\n",
      "r2_score 92.06128794168774 % random_state 974\n",
      "r2_score 88.70263143945046 % random_state 975\n",
      "r2_score 92.22029849000748 % random_state 976\n",
      "r2_score 90.88965383061468 % random_state 977\n",
      "r2_score 92.57362195802331 % random_state 978\n",
      "r2_score 89.11405599996478 % random_state 979\n",
      "r2_score 90.92377871154885 % random_state 980\n",
      "r2_score 90.53759227282164 % random_state 981\n",
      "r2_score 85.70913727319787 % random_state 982\n",
      "r2_score 89.78095412240661 % random_state 983\n",
      "r2_score 90.54192715817362 % random_state 984\n",
      "r2_score 87.85027022728627 % random_state 985\n",
      "r2_score 87.70669788509305 % random_state 986\n",
      "r2_score 91.72595074976458 % random_state 987\n",
      "r2_score 88.18137878881537 % random_state 988\n",
      "r2_score 86.27470611181855 % random_state 989\n",
      "r2_score 88.19183958653964 % random_state 990\n",
      "r2_score 88.81300946539312 % random_state 991\n",
      "r2_score 92.18779242453603 % random_state 992\n",
      "r2_score 85.98663395384176 % random_state 993\n",
      "r2_score 87.56860520714801 % random_state 994\n",
      "r2_score 89.74482178632728 % random_state 995\n",
      "r2_score 90.82271064477887 % random_state 996\n",
      "r2_score 82.64885994121533 % random_state 997\n",
      "r2_score 92.67410966958647 % random_state 998\n",
      "r2_score 88.54316133281606 % random_state 999\n"
     ]
    }
   ],
   "source": [
    "max_r2_score = 0\n",
    "maxRS = 0\n",
    "\n",
    "for i in range(1,1000):\n",
    "    x_train, x_test, y_train, y_test = train_test_split(x, y, test_size = 0.25, random_state = i)\n",
    "    reg = LinearRegression()\n",
    "    reg.fit(x_train, y_train)\n",
    "    y_pred = reg.predict(x_test)\n",
    "    r2score = r2_score(y_test,y_pred)\n",
    "    print('r2_score', r2score*100,'%', 'random_state', i)\n",
    "    \n",
    "    if r2score > max_r2_score:\n",
    "        max_r2_score = r2score\n",
    "        maxRS = i\n",
    "        print('r2_score', max_r2_score*100,'%', 'random_state', i)"
   ]
  },
  {
   "cell_type": "code",
   "execution_count": 26,
   "id": "7ae90b6f",
   "metadata": {},
   "outputs": [
    {
     "name": "stdout",
     "output_type": "stream",
     "text": [
      "Best R2 Score is 0.9439266880843906 on Random_state 801\n"
     ]
    }
   ],
   "source": [
    "print('Best R2 Score is', max_r2_score, 'on Random_state', maxRS)"
   ]
  },
  {
   "cell_type": "code",
   "execution_count": 27,
   "id": "aa70139c",
   "metadata": {},
   "outputs": [],
   "source": [
    "x_train, x_test, y_train, y_test = train_test_split(x, y, test_size = 0.25, random_state = 801)"
   ]
  },
  {
   "cell_type": "code",
   "execution_count": 28,
   "id": "4287cf87",
   "metadata": {},
   "outputs": [],
   "source": [
    "reg = LinearRegression()\n",
    "reg.fit(x_train, y_train)\n",
    "y_pred = reg.predict(x_test)"
   ]
  },
  {
   "cell_type": "code",
   "execution_count": 29,
   "id": "6c234a93",
   "metadata": {},
   "outputs": [
    {
     "name": "stdout",
     "output_type": "stream",
     "text": [
      "Intercept:  13.964898174097932\n",
      "Linear Coefficient:  [3.94680714 2.72224002 0.03556241]\n"
     ]
    }
   ],
   "source": [
    "print('Intercept: ', reg.intercept_)\n",
    "print('Linear Coefficient: ', reg.coef_)"
   ]
  },
  {
   "cell_type": "code",
   "execution_count": 31,
   "id": "2041aa9f",
   "metadata": {},
   "outputs": [
    {
     "name": "stdout",
     "output_type": "stream",
     "text": [
      "Root Mean Squared Error: 1.2448822295297037\n",
      "R2 Score:  0.9439266880843906\n"
     ]
    }
   ],
   "source": [
    "print('Root Mean Squared Error:', np.sqrt(mean_squared_error(y_test, y_pred)))\n",
    "print('R2 Score: ', r2_score(y_test, y_pred))"
   ]
  },
  {
   "cell_type": "markdown",
   "id": "77854e38",
   "metadata": {},
   "source": [
    "Since there seems to be some relation between independent variable --> TV and Target Variable --> sales, therefore applying Hypothesis Testing to identify whether relation between them exists or not"
   ]
  },
  {
   "cell_type": "markdown",
   "id": "23260465",
   "metadata": {},
   "source": [
    "# Hypothesis Testing and P-Values\n",
    "\n",
    "- Ho = there is no relation between TV Advt and Sales.\n",
    "- Ha = There exists a relation between TV advt and Sales."
   ]
  },
  {
   "cell_type": "code",
   "execution_count": 32,
   "id": "87c0fc58",
   "metadata": {},
   "outputs": [
    {
     "data": {
      "text/plain": [
       "Intercept    2.443396e-03\n",
       "sales        1.467390e-42\n",
       "dtype: float64"
      ]
     },
     "execution_count": 32,
     "metadata": {},
     "output_type": "execute_result"
    }
   ],
   "source": [
    "import statsmodels.formula.api as smf\n",
    "\n",
    "lm = smf.ols(formula = 'TV ~ sales', data = data).fit()\n",
    "\n",
    "lm.pvalues"
   ]
  },
  {
   "cell_type": "markdown",
   "id": "39d4c37f",
   "metadata": {},
   "source": [
    "- now since, the p-value is less than alpha value(i.e. 0.05), we reject the null hypothesis.\n",
    "- which means, there exists a relation between the TV advt and sales."
   ]
  },
  {
   "cell_type": "code",
   "execution_count": 33,
   "id": "f4095c80",
   "metadata": {},
   "outputs": [
    {
     "data": {
      "text/plain": [
       "0.6118750508500711"
      ]
     },
     "execution_count": 33,
     "metadata": {},
     "output_type": "execute_result"
    }
   ],
   "source": [
    "lm.rsquared"
   ]
  },
  {
   "cell_type": "code",
   "execution_count": 34,
   "id": "03178d70",
   "metadata": {},
   "outputs": [
    {
     "name": "stdout",
     "output_type": "stream",
     "text": [
      "Intercept:  2.938889369459412\n",
      "TV:  0.0457646454553976\n",
      "Radio:  0.18853001691820445\n",
      "NewsPaper:  -0.0010374930424763285\n"
     ]
    }
   ],
   "source": [
    "x = data[['TV','radio','newspaper']]\n",
    "y = data.sales\n",
    "\n",
    "lm = LinearRegression()\n",
    "lm.fit(x,y)\n",
    "\n",
    "print('Intercept: ',lm.intercept_)\n",
    "print('TV: ', lm.coef_[0])\n",
    "print('Radio: ', lm.coef_[1])\n",
    "print('NewsPaper: ', lm.coef_[2])"
   ]
  },
  {
   "cell_type": "code",
   "execution_count": 35,
   "id": "59f0afd6",
   "metadata": {},
   "outputs": [
    {
     "data": {
      "text/html": [
       "<table class=\"simpletable\">\n",
       "<caption>OLS Regression Results</caption>\n",
       "<tr>\n",
       "  <th>Dep. Variable:</th>          <td>sales</td>      <th>  R-squared:         </th> <td>   0.897</td>\n",
       "</tr>\n",
       "<tr>\n",
       "  <th>Model:</th>                   <td>OLS</td>       <th>  Adj. R-squared:    </th> <td>   0.896</td>\n",
       "</tr>\n",
       "<tr>\n",
       "  <th>Method:</th>             <td>Least Squares</td>  <th>  F-statistic:       </th> <td>   570.3</td>\n",
       "</tr>\n",
       "<tr>\n",
       "  <th>Date:</th>             <td>Wed, 15 Jun 2022</td> <th>  Prob (F-statistic):</th> <td>1.58e-96</td>\n",
       "</tr>\n",
       "<tr>\n",
       "  <th>Time:</th>                 <td>18:36:40</td>     <th>  Log-Likelihood:    </th> <td> -386.18</td>\n",
       "</tr>\n",
       "<tr>\n",
       "  <th>No. Observations:</th>      <td>   200</td>      <th>  AIC:               </th> <td>   780.4</td>\n",
       "</tr>\n",
       "<tr>\n",
       "  <th>Df Residuals:</th>          <td>   196</td>      <th>  BIC:               </th> <td>   793.6</td>\n",
       "</tr>\n",
       "<tr>\n",
       "  <th>Df Model:</th>              <td>     3</td>      <th>                     </th>     <td> </td>   \n",
       "</tr>\n",
       "<tr>\n",
       "  <th>Covariance Type:</th>      <td>nonrobust</td>    <th>                     </th>     <td> </td>   \n",
       "</tr>\n",
       "</table>\n",
       "<table class=\"simpletable\">\n",
       "<tr>\n",
       "      <td></td>         <th>coef</th>     <th>std err</th>      <th>t</th>      <th>P>|t|</th>  <th>[0.025</th>    <th>0.975]</th>  \n",
       "</tr>\n",
       "<tr>\n",
       "  <th>Intercept</th> <td>    2.9389</td> <td>    0.312</td> <td>    9.422</td> <td> 0.000</td> <td>    2.324</td> <td>    3.554</td>\n",
       "</tr>\n",
       "<tr>\n",
       "  <th>TV</th>        <td>    0.0458</td> <td>    0.001</td> <td>   32.809</td> <td> 0.000</td> <td>    0.043</td> <td>    0.049</td>\n",
       "</tr>\n",
       "<tr>\n",
       "  <th>radio</th>     <td>    0.1885</td> <td>    0.009</td> <td>   21.893</td> <td> 0.000</td> <td>    0.172</td> <td>    0.206</td>\n",
       "</tr>\n",
       "<tr>\n",
       "  <th>newspaper</th> <td>   -0.0010</td> <td>    0.006</td> <td>   -0.177</td> <td> 0.860</td> <td>   -0.013</td> <td>    0.011</td>\n",
       "</tr>\n",
       "</table>\n",
       "<table class=\"simpletable\">\n",
       "<tr>\n",
       "  <th>Omnibus:</th>       <td>60.414</td> <th>  Durbin-Watson:     </th> <td>   2.084</td>\n",
       "</tr>\n",
       "<tr>\n",
       "  <th>Prob(Omnibus):</th> <td> 0.000</td> <th>  Jarque-Bera (JB):  </th> <td> 151.241</td>\n",
       "</tr>\n",
       "<tr>\n",
       "  <th>Skew:</th>          <td>-1.327</td> <th>  Prob(JB):          </th> <td>1.44e-33</td>\n",
       "</tr>\n",
       "<tr>\n",
       "  <th>Kurtosis:</th>      <td> 6.332</td> <th>  Cond. No.          </th> <td>    454.</td>\n",
       "</tr>\n",
       "</table><br/><br/>Notes:<br/>[1] Standard Errors assume that the covariance matrix of the errors is correctly specified."
      ],
      "text/plain": [
       "<class 'statsmodels.iolib.summary.Summary'>\n",
       "\"\"\"\n",
       "                            OLS Regression Results                            \n",
       "==============================================================================\n",
       "Dep. Variable:                  sales   R-squared:                       0.897\n",
       "Model:                            OLS   Adj. R-squared:                  0.896\n",
       "Method:                 Least Squares   F-statistic:                     570.3\n",
       "Date:                Wed, 15 Jun 2022   Prob (F-statistic):           1.58e-96\n",
       "Time:                        18:36:40   Log-Likelihood:                -386.18\n",
       "No. Observations:                 200   AIC:                             780.4\n",
       "Df Residuals:                     196   BIC:                             793.6\n",
       "Df Model:                           3                                         \n",
       "Covariance Type:            nonrobust                                         \n",
       "==============================================================================\n",
       "                 coef    std err          t      P>|t|      [0.025      0.975]\n",
       "------------------------------------------------------------------------------\n",
       "Intercept      2.9389      0.312      9.422      0.000       2.324       3.554\n",
       "TV             0.0458      0.001     32.809      0.000       0.043       0.049\n",
       "radio          0.1885      0.009     21.893      0.000       0.172       0.206\n",
       "newspaper     -0.0010      0.006     -0.177      0.860      -0.013       0.011\n",
       "==============================================================================\n",
       "Omnibus:                       60.414   Durbin-Watson:                   2.084\n",
       "Prob(Omnibus):                  0.000   Jarque-Bera (JB):              151.241\n",
       "Skew:                          -1.327   Prob(JB):                     1.44e-33\n",
       "Kurtosis:                       6.332   Cond. No.                         454.\n",
       "==============================================================================\n",
       "\n",
       "Notes:\n",
       "[1] Standard Errors assume that the covariance matrix of the errors is correctly specified.\n",
       "\"\"\""
      ]
     },
     "execution_count": 35,
     "metadata": {},
     "output_type": "execute_result"
    }
   ],
   "source": [
    "lm = smf.ols(formula = 'sales ~ TV + radio + newspaper', data = data).fit()\n",
    "\n",
    "lm.summary()"
   ]
  },
  {
   "cell_type": "code",
   "execution_count": 36,
   "id": "579c6b85",
   "metadata": {},
   "outputs": [
    {
     "data": {
      "text/plain": [
       "0.8971942610828956"
      ]
     },
     "execution_count": 36,
     "metadata": {},
     "output_type": "execute_result"
    }
   ],
   "source": [
    "lm = smf.ols(formula = 'sales ~ TV + radio', data = data).fit()\n",
    "\n",
    "lm.rsquared"
   ]
  },
  {
   "cell_type": "code",
   "execution_count": 37,
   "id": "7428268c",
   "metadata": {},
   "outputs": [
    {
     "data": {
      "text/plain": [
       "0.8972106381789522"
      ]
     },
     "execution_count": 37,
     "metadata": {},
     "output_type": "execute_result"
    }
   ],
   "source": [
    "lm = smf.ols(formula = 'sales ~ TV + radio + newspaper', data = data).fit()\n",
    "\n",
    "lm.rsquared"
   ]
  },
  {
   "cell_type": "code",
   "execution_count": 38,
   "id": "de6ce017",
   "metadata": {},
   "outputs": [
    {
     "data": {
      "text/plain": [
       "0.611875050850071"
      ]
     },
     "execution_count": 38,
     "metadata": {},
     "output_type": "execute_result"
    }
   ],
   "source": [
    "lm = smf.ols(formula = 'sales ~ TV', data = data).fit()\n",
    "\n",
    "lm.rsquared"
   ]
  },
  {
   "cell_type": "markdown",
   "id": "3434b688",
   "metadata": {},
   "source": [
    "##### Observations\n",
    "\n",
    "1. P value for TV and radio is very low, that means there is a strong relation between these variables and sales\n",
    "\n",
    "2. p value for newspaper is 0.86, which is very high. we can assume that newspaper does not have any significant effect on sales.\n",
    "\n",
    "3. R2 and Adj. R2 values are 0.897 and 0.896 respectively, which means the intercept model is very good.\n",
    "\n",
    "4. it is clear from R2 values for different cases that: TV alone have correlation of about 61% with sales data, TV+Radio makes R2 value around 89.7% which is almost equal to TV+Radio+Newspaper."
   ]
  },
  {
   "cell_type": "markdown",
   "id": "bcc62c42",
   "metadata": {},
   "source": [
    "# Cross Validation"
   ]
  },
  {
   "cell_type": "code",
   "execution_count": 39,
   "id": "4dcb6669",
   "metadata": {},
   "outputs": [
    {
     "name": "stdout",
     "output_type": "stream",
     "text": [
      "At CV: 2\n",
      "Cross Validation Score is:  89.08473589845056\n",
      "R2_Score is :  0.9439266880843906\n",
      "At CV: 3\n",
      "Cross Validation Score is:  89.16464591145558\n",
      "R2_Score is :  0.9439266880843906\n",
      "At CV: 4\n",
      "Cross Validation Score is:  89.00070660549507\n",
      "R2_Score is :  0.9439266880843906\n",
      "At CV: 5\n",
      "Cross Validation Score is:  88.71063495438436\n",
      "R2_Score is :  0.9439266880843906\n",
      "At CV: 6\n",
      "Cross Validation Score is:  88.99208882186672\n",
      "R2_Score is :  0.9439266880843906\n",
      "At CV: 7\n",
      "Cross Validation Score is:  88.59930219823539\n",
      "R2_Score is :  0.9439266880843906\n",
      "At CV: 8\n",
      "Cross Validation Score is:  88.26686689919153\n",
      "R2_Score is :  0.9439266880843906\n",
      "At CV: 9\n",
      "Cross Validation Score is:  88.22728227103586\n",
      "R2_Score is :  0.9439266880843906\n",
      "At CV: 10\n",
      "Cross Validation Score is:  88.53562237979617\n",
      "R2_Score is :  0.9439266880843906\n"
     ]
    }
   ],
   "source": [
    "from sklearn.model_selection import cross_val_score\n",
    "\n",
    "r2score = r2_score(y_test, y_pred)\n",
    "\n",
    "for i in range (2,11):\n",
    "    cvscore = cross_val_score(reg, x, y, cv = i)\n",
    "    cvs = cvscore.mean()\n",
    "    print(\"At CV:\", i)\n",
    "    print(\"Cross Validation Score is: \", cvs*100)\n",
    "    print(\"R2_Score is : \", r2score)"
   ]
  },
  {
   "cell_type": "code",
   "execution_count": 40,
   "id": "8be3549a",
   "metadata": {},
   "outputs": [
    {
     "name": "stdout",
     "output_type": "stream",
     "text": [
      "The CV Score is:  0.8916464591145559 \n",
      "The R2_Score is:  0.9439266880843906\n"
     ]
    }
   ],
   "source": [
    "cvscore_selected = cross_val_score(reg, x, y, cv = 3).mean()\n",
    "print(\"The CV Score is: \", cvscore_selected, \"\\nThe R2_Score is: \", r2score)"
   ]
  },
  {
   "cell_type": "code",
   "execution_count": 41,
   "id": "e27461bc",
   "metadata": {},
   "outputs": [
    {
     "name": "stdout",
     "output_type": "stream",
     "text": [
      "R2 Score:  0.9289786628992593\n",
      "Mean Squared Error:  1.962859306255429\n",
      "At CV: 2\n",
      "Cross Validation Score is:  74.26940135453893\n",
      "R2_Score is :  0.9289786628992593\n",
      "At CV: 3\n",
      "Cross Validation Score is:  81.00228721420737\n",
      "R2_Score is :  0.9289786628992593\n",
      "At CV: 4\n",
      "Cross Validation Score is:  83.02940078413418\n",
      "R2_Score is :  0.9289786628992593\n",
      "At CV: 5\n",
      "Cross Validation Score is:  84.04415171122854\n",
      "R2_Score is :  0.9289786628992593\n",
      "At CV: 6\n",
      "Cross Validation Score is:  85.21180775341581\n",
      "R2_Score is :  0.9289786628992593\n",
      "At CV: 7\n",
      "Cross Validation Score is:  84.7672588365639\n",
      "R2_Score is :  0.9289786628992593\n",
      "At CV: 8\n",
      "Cross Validation Score is:  84.73386075565246\n",
      "R2_Score is :  0.9289786628992593\n",
      "At CV: 9\n",
      "Cross Validation Score is:  85.13061382661031\n",
      "R2_Score is :  0.9289786628992593\n",
      "At CV: 10\n",
      "Cross Validation Score is:  85.62745894082171\n",
      "R2_Score is :  0.9289786628992593\n"
     ]
    }
   ],
   "source": [
    "from sklearn import svm\n",
    "\n",
    "regr = svm.SVR()\n",
    "\n",
    "regr.fit(x_train, y_train)\n",
    "\n",
    "y_pred = regr.predict(x_test)\n",
    "\n",
    "print('R2 Score: ', r2_score(y_test, y_pred))\n",
    "\n",
    "print('Mean Squared Error: ', mean_squared_error(y_test, y_pred))\n",
    "\n",
    "r2score = r2_score(y_test, y_pred)\n",
    "\n",
    "for i in range (2,11):\n",
    "    cvscore = cross_val_score(regr, x, y, cv = i)\n",
    "    cvs = cvscore.mean()\n",
    "    print(\"At CV:\", i)\n",
    "    print(\"Cross Validation Score is: \", cvs*100)\n",
    "    print(\"R2_Score is : \", r2score)"
   ]
  },
  {
   "cell_type": "code",
   "execution_count": 42,
   "id": "d79c0c82",
   "metadata": {},
   "outputs": [
    {
     "name": "stdout",
     "output_type": "stream",
     "text": [
      "The CV Score is:  0.8562745894082171 \n",
      "The R2_Score is:  0.9289786628992593\n"
     ]
    }
   ],
   "source": [
    "cvscore_selected = cross_val_score(regr, x, y, cv = 10).mean()\n",
    "print(\"The CV Score is: \", cvscore_selected, \"\\nThe R2_Score is: \", r2score)"
   ]
  },
  {
   "cell_type": "code",
   "execution_count": 43,
   "id": "71eb2534",
   "metadata": {},
   "outputs": [
    {
     "name": "stdout",
     "output_type": "stream",
     "text": [
      "R2 Score:  0.9733880879671174\n",
      "Mean Squared Error:  0.7354893799999971\n",
      "At CV: 2\n",
      "Cross Validation Score is:  97.16854109663554\n",
      "R2_Score is :  0.9733880879671174\n",
      "At CV: 3\n",
      "Cross Validation Score is:  97.27390089708308\n",
      "R2_Score is :  0.9733880879671174\n",
      "At CV: 4\n",
      "Cross Validation Score is:  97.7522570288597\n",
      "R2_Score is :  0.9733880879671174\n",
      "At CV: 5\n",
      "Cross Validation Score is:  97.58204929166257\n",
      "R2_Score is :  0.9733880879671174\n",
      "At CV: 6\n",
      "Cross Validation Score is:  97.72862667704206\n",
      "R2_Score is :  0.9733880879671174\n",
      "At CV: 7\n",
      "Cross Validation Score is:  97.64030176230378\n",
      "R2_Score is :  0.9733880879671174\n",
      "At CV: 8\n",
      "Cross Validation Score is:  97.75690878840688\n",
      "R2_Score is :  0.9733880879671174\n",
      "At CV: 9\n",
      "Cross Validation Score is:  97.554923443454\n",
      "R2_Score is :  0.9733880879671174\n"
     ]
    }
   ],
   "source": [
    "from sklearn.ensemble import RandomForestRegressor\n",
    "\n",
    "rf = RandomForestRegressor()\n",
    "\n",
    "rf.fit(x_train, y_train)\n",
    "y_pred = rf.predict(x_test)\n",
    "\n",
    "\n",
    "print('R2 Score: ', r2_score(y_test, y_pred))\n",
    "\n",
    "print('Mean Squared Error: ', mean_squared_error(y_test, y_pred))\n",
    "\n",
    "r2score = r2_score(y_test, y_pred)\n",
    "\n",
    "for i in range (2,10):\n",
    "    cvscore = cross_val_score(rf, x, y, cv = i)\n",
    "    cvs = cvscore.mean()\n",
    "    print(\"At CV:\", i)\n",
    "    print(\"Cross Validation Score is: \", cvs*100)\n",
    "    print(\"R2_Score is : \", r2score)"
   ]
  },
  {
   "cell_type": "code",
   "execution_count": 44,
   "id": "c9afe921",
   "metadata": {},
   "outputs": [
    {
     "name": "stdout",
     "output_type": "stream",
     "text": [
      "The CV Score is:  0.9772942714504537 \n",
      "The R2_Score is:  0.9733880879671174\n"
     ]
    }
   ],
   "source": [
    "cvscore_selected = cross_val_score(rf, x, y, cv = 8).mean()\n",
    "print(\"The CV Score is: \", cvscore_selected, \"\\nThe R2_Score is: \", r2score)"
   ]
  },
  {
   "cell_type": "code",
   "execution_count": 45,
   "id": "7cdef016",
   "metadata": {},
   "outputs": [
    {
     "name": "stdout",
     "output_type": "stream",
     "text": [
      "R2 Score:  0.9656438985821943\n",
      "Mean Squared Error:  0.9495201885447452\n",
      "At CV: 2\n",
      "Cross Validation Score is:  96.87062686514292\n",
      "R2_Score is :  0.9656438985821943\n",
      "At CV: 3\n",
      "Cross Validation Score is:  96.70934527104112\n",
      "R2_Score is :  0.9656438985821943\n",
      "At CV: 4\n",
      "Cross Validation Score is:  97.1013909538373\n",
      "R2_Score is :  0.9656438985821943\n",
      "At CV: 5\n",
      "Cross Validation Score is:  96.54105249170779\n",
      "R2_Score is :  0.9656438985821943\n",
      "At CV: 6\n",
      "Cross Validation Score is:  96.96968255369592\n",
      "R2_Score is :  0.9656438985821943\n",
      "At CV: 7\n",
      "Cross Validation Score is:  96.76654644237219\n",
      "R2_Score is :  0.9656438985821943\n",
      "At CV: 8\n",
      "Cross Validation Score is:  97.4772176208644\n",
      "R2_Score is :  0.9656438985821943\n",
      "At CV: 9\n",
      "Cross Validation Score is:  96.99528534889143\n",
      "R2_Score is :  0.9656438985821943\n"
     ]
    }
   ],
   "source": [
    "import xgboost as xgb\n",
    "xgb = xgb.XGBRegressor()\n",
    "\n",
    "xgb.fit(x_train, y_train)\n",
    "\n",
    "y_pred = xgb.predict(x_test)\n",
    "\n",
    "print('R2 Score: ', r2_score(y_test, y_pred))\n",
    "\n",
    "print('Mean Squared Error: ', mean_squared_error(y_test, y_pred))\n",
    "\n",
    "r2score = r2_score(y_test, y_pred)\n",
    "\n",
    "for i in range (2,10):\n",
    "    cvscore = cross_val_score(xgb, x, y, cv = i)\n",
    "    cvs = cvscore.mean()\n",
    "    print(\"At CV:\", i)\n",
    "    print(\"Cross Validation Score is: \", cvs*100)\n",
    "    print(\"R2_Score is : \", r2score)"
   ]
  },
  {
   "cell_type": "code",
   "execution_count": 46,
   "id": "696fcddd",
   "metadata": {},
   "outputs": [
    {
     "name": "stdout",
     "output_type": "stream",
     "text": [
      "The CV Score is:  0.9747721762086439 \n",
      "The R2_Score is:  0.9656438985821943\n"
     ]
    }
   ],
   "source": [
    "cvscore_selected = cross_val_score(xgb, x, y, cv = 8).mean()\n",
    "print(\"The CV Score is: \", cvscore_selected, \"\\nThe R2_Score is: \", r2score)"
   ]
  },
  {
   "cell_type": "code",
   "execution_count": 47,
   "id": "bca1f382",
   "metadata": {},
   "outputs": [
    {
     "name": "stdout",
     "output_type": "stream",
     "text": [
      "R2 Score:  0.9483822039540336\n",
      "Mean Squared Error:  1.4265919999999996\n",
      "At CV: 2\n",
      "Cross Validation Score is:  87.08759690342313\n",
      "R2_Score is :  0.9483822039540336\n",
      "At CV: 3\n",
      "Cross Validation Score is:  88.71288956408932\n",
      "R2_Score is :  0.9483822039540336\n",
      "At CV: 4\n",
      "Cross Validation Score is:  91.17144709082889\n",
      "R2_Score is :  0.9483822039540336\n",
      "At CV: 5\n",
      "Cross Validation Score is:  90.85710686189529\n",
      "R2_Score is :  0.9483822039540336\n",
      "At CV: 6\n",
      "Cross Validation Score is:  91.4253631934962\n",
      "R2_Score is :  0.9483822039540336\n",
      "At CV: 7\n",
      "Cross Validation Score is:  91.28003507698193\n",
      "R2_Score is :  0.9483822039540336\n",
      "At CV: 8\n",
      "Cross Validation Score is:  91.68735496707048\n",
      "R2_Score is :  0.9483822039540336\n",
      "At CV: 9\n",
      "Cross Validation Score is:  91.3493270804459\n",
      "R2_Score is :  0.9483822039540336\n"
     ]
    }
   ],
   "source": [
    "from sklearn.neighbors import KNeighborsRegressor\n",
    "\n",
    "knn = KNeighborsRegressor()\n",
    "\n",
    "knn.fit(x_train, y_train)\n",
    "y_pred = knn.predict(x_test)\n",
    "\n",
    "\n",
    "print('R2 Score: ', r2_score(y_test, y_pred))\n",
    "\n",
    "print('Mean Squared Error: ', mean_squared_error(y_test, y_pred))\n",
    "\n",
    "r2score = r2_score(y_test, y_pred)\n",
    "\n",
    "for i in range (2,10):\n",
    "    cvscore = cross_val_score(knn, x, y, cv = i)\n",
    "    cvs = cvscore.mean()\n",
    "    print(\"At CV:\", i)\n",
    "    print(\"Cross Validation Score is: \", cvs*100)\n",
    "    print(\"R2_Score is : \", r2score)"
   ]
  },
  {
   "cell_type": "code",
   "execution_count": 48,
   "id": "62ad0f7c",
   "metadata": {},
   "outputs": [
    {
     "name": "stdout",
     "output_type": "stream",
     "text": [
      "The CV Score is:  0.9168735496707048 \n",
      "The R2_Score is:  0.9483822039540336\n"
     ]
    }
   ],
   "source": [
    "cvscore_selected = cross_val_score(knn, x, y, cv = 8).mean()\n",
    "print(\"The CV Score is: \", cvscore_selected, \"\\nThe R2_Score is: \", r2score)"
   ]
  },
  {
   "cell_type": "markdown",
   "id": "6acda6de",
   "metadata": {},
   "source": [
    "##### Observations:\n",
    "\n",
    "1. Linear Regression Model:\n",
    "        - R2 Score: 0.94\n",
    "        - CV Score: 0.89\n",
    "2. SVM Regression Model:\n",
    "        - R2 Score: 0.92\n",
    "        - CV Score: 0.85\n",
    "3. Random Forest Regression Model:\n",
    "        - R2 Score: 0.97\n",
    "        - CV Score: 0.97\n",
    "4. XGB Regression Model:\n",
    "        - R2 Score: 0.96\n",
    "        - CV Score: 0.97\n",
    "5. KNeighbors Regression Model:\n",
    "        - R2 Score: 0.94\n",
    "        - CV Score: 0.91\n",
    "        \n",
    "        \n",
    "\n",
    "Random Forest Regression Model has the best R2 Score and CV Score.\n",
    "\n",
    "Therefore, selecting Random Forest Regression Model for HyperParameter Tuning."
   ]
  },
  {
   "cell_type": "markdown",
   "id": "a38411cc",
   "metadata": {},
   "source": [
    "# Hyper Parameter Tuning"
   ]
  },
  {
   "cell_type": "code",
   "execution_count": 49,
   "id": "2f82cf8f",
   "metadata": {},
   "outputs": [
    {
     "name": "stdout",
     "output_type": "stream",
     "text": [
      "Best Param ==> {'max_depth': 16, 'min_samples_leaf': 1, 'min_samples_split': 2, 'n_estimators': 70}\n",
      "R2 Score:  0.9749267162215569\n",
      "Mean Squared Error:  0.6929653877550979\n"
     ]
    }
   ],
   "source": [
    "from sklearn.model_selection import GridSearchCV\n",
    "\n",
    "param_grid = {'n_estimators': np.arange(10,100,10), \n",
    "              'max_depth': np.arange(1,21,5), \n",
    "              'min_samples_split': np.arange(2,21,5),\n",
    "              'min_samples_leaf': np.arange(1,11,2)}\n",
    "\n",
    "grd = GridSearchCV(rf, param_grid = param_grid)\n",
    "grd.fit(x_train, y_train)\n",
    "\n",
    "print('Best Param ==>', grd.best_params_)\n",
    "\n",
    "rf = grd.best_estimator_\n",
    "\n",
    "rf.fit(x_train, y_train)\n",
    "y_pred = rf.predict(x_test)\n",
    "\n",
    "\n",
    "print('R2 Score: ', rf.score(x_test, y_test))\n",
    "\n",
    "print('Mean Squared Error: ', mean_squared_error(y_test, y_pred))"
   ]
  },
  {
   "cell_type": "code",
   "execution_count": 50,
   "id": "bb8549b6",
   "metadata": {},
   "outputs": [
    {
     "data": {
      "text/plain": [
       "['Sales_Prediction_Model.pkl']"
      ]
     },
     "execution_count": 50,
     "metadata": {},
     "output_type": "execute_result"
    }
   ],
   "source": [
    "# Saving the Model\n",
    "\n",
    "import joblib\n",
    "joblib.dump(rf, \"Sales_Prediction_Model.pkl\")"
   ]
  },
  {
   "cell_type": "code",
   "execution_count": null,
   "id": "001ce188",
   "metadata": {},
   "outputs": [],
   "source": []
  }
 ],
 "metadata": {
  "kernelspec": {
   "display_name": "Python 3 (ipykernel)",
   "language": "python",
   "name": "python3"
  },
  "language_info": {
   "codemirror_mode": {
    "name": "ipython",
    "version": 3
   },
   "file_extension": ".py",
   "mimetype": "text/x-python",
   "name": "python",
   "nbconvert_exporter": "python",
   "pygments_lexer": "ipython3",
   "version": "3.9.6"
  }
 },
 "nbformat": 4,
 "nbformat_minor": 5
}
