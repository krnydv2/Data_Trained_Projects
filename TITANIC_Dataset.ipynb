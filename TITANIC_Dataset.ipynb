{
 "cells": [
  {
   "cell_type": "code",
   "execution_count": 1,
   "id": "b853748b",
   "metadata": {},
   "outputs": [],
   "source": [
    "import pandas as pd\n",
    "import numpy as np\n",
    "from sklearn.model_selection import train_test_split, GridSearchCV\n",
    "from sklearn.metrics import accuracy_score, confusion_matrix, roc_curve, roc_auc_score, classification_report\n",
    "import matplotlib.pyplot as plt\n",
    "%matplotlib inline\n",
    "import seaborn as sns\n",
    "import pickle\n",
    "\n",
    "\n",
    "\n",
    "import warnings\n",
    "warnings.filterwarnings('ignore')"
   ]
  },
  {
   "cell_type": "code",
   "execution_count": 2,
   "id": "c2720681",
   "metadata": {},
   "outputs": [
    {
     "data": {
      "text/html": [
       "<div>\n",
       "<style scoped>\n",
       "    .dataframe tbody tr th:only-of-type {\n",
       "        vertical-align: middle;\n",
       "    }\n",
       "\n",
       "    .dataframe tbody tr th {\n",
       "        vertical-align: top;\n",
       "    }\n",
       "\n",
       "    .dataframe thead th {\n",
       "        text-align: right;\n",
       "    }\n",
       "</style>\n",
       "<table border=\"1\" class=\"dataframe\">\n",
       "  <thead>\n",
       "    <tr style=\"text-align: right;\">\n",
       "      <th></th>\n",
       "      <th>PassengerId</th>\n",
       "      <th>Survived</th>\n",
       "      <th>Pclass</th>\n",
       "      <th>Name</th>\n",
       "      <th>Sex</th>\n",
       "      <th>Age</th>\n",
       "      <th>SibSp</th>\n",
       "      <th>Parch</th>\n",
       "      <th>Ticket</th>\n",
       "      <th>Fare</th>\n",
       "      <th>Cabin</th>\n",
       "      <th>Embarked</th>\n",
       "    </tr>\n",
       "  </thead>\n",
       "  <tbody>\n",
       "    <tr>\n",
       "      <th>0</th>\n",
       "      <td>1</td>\n",
       "      <td>0</td>\n",
       "      <td>3</td>\n",
       "      <td>Braund, Mr. Owen Harris</td>\n",
       "      <td>male</td>\n",
       "      <td>22.0</td>\n",
       "      <td>1</td>\n",
       "      <td>0</td>\n",
       "      <td>A/5 21171</td>\n",
       "      <td>7.2500</td>\n",
       "      <td>NaN</td>\n",
       "      <td>S</td>\n",
       "    </tr>\n",
       "    <tr>\n",
       "      <th>1</th>\n",
       "      <td>2</td>\n",
       "      <td>1</td>\n",
       "      <td>1</td>\n",
       "      <td>Cumings, Mrs. John Bradley (Florence Briggs Th...</td>\n",
       "      <td>female</td>\n",
       "      <td>38.0</td>\n",
       "      <td>1</td>\n",
       "      <td>0</td>\n",
       "      <td>PC 17599</td>\n",
       "      <td>71.2833</td>\n",
       "      <td>C85</td>\n",
       "      <td>C</td>\n",
       "    </tr>\n",
       "    <tr>\n",
       "      <th>2</th>\n",
       "      <td>3</td>\n",
       "      <td>1</td>\n",
       "      <td>3</td>\n",
       "      <td>Heikkinen, Miss. Laina</td>\n",
       "      <td>female</td>\n",
       "      <td>26.0</td>\n",
       "      <td>0</td>\n",
       "      <td>0</td>\n",
       "      <td>STON/O2. 3101282</td>\n",
       "      <td>7.9250</td>\n",
       "      <td>NaN</td>\n",
       "      <td>S</td>\n",
       "    </tr>\n",
       "    <tr>\n",
       "      <th>3</th>\n",
       "      <td>4</td>\n",
       "      <td>1</td>\n",
       "      <td>1</td>\n",
       "      <td>Futrelle, Mrs. Jacques Heath (Lily May Peel)</td>\n",
       "      <td>female</td>\n",
       "      <td>35.0</td>\n",
       "      <td>1</td>\n",
       "      <td>0</td>\n",
       "      <td>113803</td>\n",
       "      <td>53.1000</td>\n",
       "      <td>C123</td>\n",
       "      <td>S</td>\n",
       "    </tr>\n",
       "    <tr>\n",
       "      <th>4</th>\n",
       "      <td>5</td>\n",
       "      <td>0</td>\n",
       "      <td>3</td>\n",
       "      <td>Allen, Mr. William Henry</td>\n",
       "      <td>male</td>\n",
       "      <td>35.0</td>\n",
       "      <td>0</td>\n",
       "      <td>0</td>\n",
       "      <td>373450</td>\n",
       "      <td>8.0500</td>\n",
       "      <td>NaN</td>\n",
       "      <td>S</td>\n",
       "    </tr>\n",
       "  </tbody>\n",
       "</table>\n",
       "</div>"
      ],
      "text/plain": [
       "   PassengerId  Survived  Pclass  \\\n",
       "0            1         0       3   \n",
       "1            2         1       1   \n",
       "2            3         1       3   \n",
       "3            4         1       1   \n",
       "4            5         0       3   \n",
       "\n",
       "                                                Name     Sex   Age  SibSp  \\\n",
       "0                            Braund, Mr. Owen Harris    male  22.0      1   \n",
       "1  Cumings, Mrs. John Bradley (Florence Briggs Th...  female  38.0      1   \n",
       "2                             Heikkinen, Miss. Laina  female  26.0      0   \n",
       "3       Futrelle, Mrs. Jacques Heath (Lily May Peel)  female  35.0      1   \n",
       "4                           Allen, Mr. William Henry    male  35.0      0   \n",
       "\n",
       "   Parch            Ticket     Fare Cabin Embarked  \n",
       "0      0         A/5 21171   7.2500   NaN        S  \n",
       "1      0          PC 17599  71.2833   C85        C  \n",
       "2      0  STON/O2. 3101282   7.9250   NaN        S  \n",
       "3      0            113803  53.1000  C123        S  \n",
       "4      0            373450   8.0500   NaN        S  "
      ]
     },
     "execution_count": 2,
     "metadata": {},
     "output_type": "execute_result"
    }
   ],
   "source": [
    "df = pd.read_csv('https://raw.githubusercontent.com/dsrscientist/dataset1/master/titanic_train.csv')\n",
    "\n",
    "df.head()"
   ]
  },
  {
   "cell_type": "code",
   "execution_count": 3,
   "id": "c2d1b947",
   "metadata": {},
   "outputs": [
    {
     "data": {
      "text/plain": [
       "Index(['PassengerId', 'Survived', 'Pclass', 'Name', 'Sex', 'Age', 'SibSp',\n",
       "       'Parch', 'Ticket', 'Fare', 'Cabin', 'Embarked'],\n",
       "      dtype='object')"
      ]
     },
     "execution_count": 3,
     "metadata": {},
     "output_type": "execute_result"
    }
   ],
   "source": [
    "df.columns"
   ]
  },
  {
   "cell_type": "markdown",
   "id": "cfe5db9d",
   "metadata": {},
   "source": [
    "##### Data Dictionary:\n",
    "- Survived: 0 = No, 1 = Yes\n",
    "- pclass: Ticket class 1 = 1st, 2 = 2nd, 3 = 3rd\n",
    "- sibsp: # of siblings / spouses aboard Titanic\n",
    "- parch: # of parents / children aboard Titanic\n",
    "- ticket: Ticket number\n",
    "- cabin: Cabin number\n",
    "- embarked: Port of Embarkation C = Cherbourg, Q = Queenstown, S = Southampton"
   ]
  },
  {
   "cell_type": "code",
   "execution_count": 4,
   "id": "1a64f7b3",
   "metadata": {},
   "outputs": [
    {
     "data": {
      "text/plain": [
       "(891, 12)"
      ]
     },
     "execution_count": 4,
     "metadata": {},
     "output_type": "execute_result"
    }
   ],
   "source": [
    "df.shape"
   ]
  },
  {
   "cell_type": "code",
   "execution_count": 5,
   "id": "d2e193d9",
   "metadata": {},
   "outputs": [
    {
     "name": "stdout",
     "output_type": "stream",
     "text": [
      "<class 'pandas.core.frame.DataFrame'>\n",
      "RangeIndex: 891 entries, 0 to 890\n",
      "Data columns (total 12 columns):\n",
      " #   Column       Non-Null Count  Dtype  \n",
      "---  ------       --------------  -----  \n",
      " 0   PassengerId  891 non-null    int64  \n",
      " 1   Survived     891 non-null    int64  \n",
      " 2   Pclass       891 non-null    int64  \n",
      " 3   Name         891 non-null    object \n",
      " 4   Sex          891 non-null    object \n",
      " 5   Age          714 non-null    float64\n",
      " 6   SibSp        891 non-null    int64  \n",
      " 7   Parch        891 non-null    int64  \n",
      " 8   Ticket       891 non-null    object \n",
      " 9   Fare         891 non-null    float64\n",
      " 10  Cabin        204 non-null    object \n",
      " 11  Embarked     889 non-null    object \n",
      "dtypes: float64(2), int64(5), object(5)\n",
      "memory usage: 83.7+ KB\n"
     ]
    }
   ],
   "source": [
    "df.info()"
   ]
  },
  {
   "cell_type": "code",
   "execution_count": 6,
   "id": "c124045c",
   "metadata": {},
   "outputs": [
    {
     "data": {
      "text/plain": [
       "PassengerId      0\n",
       "Survived         0\n",
       "Pclass           0\n",
       "Name             0\n",
       "Sex              0\n",
       "Age            177\n",
       "SibSp            0\n",
       "Parch            0\n",
       "Ticket           0\n",
       "Fare             0\n",
       "Cabin          687\n",
       "Embarked         2\n",
       "dtype: int64"
      ]
     },
     "execution_count": 6,
     "metadata": {},
     "output_type": "execute_result"
    }
   ],
   "source": [
    "df.isnull().sum()"
   ]
  },
  {
   "cell_type": "markdown",
   "id": "a26e1604",
   "metadata": {},
   "source": [
    "There are null values present in the dataset.\n",
    "\n",
    "We can see that Age value is missing for many rows.\n",
    "\n",
    "Out of 891 rows, the Age value is present only in 714 rows, which means around 20% data is missing.\n",
    "\n",
    "Similarly, Cabin values are also missing in many rows. Only 204 out of 891 rows have Cabin values. i.e. only around 20% data is available for cabin."
   ]
  },
  {
   "cell_type": "code",
   "execution_count": 7,
   "id": "a4863736",
   "metadata": {},
   "outputs": [
    {
     "data": {
      "text/html": [
       "<div>\n",
       "<style scoped>\n",
       "    .dataframe tbody tr th:only-of-type {\n",
       "        vertical-align: middle;\n",
       "    }\n",
       "\n",
       "    .dataframe tbody tr th {\n",
       "        vertical-align: top;\n",
       "    }\n",
       "\n",
       "    .dataframe thead th {\n",
       "        text-align: right;\n",
       "    }\n",
       "</style>\n",
       "<table border=\"1\" class=\"dataframe\">\n",
       "  <thead>\n",
       "    <tr style=\"text-align: right;\">\n",
       "      <th></th>\n",
       "      <th>PassengerId</th>\n",
       "      <th>Survived</th>\n",
       "      <th>Pclass</th>\n",
       "      <th>Name</th>\n",
       "      <th>Sex</th>\n",
       "      <th>Age</th>\n",
       "      <th>SibSp</th>\n",
       "      <th>Parch</th>\n",
       "      <th>Ticket</th>\n",
       "      <th>Fare</th>\n",
       "      <th>Cabin</th>\n",
       "      <th>Embarked</th>\n",
       "    </tr>\n",
       "  </thead>\n",
       "  <tbody>\n",
       "    <tr>\n",
       "      <th>count</th>\n",
       "      <td>891.000000</td>\n",
       "      <td>891.000000</td>\n",
       "      <td>891.000000</td>\n",
       "      <td>891</td>\n",
       "      <td>891</td>\n",
       "      <td>714.000000</td>\n",
       "      <td>891.000000</td>\n",
       "      <td>891.000000</td>\n",
       "      <td>891</td>\n",
       "      <td>891.000000</td>\n",
       "      <td>204</td>\n",
       "      <td>889</td>\n",
       "    </tr>\n",
       "    <tr>\n",
       "      <th>unique</th>\n",
       "      <td>NaN</td>\n",
       "      <td>NaN</td>\n",
       "      <td>NaN</td>\n",
       "      <td>891</td>\n",
       "      <td>2</td>\n",
       "      <td>NaN</td>\n",
       "      <td>NaN</td>\n",
       "      <td>NaN</td>\n",
       "      <td>681</td>\n",
       "      <td>NaN</td>\n",
       "      <td>147</td>\n",
       "      <td>3</td>\n",
       "    </tr>\n",
       "    <tr>\n",
       "      <th>top</th>\n",
       "      <td>NaN</td>\n",
       "      <td>NaN</td>\n",
       "      <td>NaN</td>\n",
       "      <td>Braund, Mr. Owen Harris</td>\n",
       "      <td>male</td>\n",
       "      <td>NaN</td>\n",
       "      <td>NaN</td>\n",
       "      <td>NaN</td>\n",
       "      <td>347082</td>\n",
       "      <td>NaN</td>\n",
       "      <td>B96 B98</td>\n",
       "      <td>S</td>\n",
       "    </tr>\n",
       "    <tr>\n",
       "      <th>freq</th>\n",
       "      <td>NaN</td>\n",
       "      <td>NaN</td>\n",
       "      <td>NaN</td>\n",
       "      <td>1</td>\n",
       "      <td>577</td>\n",
       "      <td>NaN</td>\n",
       "      <td>NaN</td>\n",
       "      <td>NaN</td>\n",
       "      <td>7</td>\n",
       "      <td>NaN</td>\n",
       "      <td>4</td>\n",
       "      <td>644</td>\n",
       "    </tr>\n",
       "    <tr>\n",
       "      <th>mean</th>\n",
       "      <td>446.000000</td>\n",
       "      <td>0.383838</td>\n",
       "      <td>2.308642</td>\n",
       "      <td>NaN</td>\n",
       "      <td>NaN</td>\n",
       "      <td>29.699118</td>\n",
       "      <td>0.523008</td>\n",
       "      <td>0.381594</td>\n",
       "      <td>NaN</td>\n",
       "      <td>32.204208</td>\n",
       "      <td>NaN</td>\n",
       "      <td>NaN</td>\n",
       "    </tr>\n",
       "    <tr>\n",
       "      <th>std</th>\n",
       "      <td>257.353842</td>\n",
       "      <td>0.486592</td>\n",
       "      <td>0.836071</td>\n",
       "      <td>NaN</td>\n",
       "      <td>NaN</td>\n",
       "      <td>14.526497</td>\n",
       "      <td>1.102743</td>\n",
       "      <td>0.806057</td>\n",
       "      <td>NaN</td>\n",
       "      <td>49.693429</td>\n",
       "      <td>NaN</td>\n",
       "      <td>NaN</td>\n",
       "    </tr>\n",
       "    <tr>\n",
       "      <th>min</th>\n",
       "      <td>1.000000</td>\n",
       "      <td>0.000000</td>\n",
       "      <td>1.000000</td>\n",
       "      <td>NaN</td>\n",
       "      <td>NaN</td>\n",
       "      <td>0.420000</td>\n",
       "      <td>0.000000</td>\n",
       "      <td>0.000000</td>\n",
       "      <td>NaN</td>\n",
       "      <td>0.000000</td>\n",
       "      <td>NaN</td>\n",
       "      <td>NaN</td>\n",
       "    </tr>\n",
       "    <tr>\n",
       "      <th>25%</th>\n",
       "      <td>223.500000</td>\n",
       "      <td>0.000000</td>\n",
       "      <td>2.000000</td>\n",
       "      <td>NaN</td>\n",
       "      <td>NaN</td>\n",
       "      <td>20.125000</td>\n",
       "      <td>0.000000</td>\n",
       "      <td>0.000000</td>\n",
       "      <td>NaN</td>\n",
       "      <td>7.910400</td>\n",
       "      <td>NaN</td>\n",
       "      <td>NaN</td>\n",
       "    </tr>\n",
       "    <tr>\n",
       "      <th>50%</th>\n",
       "      <td>446.000000</td>\n",
       "      <td>0.000000</td>\n",
       "      <td>3.000000</td>\n",
       "      <td>NaN</td>\n",
       "      <td>NaN</td>\n",
       "      <td>28.000000</td>\n",
       "      <td>0.000000</td>\n",
       "      <td>0.000000</td>\n",
       "      <td>NaN</td>\n",
       "      <td>14.454200</td>\n",
       "      <td>NaN</td>\n",
       "      <td>NaN</td>\n",
       "    </tr>\n",
       "    <tr>\n",
       "      <th>75%</th>\n",
       "      <td>668.500000</td>\n",
       "      <td>1.000000</td>\n",
       "      <td>3.000000</td>\n",
       "      <td>NaN</td>\n",
       "      <td>NaN</td>\n",
       "      <td>38.000000</td>\n",
       "      <td>1.000000</td>\n",
       "      <td>0.000000</td>\n",
       "      <td>NaN</td>\n",
       "      <td>31.000000</td>\n",
       "      <td>NaN</td>\n",
       "      <td>NaN</td>\n",
       "    </tr>\n",
       "    <tr>\n",
       "      <th>max</th>\n",
       "      <td>891.000000</td>\n",
       "      <td>1.000000</td>\n",
       "      <td>3.000000</td>\n",
       "      <td>NaN</td>\n",
       "      <td>NaN</td>\n",
       "      <td>80.000000</td>\n",
       "      <td>8.000000</td>\n",
       "      <td>6.000000</td>\n",
       "      <td>NaN</td>\n",
       "      <td>512.329200</td>\n",
       "      <td>NaN</td>\n",
       "      <td>NaN</td>\n",
       "    </tr>\n",
       "  </tbody>\n",
       "</table>\n",
       "</div>"
      ],
      "text/plain": [
       "        PassengerId    Survived      Pclass                     Name   Sex  \\\n",
       "count    891.000000  891.000000  891.000000                      891   891   \n",
       "unique          NaN         NaN         NaN                      891     2   \n",
       "top             NaN         NaN         NaN  Braund, Mr. Owen Harris  male   \n",
       "freq            NaN         NaN         NaN                        1   577   \n",
       "mean     446.000000    0.383838    2.308642                      NaN   NaN   \n",
       "std      257.353842    0.486592    0.836071                      NaN   NaN   \n",
       "min        1.000000    0.000000    1.000000                      NaN   NaN   \n",
       "25%      223.500000    0.000000    2.000000                      NaN   NaN   \n",
       "50%      446.000000    0.000000    3.000000                      NaN   NaN   \n",
       "75%      668.500000    1.000000    3.000000                      NaN   NaN   \n",
       "max      891.000000    1.000000    3.000000                      NaN   NaN   \n",
       "\n",
       "               Age       SibSp       Parch  Ticket        Fare    Cabin  \\\n",
       "count   714.000000  891.000000  891.000000     891  891.000000      204   \n",
       "unique         NaN         NaN         NaN     681         NaN      147   \n",
       "top            NaN         NaN         NaN  347082         NaN  B96 B98   \n",
       "freq           NaN         NaN         NaN       7         NaN        4   \n",
       "mean     29.699118    0.523008    0.381594     NaN   32.204208      NaN   \n",
       "std      14.526497    1.102743    0.806057     NaN   49.693429      NaN   \n",
       "min       0.420000    0.000000    0.000000     NaN    0.000000      NaN   \n",
       "25%      20.125000    0.000000    0.000000     NaN    7.910400      NaN   \n",
       "50%      28.000000    0.000000    0.000000     NaN   14.454200      NaN   \n",
       "75%      38.000000    1.000000    0.000000     NaN   31.000000      NaN   \n",
       "max      80.000000    8.000000    6.000000     NaN  512.329200      NaN   \n",
       "\n",
       "       Embarked  \n",
       "count       889  \n",
       "unique        3  \n",
       "top           S  \n",
       "freq        644  \n",
       "mean        NaN  \n",
       "std         NaN  \n",
       "min         NaN  \n",
       "25%         NaN  \n",
       "50%         NaN  \n",
       "75%         NaN  \n",
       "max         NaN  "
      ]
     },
     "execution_count": 7,
     "metadata": {},
     "output_type": "execute_result"
    }
   ],
   "source": [
    "df.describe(include = 'all')"
   ]
  },
  {
   "cell_type": "markdown",
   "id": "8b460f2d",
   "metadata": {},
   "source": [
    "##### Since, PassengerId, Name and Ticket does not affect to predict the survival. Therefore we will delete these columns.\n",
    "\n",
    "- We will also delete the Cabin column, as there are too many missing values present in the dataset."
   ]
  },
  {
   "cell_type": "code",
   "execution_count": 8,
   "id": "7c57bdcd",
   "metadata": {},
   "outputs": [
    {
     "data": {
      "text/html": [
       "<div>\n",
       "<style scoped>\n",
       "    .dataframe tbody tr th:only-of-type {\n",
       "        vertical-align: middle;\n",
       "    }\n",
       "\n",
       "    .dataframe tbody tr th {\n",
       "        vertical-align: top;\n",
       "    }\n",
       "\n",
       "    .dataframe thead th {\n",
       "        text-align: right;\n",
       "    }\n",
       "</style>\n",
       "<table border=\"1\" class=\"dataframe\">\n",
       "  <thead>\n",
       "    <tr style=\"text-align: right;\">\n",
       "      <th></th>\n",
       "      <th>Survived</th>\n",
       "      <th>Pclass</th>\n",
       "      <th>Sex</th>\n",
       "      <th>Age</th>\n",
       "      <th>SibSp</th>\n",
       "      <th>Parch</th>\n",
       "      <th>Fare</th>\n",
       "      <th>Embarked</th>\n",
       "    </tr>\n",
       "  </thead>\n",
       "  <tbody>\n",
       "    <tr>\n",
       "      <th>0</th>\n",
       "      <td>0</td>\n",
       "      <td>3</td>\n",
       "      <td>male</td>\n",
       "      <td>22.0</td>\n",
       "      <td>1</td>\n",
       "      <td>0</td>\n",
       "      <td>7.2500</td>\n",
       "      <td>S</td>\n",
       "    </tr>\n",
       "    <tr>\n",
       "      <th>1</th>\n",
       "      <td>1</td>\n",
       "      <td>1</td>\n",
       "      <td>female</td>\n",
       "      <td>38.0</td>\n",
       "      <td>1</td>\n",
       "      <td>0</td>\n",
       "      <td>71.2833</td>\n",
       "      <td>C</td>\n",
       "    </tr>\n",
       "    <tr>\n",
       "      <th>2</th>\n",
       "      <td>1</td>\n",
       "      <td>3</td>\n",
       "      <td>female</td>\n",
       "      <td>26.0</td>\n",
       "      <td>0</td>\n",
       "      <td>0</td>\n",
       "      <td>7.9250</td>\n",
       "      <td>S</td>\n",
       "    </tr>\n",
       "    <tr>\n",
       "      <th>3</th>\n",
       "      <td>1</td>\n",
       "      <td>1</td>\n",
       "      <td>female</td>\n",
       "      <td>35.0</td>\n",
       "      <td>1</td>\n",
       "      <td>0</td>\n",
       "      <td>53.1000</td>\n",
       "      <td>S</td>\n",
       "    </tr>\n",
       "    <tr>\n",
       "      <th>4</th>\n",
       "      <td>0</td>\n",
       "      <td>3</td>\n",
       "      <td>male</td>\n",
       "      <td>35.0</td>\n",
       "      <td>0</td>\n",
       "      <td>0</td>\n",
       "      <td>8.0500</td>\n",
       "      <td>S</td>\n",
       "    </tr>\n",
       "  </tbody>\n",
       "</table>\n",
       "</div>"
      ],
      "text/plain": [
       "   Survived  Pclass     Sex   Age  SibSp  Parch     Fare Embarked\n",
       "0         0       3    male  22.0      1      0   7.2500        S\n",
       "1         1       1  female  38.0      1      0  71.2833        C\n",
       "2         1       3  female  26.0      0      0   7.9250        S\n",
       "3         1       1  female  35.0      1      0  53.1000        S\n",
       "4         0       3    male  35.0      0      0   8.0500        S"
      ]
     },
     "execution_count": 8,
     "metadata": {},
     "output_type": "execute_result"
    }
   ],
   "source": [
    "df = df.drop(['PassengerId', 'Ticket', 'Name', 'Cabin'], axis=1)\n",
    "\n",
    "df.head()"
   ]
  },
  {
   "cell_type": "code",
   "execution_count": 9,
   "id": "82cd916e",
   "metadata": {},
   "outputs": [
    {
     "data": {
      "text/plain": [
       "(891, 8)"
      ]
     },
     "execution_count": 9,
     "metadata": {},
     "output_type": "execute_result"
    }
   ],
   "source": [
    "df.shape"
   ]
  },
  {
   "cell_type": "code",
   "execution_count": 10,
   "id": "a2043210",
   "metadata": {},
   "outputs": [
    {
     "data": {
      "text/plain": [
       "<AxesSubplot:xlabel='Survived', ylabel='count'>"
      ]
     },
     "execution_count": 10,
     "metadata": {},
     "output_type": "execute_result"
    },
    {
     "data": {
      "image/png": "[encoded data removed]",
      "text/plain": [
       "<Figure size 432x288 with 1 Axes>"
      ]
     },
     "metadata": {
      "needs_background": "light"
     },
     "output_type": "display_data"
    }
   ],
   "source": [
    "sns.countplot(df['Survived'])"
   ]
  },
  {
   "cell_type": "markdown",
   "id": "ed53ef7f",
   "metadata": {},
   "source": [
    "##### Bar Chart for Categorical Features:\n",
    "1. Sex\n",
    "2. Pclass\n",
    "3. SibSp ( # of siblings and spouse)\n",
    "4. Parch ( # of parents and children)\n",
    "5. Embarked\n",
    "6. Cabin"
   ]
  },
  {
   "cell_type": "code",
   "execution_count": 11,
   "id": "09768bc4",
   "metadata": {},
   "outputs": [
    {
     "data": {
      "image/png": "[encoded data removed]",
      "text/plain": [
       "<Figure size 432x288 with 1 Axes>"
      ]
     },
     "metadata": {
      "needs_background": "light"
     },
     "output_type": "display_data"
    }
   ],
   "source": [
    "sns.countplot(x = 'Sex',data = df,hue = 'Survived')\n",
    "plt.show()"
   ]
  },
  {
   "cell_type": "markdown",
   "id": "885854b7",
   "metadata": {},
   "source": [
    "Observation: The chart confirms that Women are more likely to survive than Men."
   ]
  },
  {
   "cell_type": "code",
   "execution_count": 12,
   "id": "c2190b90",
   "metadata": {},
   "outputs": [
    {
     "data": {
      "image/png": "[encoded data removed]",
      "text/plain": [
       "<Figure size 432x288 with 1 Axes>"
      ]
     },
     "metadata": {
      "needs_background": "light"
     },
     "output_type": "display_data"
    }
   ],
   "source": [
    "sns.countplot(x = 'Pclass',data = df,hue = 'Survived')\n",
    "plt.show()"
   ]
  },
  {
   "cell_type": "markdown",
   "id": "fe37831d",
   "metadata": {},
   "source": [
    "Observation: \n",
    "- The Chart confirms 1st class more likely survived than other classes\n",
    "- The Chart confirms 3rd class more likely dead than other classes"
   ]
  },
  {
   "cell_type": "code",
   "execution_count": 13,
   "id": "30b6c732",
   "metadata": {},
   "outputs": [
    {
     "data": {
      "image/png": "[encoded data removed]",
      "text/plain": [
       "<Figure size 432x288 with 1 Axes>"
      ]
     },
     "metadata": {
      "needs_background": "light"
     },
     "output_type": "display_data"
    }
   ],
   "source": [
    "sns.countplot(x = 'SibSp',data = df,hue = 'Survived')\n",
    "plt.show()"
   ]
  },
  {
   "cell_type": "markdown",
   "id": "2159d696",
   "metadata": {},
   "source": [
    "The Chart confirms that a person aboarded without siblings or spouse is more likely dead."
   ]
  },
  {
   "cell_type": "code",
   "execution_count": 14,
   "id": "c258bc8b",
   "metadata": {},
   "outputs": [
    {
     "data": {
      "image/png": "[encoded data removed]",
      "text/plain": [
       "<Figure size 432x288 with 1 Axes>"
      ]
     },
     "metadata": {
      "needs_background": "light"
     },
     "output_type": "display_data"
    }
   ],
   "source": [
    "sns.countplot(x = 'Parch',data = df,hue = 'Survived')\n",
    "plt.show()"
   ]
  },
  {
   "cell_type": "markdown",
   "id": "d79211a6",
   "metadata": {},
   "source": [
    "The Chart confirms that a person aboarded alone is more likely dead"
   ]
  },
  {
   "cell_type": "code",
   "execution_count": 15,
   "id": "0868fd14",
   "metadata": {},
   "outputs": [
    {
     "data": {
      "image/png": "[encoded data removed]",
      "text/plain": [
       "<Figure size 432x288 with 1 Axes>"
      ]
     },
     "metadata": {
      "needs_background": "light"
     },
     "output_type": "display_data"
    }
   ],
   "source": [
    "sns.countplot(x = 'Embarked',data = df,hue = 'Survived')\n",
    "plt.show()"
   ]
  },
  {
   "cell_type": "markdown",
   "id": "42ed68d7",
   "metadata": {},
   "source": [
    "- The Chart confirms that a person aboarded from C is slightly more likely survived\n",
    "- The Chart confirms that a person aboarded from Q is more likely dead\n",
    "- The Chart confirms that a person aboarded from S is more likely dead\n",
    "\n",
    "But this does not make any sense, i.e. Boarding Point should not affect the possibility of survival."
   ]
  },
  {
   "cell_type": "code",
   "execution_count": 16,
   "id": "16cb39c0",
   "metadata": {},
   "outputs": [
    {
     "data": {
      "text/html": [
       "<div>\n",
       "<style scoped>\n",
       "    .dataframe tbody tr th:only-of-type {\n",
       "        vertical-align: middle;\n",
       "    }\n",
       "\n",
       "    .dataframe tbody tr th {\n",
       "        vertical-align: top;\n",
       "    }\n",
       "\n",
       "    .dataframe thead th {\n",
       "        text-align: right;\n",
       "    }\n",
       "</style>\n",
       "<table border=\"1\" class=\"dataframe\">\n",
       "  <thead>\n",
       "    <tr style=\"text-align: right;\">\n",
       "      <th></th>\n",
       "      <th>Survived</th>\n",
       "    </tr>\n",
       "    <tr>\n",
       "      <th>Embarked</th>\n",
       "      <th></th>\n",
       "    </tr>\n",
       "  </thead>\n",
       "  <tbody>\n",
       "    <tr>\n",
       "      <th>C</th>\n",
       "      <td>0.553571</td>\n",
       "    </tr>\n",
       "    <tr>\n",
       "      <th>Q</th>\n",
       "      <td>0.389610</td>\n",
       "    </tr>\n",
       "    <tr>\n",
       "      <th>S</th>\n",
       "      <td>0.336957</td>\n",
       "    </tr>\n",
       "  </tbody>\n",
       "</table>\n",
       "</div>"
      ],
      "text/plain": [
       "          Survived\n",
       "Embarked          \n",
       "C         0.553571\n",
       "Q         0.389610\n",
       "S         0.336957"
      ]
     },
     "execution_count": 16,
     "metadata": {},
     "output_type": "execute_result"
    }
   ],
   "source": [
    "df[['Embarked', 'Survived']].groupby('Embarked').mean().sort_values(by='Survived', ascending=False)"
   ]
  },
  {
   "cell_type": "code",
   "execution_count": 17,
   "id": "bd464370",
   "metadata": {},
   "outputs": [
    {
     "data": {
      "text/html": [
       "<div>\n",
       "<style scoped>\n",
       "    .dataframe tbody tr th:only-of-type {\n",
       "        vertical-align: middle;\n",
       "    }\n",
       "\n",
       "    .dataframe tbody tr th {\n",
       "        vertical-align: top;\n",
       "    }\n",
       "\n",
       "    .dataframe thead th {\n",
       "        text-align: right;\n",
       "    }\n",
       "</style>\n",
       "<table border=\"1\" class=\"dataframe\">\n",
       "  <thead>\n",
       "    <tr style=\"text-align: right;\">\n",
       "      <th></th>\n",
       "      <th>Pclass</th>\n",
       "    </tr>\n",
       "    <tr>\n",
       "      <th>Embarked</th>\n",
       "      <th></th>\n",
       "    </tr>\n",
       "  </thead>\n",
       "  <tbody>\n",
       "    <tr>\n",
       "      <th>Q</th>\n",
       "      <td>2.909091</td>\n",
       "    </tr>\n",
       "    <tr>\n",
       "      <th>S</th>\n",
       "      <td>2.350932</td>\n",
       "    </tr>\n",
       "    <tr>\n",
       "      <th>C</th>\n",
       "      <td>1.886905</td>\n",
       "    </tr>\n",
       "  </tbody>\n",
       "</table>\n",
       "</div>"
      ],
      "text/plain": [
       "            Pclass\n",
       "Embarked          \n",
       "Q         2.909091\n",
       "S         2.350932\n",
       "C         1.886905"
      ]
     },
     "execution_count": 17,
     "metadata": {},
     "output_type": "execute_result"
    }
   ],
   "source": [
    "df[['Embarked', 'Pclass']].groupby('Embarked').mean().sort_values(by='Pclass', ascending=False)"
   ]
  },
  {
   "cell_type": "code",
   "execution_count": 18,
   "id": "47398892",
   "metadata": {},
   "outputs": [
    {
     "data": {
      "image/png": "[encoded data removed]",
      "text/plain": [
       "<Figure size 432x288 with 1 Axes>"
      ]
     },
     "metadata": {
      "needs_background": "light"
     },
     "output_type": "display_data"
    }
   ],
   "source": [
    "sns.countplot(x = 'Embarked',data = df,hue = 'Pclass')\n",
    "plt.show()"
   ]
  },
  {
   "cell_type": "markdown",
   "id": "ba87353d",
   "metadata": {},
   "source": [
    "We can see that people from Cherbourg were more settled in the Class 1. This can be an explanation."
   ]
  },
  {
   "cell_type": "code",
   "execution_count": 19,
   "id": "91e437c9",
   "metadata": {},
   "outputs": [
    {
     "name": "stdout",
     "output_type": "stream",
     "text": [
      "               Sex\n",
      "Embarked          \n",
      "S         0.684783\n",
      "C         0.565476\n",
      "Q         0.532468\n"
     ]
    }
   ],
   "source": [
    "title_mapping = {\"male\": 1, \"female\": 0}\n",
    "df_ = df.copy()\n",
    "df_['Sex'] = df_['Sex'].map(title_mapping)\n",
    "print(df_[['Embarked', 'Sex']].groupby('Embarked').mean().sort_values(by='Sex', ascending=False))\n",
    "del(df_)"
   ]
  },
  {
   "cell_type": "code",
   "execution_count": 20,
   "id": "0247eecb",
   "metadata": {},
   "outputs": [
    {
     "data": {
      "image/png": "[encoded data removed]",
      "text/plain": [
       "<Figure size 432x288 with 1 Axes>"
      ]
     },
     "metadata": {
      "needs_background": "light"
     },
     "output_type": "display_data"
    }
   ],
   "source": [
    "sns.countplot(x = 'Embarked',data = df,hue = 'Sex')\n",
    "plt.show()"
   ]
  },
  {
   "cell_type": "markdown",
   "id": "e5904ea8",
   "metadata": {},
   "source": [
    "The low survival of S can be explained by the high-rate of men."
   ]
  },
  {
   "cell_type": "markdown",
   "id": "ee7e60a5",
   "metadata": {},
   "source": [
    "##### Numerical Features\n",
    "1. Age\n",
    "2. Fare"
   ]
  },
  {
   "cell_type": "code",
   "execution_count": 21,
   "id": "201888df",
   "metadata": {},
   "outputs": [
    {
     "data": {
      "text/plain": [
       "<AxesSubplot:xlabel='Age', ylabel='Density'>"
      ]
     },
     "execution_count": 21,
     "metadata": {},
     "output_type": "execute_result"
    },
    {
     "data": {
      "image/png": "[encoded data removed]",
      "text/plain": [
       "<Figure size 432x288 with 1 Axes>"
      ]
     },
     "metadata": {
      "needs_background": "light"
     },
     "output_type": "display_data"
    }
   ],
   "source": [
    "sns.distplot(df.Age.dropna())"
   ]
  },
  {
   "cell_type": "code",
   "execution_count": 22,
   "id": "5db25d3e",
   "metadata": {},
   "outputs": [
    {
     "data": {
      "text/plain": [
       "<AxesSubplot:xlabel='Fare', ylabel='Density'>"
      ]
     },
     "execution_count": 22,
     "metadata": {},
     "output_type": "execute_result"
    },
    {
     "data": {
      "image/png": "[encoded data removed]",
      "text/plain": [
       "<Figure size 432x288 with 1 Axes>"
      ]
     },
     "metadata": {
      "needs_background": "light"
     },
     "output_type": "display_data"
    }
   ],
   "source": [
    "sns.distplot(df.Fare)"
   ]
  },
  {
   "cell_type": "markdown",
   "id": "c1228c4e",
   "metadata": {},
   "source": [
    "The Distribution of Fare is highly skewed. We will remove skewness from the data before processing."
   ]
  },
  {
   "cell_type": "code",
   "execution_count": 23,
   "id": "61274b25",
   "metadata": {},
   "outputs": [
    {
     "data": {
      "image/png": "[encoded data removed]",
      "text/plain": [
       "<Figure size 1080x504 with 1 Axes>"
      ]
     },
     "metadata": {
      "needs_background": "light"
     },
     "output_type": "display_data"
    }
   ],
   "source": [
    "plt.figure(figsize = (15,7))\n",
    "sns.countplot(x = 'Age',data = df,hue = 'Survived')\n",
    "plt.show()"
   ]
  },
  {
   "cell_type": "code",
   "execution_count": 24,
   "id": "8176a239",
   "metadata": {},
   "outputs": [
    {
     "name": "stdout",
     "output_type": "stream",
     "text": [
      "<seaborn.axisgrid.FacetGrid object at 0x000001A84F56E1C0>\n"
     ]
    },
    {
     "data": {
      "image/png": "[encoded data removed]",
      "text/plain": [
       "<Figure size 432x216 with 2 Axes>"
      ]
     },
     "metadata": {
      "needs_background": "light"
     },
     "output_type": "display_data"
    }
   ],
   "source": [
    "num = sns.FacetGrid(df, col='Survived')\n",
    "print(num.map(plt.hist, 'Age'))"
   ]
  },
  {
   "cell_type": "markdown",
   "id": "b7957b5e",
   "metadata": {},
   "source": [
    "Observation:\n",
    "- Younger and older people survived.\n",
    "- The middle age (20-40) people did not survive.\n",
    "- We should consider the age as predicator."
   ]
  },
  {
   "cell_type": "code",
   "execution_count": 25,
   "id": "56e80c2e",
   "metadata": {},
   "outputs": [
    {
     "data": {
      "image/png": "[encoded data removed]",
      "text/plain": [
       "<Figure size 1800x864 with 1 Axes>"
      ]
     },
     "metadata": {
      "needs_background": "light"
     },
     "output_type": "display_data"
    }
   ],
   "source": [
    "plt.figure(figsize = (25,12))\n",
    "sns.countplot(x = 'Fare',data = df,hue = 'Survived')\n",
    "plt.show()"
   ]
  },
  {
   "cell_type": "code",
   "execution_count": 26,
   "id": "89befac0",
   "metadata": {},
   "outputs": [
    {
     "name": "stdout",
     "output_type": "stream",
     "text": [
      "<seaborn.axisgrid.FacetGrid object at 0x000001A852CDAF70>\n"
     ]
    },
    {
     "data": {
      "image/png": "[encoded data removed]",
      "text/plain": [
       "<Figure size 432x216 with 2 Axes>"
      ]
     },
     "metadata": {
      "needs_background": "light"
     },
     "output_type": "display_data"
    }
   ],
   "source": [
    "num = sns.FacetGrid(df, col='Survived')\n",
    "print(num.map(plt.hist, 'Fare'))"
   ]
  },
  {
   "cell_type": "markdown",
   "id": "e0812d38",
   "metadata": {},
   "source": [
    "There is nothing much clear from Fare Plot."
   ]
  },
  {
   "cell_type": "code",
   "execution_count": 27,
   "id": "37ecb614",
   "metadata": {},
   "outputs": [
    {
     "data": {
      "text/plain": [
       "<seaborn.axisgrid.PairGrid at 0x1a852d73a00>"
      ]
     },
     "execution_count": 27,
     "metadata": {},
     "output_type": "execute_result"
    },
    {
     "data": {
      "image/png": "[encoded data removed]",
      "text/plain": [
       "<Figure size 411.875x360 with 6 Axes>"
      ]
     },
     "metadata": {
      "needs_background": "light"
     },
     "output_type": "display_data"
    }
   ],
   "source": [
    "sns.pairplot(data = df, hue = 'Survived', vars = ['Pclass','SibSp'])"
   ]
  },
  {
   "cell_type": "code",
   "execution_count": 28,
   "id": "f08ff6d1",
   "metadata": {},
   "outputs": [
    {
     "data": {
      "text/plain": [
       "<seaborn.axisgrid.PairGrid at 0x1a82bc13b80>"
      ]
     },
     "execution_count": 28,
     "metadata": {},
     "output_type": "execute_result"
    },
    {
     "data": {
      "image/png": "[encoded data removed]",
      "text/plain": [
       "<Figure size 591.875x540 with 12 Axes>"
      ]
     },
     "metadata": {
      "needs_background": "light"
     },
     "output_type": "display_data"
    }
   ],
   "source": [
    "sns.pairplot(data = df, hue = 'Survived', vars = ['Age','Pclass','SibSp'])"
   ]
  },
  {
   "cell_type": "code",
   "execution_count": 29,
   "id": "6934bb52",
   "metadata": {},
   "outputs": [
    {
     "data": {
      "text/plain": [
       "<AxesSubplot:>"
      ]
     },
     "execution_count": 29,
     "metadata": {},
     "output_type": "execute_result"
    },
    {
     "data": {
      "image/png": "[encoded data removed]",
      "text/plain": [
       "<Figure size 432x288 with 1 Axes>"
      ]
     },
     "metadata": {
      "needs_background": "light"
     },
     "output_type": "display_data"
    }
   ],
   "source": [
    "corr = df.corr()\n",
    "sns.heatmap(corr, cbar = False, annot = True)"
   ]
  },
  {
   "cell_type": "markdown",
   "id": "6783c0a3",
   "metadata": {},
   "source": [
    "- Age has a negative correlation with Pclass\n",
    "- Fare has a negative correlation with Pclass\n",
    "- Age has a negative correlation with SibSp and Parch"
   ]
  },
  {
   "cell_type": "code",
   "execution_count": 30,
   "id": "c223695a",
   "metadata": {},
   "outputs": [
    {
     "data": {
      "text/plain": [
       "<AxesSubplot:xlabel='Pclass', ylabel='Fare'>"
      ]
     },
     "execution_count": 30,
     "metadata": {},
     "output_type": "execute_result"
    },
    {
     "data": {
      "image/png": "[encoded data removed]",
      "text/plain": [
       "<Figure size 432x288 with 1 Axes>"
      ]
     },
     "metadata": {
      "needs_background": "light"
     },
     "output_type": "display_data"
    }
   ],
   "source": [
    "sns.scatterplot(x = 'Pclass', y = 'Fare', data = df )"
   ]
  },
  {
   "cell_type": "markdown",
   "id": "d777bb0e",
   "metadata": {},
   "source": [
    "Pclass 1 corresponds to higher fares while Pclass 2 and 3 coressponds to lower fares"
   ]
  },
  {
   "cell_type": "markdown",
   "id": "513a1f1b",
   "metadata": {},
   "source": [
    "Embarked has two missing values. Let's fill those with modal value which is Southampton (S)"
   ]
  },
  {
   "cell_type": "code",
   "execution_count": 31,
   "id": "acd4d9a7",
   "metadata": {},
   "outputs": [],
   "source": [
    "df['Embarked'] = df['Embarked'].fillna('S')"
   ]
  },
  {
   "cell_type": "code",
   "execution_count": 32,
   "id": "93d0cc8c",
   "metadata": {},
   "outputs": [
    {
     "data": {
      "text/plain": [
       "Survived      0\n",
       "Pclass        0\n",
       "Sex           0\n",
       "Age         177\n",
       "SibSp         0\n",
       "Parch         0\n",
       "Fare          0\n",
       "Embarked      0\n",
       "dtype: int64"
      ]
     },
     "execution_count": 32,
     "metadata": {},
     "output_type": "execute_result"
    }
   ],
   "source": [
    "df.isnull().sum()"
   ]
  },
  {
   "cell_type": "markdown",
   "id": "3b7f8792",
   "metadata": {},
   "source": [
    "##### Processing the Age\n",
    "\n",
    "We have seen in the first part that the Age variable was missing 177 values. This is a large number ( ~ 13% of the dataset). Simply replacing them with the mean or the median age might not be the best solution since the age may differ by groups and categories of passengers.\n",
    "\n",
    "Let's group our dataset by sex and passenger class and visualize the relationships between them."
   ]
  },
  {
   "cell_type": "code",
   "execution_count": 33,
   "id": "080a20a1",
   "metadata": {},
   "outputs": [
    {
     "data": {
      "text/plain": [
       "<AxesSubplot:xlabel='Sex', ylabel='Age'>"
      ]
     },
     "execution_count": 33,
     "metadata": {},
     "output_type": "execute_result"
    },
    {
     "data": {
      "image/png": "[encoded data removed]",
      "text/plain": [
       "<Figure size 432x288 with 1 Axes>"
      ]
     },
     "metadata": {
      "needs_background": "light"
     },
     "output_type": "display_data"
    }
   ],
   "source": [
    "sns.pointplot(x = 'Sex', y = 'Age', data = df)"
   ]
  },
  {
   "cell_type": "code",
   "execution_count": 34,
   "id": "fdf5ad34",
   "metadata": {},
   "outputs": [
    {
     "data": {
      "text/plain": [
       "<AxesSubplot:xlabel='Pclass', ylabel='Age'>"
      ]
     },
     "execution_count": 34,
     "metadata": {},
     "output_type": "execute_result"
    },
    {
     "data": {
      "image/png": "[encoded data removed]",
      "text/plain": [
       "<Figure size 432x288 with 1 Axes>"
      ]
     },
     "metadata": {
      "needs_background": "light"
     },
     "output_type": "display_data"
    }
   ],
   "source": [
    "sns.pointplot(x = 'Pclass', y = 'Age', data = df)"
   ]
  },
  {
   "cell_type": "markdown",
   "id": "e626a252",
   "metadata": {},
   "source": [
    "Let us find the median by groupping Pclass and Sex."
   ]
  },
  {
   "cell_type": "code",
   "execution_count": 35,
   "id": "6a6217a1",
   "metadata": {},
   "outputs": [
    {
     "data": {
      "text/html": [
       "<div>\n",
       "<style scoped>\n",
       "    .dataframe tbody tr th:only-of-type {\n",
       "        vertical-align: middle;\n",
       "    }\n",
       "\n",
       "    .dataframe tbody tr th {\n",
       "        vertical-align: top;\n",
       "    }\n",
       "\n",
       "    .dataframe thead th {\n",
       "        text-align: right;\n",
       "    }\n",
       "</style>\n",
       "<table border=\"1\" class=\"dataframe\">\n",
       "  <thead>\n",
       "    <tr style=\"text-align: right;\">\n",
       "      <th></th>\n",
       "      <th>Pclass</th>\n",
       "      <th>Sex</th>\n",
       "      <th>Age</th>\n",
       "    </tr>\n",
       "  </thead>\n",
       "  <tbody>\n",
       "    <tr>\n",
       "      <th>0</th>\n",
       "      <td>1</td>\n",
       "      <td>female</td>\n",
       "      <td>35.0</td>\n",
       "    </tr>\n",
       "    <tr>\n",
       "      <th>1</th>\n",
       "      <td>1</td>\n",
       "      <td>male</td>\n",
       "      <td>40.0</td>\n",
       "    </tr>\n",
       "    <tr>\n",
       "      <th>2</th>\n",
       "      <td>2</td>\n",
       "      <td>female</td>\n",
       "      <td>28.0</td>\n",
       "    </tr>\n",
       "    <tr>\n",
       "      <th>3</th>\n",
       "      <td>2</td>\n",
       "      <td>male</td>\n",
       "      <td>30.0</td>\n",
       "    </tr>\n",
       "    <tr>\n",
       "      <th>4</th>\n",
       "      <td>3</td>\n",
       "      <td>female</td>\n",
       "      <td>21.5</td>\n",
       "    </tr>\n",
       "    <tr>\n",
       "      <th>5</th>\n",
       "      <td>3</td>\n",
       "      <td>male</td>\n",
       "      <td>25.0</td>\n",
       "    </tr>\n",
       "  </tbody>\n",
       "</table>\n",
       "</div>"
      ],
      "text/plain": [
       "   Pclass     Sex   Age\n",
       "0       1  female  35.0\n",
       "1       1    male  40.0\n",
       "2       2  female  28.0\n",
       "3       2    male  30.0\n",
       "4       3  female  21.5\n",
       "5       3    male  25.0"
      ]
     },
     "execution_count": 35,
     "metadata": {},
     "output_type": "execute_result"
    }
   ],
   "source": [
    "x = df.groupby(['Pclass','Sex']).median()\n",
    "grouped_median = x['Age'].reset_index()\n",
    "grouped_median"
   ]
  },
  {
   "cell_type": "markdown",
   "id": "c76e2d7c",
   "metadata": {},
   "source": [
    "This dataframe will help us impute missing age values based on different criteria.\n",
    "\n",
    "For example:\n",
    "\n",
    "If the passenger is female, from Pclass 1, the median age is 35.\n",
    "If the passenger is male, from Pclass 3, the median age is 25.\n",
    "\n",
    "Therefore we will use Iterative Imputation for imputing of age.\n",
    "\n",
    "But for that, first we need to convert categorical data into numerical data."
   ]
  },
  {
   "cell_type": "markdown",
   "id": "6bff87a0",
   "metadata": {},
   "source": [
    "### Encoding Categorical Values"
   ]
  },
  {
   "cell_type": "code",
   "execution_count": 36,
   "id": "ba2d668d",
   "metadata": {},
   "outputs": [],
   "source": [
    "x = pd.get_dummies(df['Sex'],drop_first = True)\n",
    "df = pd.concat([df,x],axis = 1)\n",
    "df = pd.concat([df, pd.get_dummies(df['Embarked'], prefix = 'Embarked')],axis = 1)"
   ]
  },
  {
   "cell_type": "code",
   "execution_count": 37,
   "id": "e8ac97fd",
   "metadata": {},
   "outputs": [
    {
     "data": {
      "text/html": [
       "<div>\n",
       "<style scoped>\n",
       "    .dataframe tbody tr th:only-of-type {\n",
       "        vertical-align: middle;\n",
       "    }\n",
       "\n",
       "    .dataframe tbody tr th {\n",
       "        vertical-align: top;\n",
       "    }\n",
       "\n",
       "    .dataframe thead th {\n",
       "        text-align: right;\n",
       "    }\n",
       "</style>\n",
       "<table border=\"1\" class=\"dataframe\">\n",
       "  <thead>\n",
       "    <tr style=\"text-align: right;\">\n",
       "      <th></th>\n",
       "      <th>Survived</th>\n",
       "      <th>Pclass</th>\n",
       "      <th>Sex</th>\n",
       "      <th>Age</th>\n",
       "      <th>SibSp</th>\n",
       "      <th>Parch</th>\n",
       "      <th>Fare</th>\n",
       "      <th>Embarked</th>\n",
       "      <th>male</th>\n",
       "      <th>Embarked_C</th>\n",
       "      <th>Embarked_Q</th>\n",
       "      <th>Embarked_S</th>\n",
       "    </tr>\n",
       "  </thead>\n",
       "  <tbody>\n",
       "    <tr>\n",
       "      <th>0</th>\n",
       "      <td>0</td>\n",
       "      <td>3</td>\n",
       "      <td>male</td>\n",
       "      <td>22.0</td>\n",
       "      <td>1</td>\n",
       "      <td>0</td>\n",
       "      <td>7.2500</td>\n",
       "      <td>S</td>\n",
       "      <td>1</td>\n",
       "      <td>0</td>\n",
       "      <td>0</td>\n",
       "      <td>1</td>\n",
       "    </tr>\n",
       "    <tr>\n",
       "      <th>1</th>\n",
       "      <td>1</td>\n",
       "      <td>1</td>\n",
       "      <td>female</td>\n",
       "      <td>38.0</td>\n",
       "      <td>1</td>\n",
       "      <td>0</td>\n",
       "      <td>71.2833</td>\n",
       "      <td>C</td>\n",
       "      <td>0</td>\n",
       "      <td>1</td>\n",
       "      <td>0</td>\n",
       "      <td>0</td>\n",
       "    </tr>\n",
       "    <tr>\n",
       "      <th>2</th>\n",
       "      <td>1</td>\n",
       "      <td>3</td>\n",
       "      <td>female</td>\n",
       "      <td>26.0</td>\n",
       "      <td>0</td>\n",
       "      <td>0</td>\n",
       "      <td>7.9250</td>\n",
       "      <td>S</td>\n",
       "      <td>0</td>\n",
       "      <td>0</td>\n",
       "      <td>0</td>\n",
       "      <td>1</td>\n",
       "    </tr>\n",
       "    <tr>\n",
       "      <th>3</th>\n",
       "      <td>1</td>\n",
       "      <td>1</td>\n",
       "      <td>female</td>\n",
       "      <td>35.0</td>\n",
       "      <td>1</td>\n",
       "      <td>0</td>\n",
       "      <td>53.1000</td>\n",
       "      <td>S</td>\n",
       "      <td>0</td>\n",
       "      <td>0</td>\n",
       "      <td>0</td>\n",
       "      <td>1</td>\n",
       "    </tr>\n",
       "    <tr>\n",
       "      <th>4</th>\n",
       "      <td>0</td>\n",
       "      <td>3</td>\n",
       "      <td>male</td>\n",
       "      <td>35.0</td>\n",
       "      <td>0</td>\n",
       "      <td>0</td>\n",
       "      <td>8.0500</td>\n",
       "      <td>S</td>\n",
       "      <td>1</td>\n",
       "      <td>0</td>\n",
       "      <td>0</td>\n",
       "      <td>1</td>\n",
       "    </tr>\n",
       "  </tbody>\n",
       "</table>\n",
       "</div>"
      ],
      "text/plain": [
       "   Survived  Pclass     Sex   Age  SibSp  Parch     Fare Embarked  male  \\\n",
       "0         0       3    male  22.0      1      0   7.2500        S     1   \n",
       "1         1       1  female  38.0      1      0  71.2833        C     0   \n",
       "2         1       3  female  26.0      0      0   7.9250        S     0   \n",
       "3         1       1  female  35.0      1      0  53.1000        S     0   \n",
       "4         0       3    male  35.0      0      0   8.0500        S     1   \n",
       "\n",
       "   Embarked_C  Embarked_Q  Embarked_S  \n",
       "0           0           0           1  \n",
       "1           1           0           0  \n",
       "2           0           0           1  \n",
       "3           0           0           1  \n",
       "4           0           0           1  "
      ]
     },
     "execution_count": 37,
     "metadata": {},
     "output_type": "execute_result"
    }
   ],
   "source": [
    "df.head()"
   ]
  },
  {
   "cell_type": "code",
   "execution_count": 38,
   "id": "4c96907d",
   "metadata": {},
   "outputs": [
    {
     "data": {
      "text/plain": [
       "(891, 12)"
      ]
     },
     "execution_count": 38,
     "metadata": {},
     "output_type": "execute_result"
    }
   ],
   "source": [
    "df.shape"
   ]
  },
  {
   "cell_type": "code",
   "execution_count": 39,
   "id": "7e5eb54b",
   "metadata": {},
   "outputs": [],
   "source": [
    "df.drop(['Sex'], axis = 1,inplace = True)\n",
    "df.drop(['Embarked'], axis = 1,inplace = True)"
   ]
  },
  {
   "cell_type": "code",
   "execution_count": 40,
   "id": "dae0e958",
   "metadata": {},
   "outputs": [
    {
     "data": {
      "text/html": [
       "<div>\n",
       "<style scoped>\n",
       "    .dataframe tbody tr th:only-of-type {\n",
       "        vertical-align: middle;\n",
       "    }\n",
       "\n",
       "    .dataframe tbody tr th {\n",
       "        vertical-align: top;\n",
       "    }\n",
       "\n",
       "    .dataframe thead th {\n",
       "        text-align: right;\n",
       "    }\n",
       "</style>\n",
       "<table border=\"1\" class=\"dataframe\">\n",
       "  <thead>\n",
       "    <tr style=\"text-align: right;\">\n",
       "      <th></th>\n",
       "      <th>Pclass_1</th>\n",
       "      <th>male_1</th>\n",
       "      <th>Age_1</th>\n",
       "    </tr>\n",
       "  </thead>\n",
       "  <tbody>\n",
       "    <tr>\n",
       "      <th>0</th>\n",
       "      <td>3.0</td>\n",
       "      <td>1.0</td>\n",
       "      <td>22.0</td>\n",
       "    </tr>\n",
       "    <tr>\n",
       "      <th>1</th>\n",
       "      <td>1.0</td>\n",
       "      <td>0.0</td>\n",
       "      <td>38.0</td>\n",
       "    </tr>\n",
       "    <tr>\n",
       "      <th>2</th>\n",
       "      <td>3.0</td>\n",
       "      <td>0.0</td>\n",
       "      <td>26.0</td>\n",
       "    </tr>\n",
       "    <tr>\n",
       "      <th>3</th>\n",
       "      <td>1.0</td>\n",
       "      <td>0.0</td>\n",
       "      <td>35.0</td>\n",
       "    </tr>\n",
       "    <tr>\n",
       "      <th>4</th>\n",
       "      <td>3.0</td>\n",
       "      <td>1.0</td>\n",
       "      <td>35.0</td>\n",
       "    </tr>\n",
       "    <tr>\n",
       "      <th>...</th>\n",
       "      <td>...</td>\n",
       "      <td>...</td>\n",
       "      <td>...</td>\n",
       "    </tr>\n",
       "    <tr>\n",
       "      <th>886</th>\n",
       "      <td>2.0</td>\n",
       "      <td>1.0</td>\n",
       "      <td>27.0</td>\n",
       "    </tr>\n",
       "    <tr>\n",
       "      <th>887</th>\n",
       "      <td>1.0</td>\n",
       "      <td>0.0</td>\n",
       "      <td>19.0</td>\n",
       "    </tr>\n",
       "    <tr>\n",
       "      <th>888</th>\n",
       "      <td>3.0</td>\n",
       "      <td>0.0</td>\n",
       "      <td>19.0</td>\n",
       "    </tr>\n",
       "    <tr>\n",
       "      <th>889</th>\n",
       "      <td>1.0</td>\n",
       "      <td>1.0</td>\n",
       "      <td>26.0</td>\n",
       "    </tr>\n",
       "    <tr>\n",
       "      <th>890</th>\n",
       "      <td>3.0</td>\n",
       "      <td>1.0</td>\n",
       "      <td>32.0</td>\n",
       "    </tr>\n",
       "  </tbody>\n",
       "</table>\n",
       "<p>891 rows × 3 columns</p>\n",
       "</div>"
      ],
      "text/plain": [
       "     Pclass_1  male_1  Age_1\n",
       "0         3.0     1.0   22.0\n",
       "1         1.0     0.0   38.0\n",
       "2         3.0     0.0   26.0\n",
       "3         1.0     0.0   35.0\n",
       "4         3.0     1.0   35.0\n",
       "..        ...     ...    ...\n",
       "886       2.0     1.0   27.0\n",
       "887       1.0     0.0   19.0\n",
       "888       3.0     0.0   19.0\n",
       "889       1.0     1.0   26.0\n",
       "890       3.0     1.0   32.0\n",
       "\n",
       "[891 rows x 3 columns]"
      ]
     },
     "execution_count": 40,
     "metadata": {},
     "output_type": "execute_result"
    }
   ],
   "source": [
    "from sklearn.impute import KNNImputer\n",
    "\n",
    "knnimp = KNNImputer(n_neighbors = 3)\n",
    "\n",
    "knn_imp = pd.DataFrame(knnimp.fit_transform(df[['Pclass','male','Age']]), columns = ['Pclass_1','male_1', 'Age_1'])\n",
    "\n",
    "knn_imp"
   ]
  },
  {
   "cell_type": "code",
   "execution_count": 41,
   "id": "c0cafb2d",
   "metadata": {},
   "outputs": [],
   "source": [
    "df = pd.concat([df,knn_imp],axis = 1)"
   ]
  },
  {
   "cell_type": "code",
   "execution_count": 42,
   "id": "e892b217",
   "metadata": {},
   "outputs": [
    {
     "data": {
      "text/html": [
       "<div>\n",
       "<style scoped>\n",
       "    .dataframe tbody tr th:only-of-type {\n",
       "        vertical-align: middle;\n",
       "    }\n",
       "\n",
       "    .dataframe tbody tr th {\n",
       "        vertical-align: top;\n",
       "    }\n",
       "\n",
       "    .dataframe thead th {\n",
       "        text-align: right;\n",
       "    }\n",
       "</style>\n",
       "<table border=\"1\" class=\"dataframe\">\n",
       "  <thead>\n",
       "    <tr style=\"text-align: right;\">\n",
       "      <th></th>\n",
       "      <th>Survived</th>\n",
       "      <th>Pclass</th>\n",
       "      <th>Age</th>\n",
       "      <th>SibSp</th>\n",
       "      <th>Parch</th>\n",
       "      <th>Fare</th>\n",
       "      <th>male</th>\n",
       "      <th>Embarked_C</th>\n",
       "      <th>Embarked_Q</th>\n",
       "      <th>Embarked_S</th>\n",
       "      <th>Pclass_1</th>\n",
       "      <th>male_1</th>\n",
       "      <th>Age_1</th>\n",
       "    </tr>\n",
       "  </thead>\n",
       "  <tbody>\n",
       "    <tr>\n",
       "      <th>0</th>\n",
       "      <td>0</td>\n",
       "      <td>3</td>\n",
       "      <td>22.0</td>\n",
       "      <td>1</td>\n",
       "      <td>0</td>\n",
       "      <td>7.2500</td>\n",
       "      <td>1</td>\n",
       "      <td>0</td>\n",
       "      <td>0</td>\n",
       "      <td>1</td>\n",
       "      <td>3.0</td>\n",
       "      <td>1.0</td>\n",
       "      <td>22.0</td>\n",
       "    </tr>\n",
       "    <tr>\n",
       "      <th>1</th>\n",
       "      <td>1</td>\n",
       "      <td>1</td>\n",
       "      <td>38.0</td>\n",
       "      <td>1</td>\n",
       "      <td>0</td>\n",
       "      <td>71.2833</td>\n",
       "      <td>0</td>\n",
       "      <td>1</td>\n",
       "      <td>0</td>\n",
       "      <td>0</td>\n",
       "      <td>1.0</td>\n",
       "      <td>0.0</td>\n",
       "      <td>38.0</td>\n",
       "    </tr>\n",
       "    <tr>\n",
       "      <th>2</th>\n",
       "      <td>1</td>\n",
       "      <td>3</td>\n",
       "      <td>26.0</td>\n",
       "      <td>0</td>\n",
       "      <td>0</td>\n",
       "      <td>7.9250</td>\n",
       "      <td>0</td>\n",
       "      <td>0</td>\n",
       "      <td>0</td>\n",
       "      <td>1</td>\n",
       "      <td>3.0</td>\n",
       "      <td>0.0</td>\n",
       "      <td>26.0</td>\n",
       "    </tr>\n",
       "    <tr>\n",
       "      <th>3</th>\n",
       "      <td>1</td>\n",
       "      <td>1</td>\n",
       "      <td>35.0</td>\n",
       "      <td>1</td>\n",
       "      <td>0</td>\n",
       "      <td>53.1000</td>\n",
       "      <td>0</td>\n",
       "      <td>0</td>\n",
       "      <td>0</td>\n",
       "      <td>1</td>\n",
       "      <td>1.0</td>\n",
       "      <td>0.0</td>\n",
       "      <td>35.0</td>\n",
       "    </tr>\n",
       "    <tr>\n",
       "      <th>4</th>\n",
       "      <td>0</td>\n",
       "      <td>3</td>\n",
       "      <td>35.0</td>\n",
       "      <td>0</td>\n",
       "      <td>0</td>\n",
       "      <td>8.0500</td>\n",
       "      <td>1</td>\n",
       "      <td>0</td>\n",
       "      <td>0</td>\n",
       "      <td>1</td>\n",
       "      <td>3.0</td>\n",
       "      <td>1.0</td>\n",
       "      <td>35.0</td>\n",
       "    </tr>\n",
       "  </tbody>\n",
       "</table>\n",
       "</div>"
      ],
      "text/plain": [
       "   Survived  Pclass   Age  SibSp  Parch     Fare  male  Embarked_C  \\\n",
       "0         0       3  22.0      1      0   7.2500     1           0   \n",
       "1         1       1  38.0      1      0  71.2833     0           1   \n",
       "2         1       3  26.0      0      0   7.9250     0           0   \n",
       "3         1       1  35.0      1      0  53.1000     0           0   \n",
       "4         0       3  35.0      0      0   8.0500     1           0   \n",
       "\n",
       "   Embarked_Q  Embarked_S  Pclass_1  male_1  Age_1  \n",
       "0           0           1       3.0     1.0   22.0  \n",
       "1           0           0       1.0     0.0   38.0  \n",
       "2           0           1       3.0     0.0   26.0  \n",
       "3           0           1       1.0     0.0   35.0  \n",
       "4           0           1       3.0     1.0   35.0  "
      ]
     },
     "execution_count": 42,
     "metadata": {},
     "output_type": "execute_result"
    }
   ],
   "source": [
    "df.head()"
   ]
  },
  {
   "cell_type": "code",
   "execution_count": 43,
   "id": "25231d04",
   "metadata": {},
   "outputs": [],
   "source": [
    "df.drop(['Pclass_1'], axis = 1,inplace = True)\n",
    "df.drop(['male_1'], axis = 1,inplace = True)\n",
    "df.drop(['Age'], axis = 1,inplace = True)"
   ]
  },
  {
   "cell_type": "code",
   "execution_count": 44,
   "id": "c929efa7",
   "metadata": {},
   "outputs": [
    {
     "data": {
      "text/html": [
       "<div>\n",
       "<style scoped>\n",
       "    .dataframe tbody tr th:only-of-type {\n",
       "        vertical-align: middle;\n",
       "    }\n",
       "\n",
       "    .dataframe tbody tr th {\n",
       "        vertical-align: top;\n",
       "    }\n",
       "\n",
       "    .dataframe thead th {\n",
       "        text-align: right;\n",
       "    }\n",
       "</style>\n",
       "<table border=\"1\" class=\"dataframe\">\n",
       "  <thead>\n",
       "    <tr style=\"text-align: right;\">\n",
       "      <th></th>\n",
       "      <th>Survived</th>\n",
       "      <th>Pclass</th>\n",
       "      <th>SibSp</th>\n",
       "      <th>Parch</th>\n",
       "      <th>Fare</th>\n",
       "      <th>male</th>\n",
       "      <th>Embarked_C</th>\n",
       "      <th>Embarked_Q</th>\n",
       "      <th>Embarked_S</th>\n",
       "      <th>Age_1</th>\n",
       "    </tr>\n",
       "  </thead>\n",
       "  <tbody>\n",
       "    <tr>\n",
       "      <th>0</th>\n",
       "      <td>0</td>\n",
       "      <td>3</td>\n",
       "      <td>1</td>\n",
       "      <td>0</td>\n",
       "      <td>7.2500</td>\n",
       "      <td>1</td>\n",
       "      <td>0</td>\n",
       "      <td>0</td>\n",
       "      <td>1</td>\n",
       "      <td>22.0</td>\n",
       "    </tr>\n",
       "    <tr>\n",
       "      <th>1</th>\n",
       "      <td>1</td>\n",
       "      <td>1</td>\n",
       "      <td>1</td>\n",
       "      <td>0</td>\n",
       "      <td>71.2833</td>\n",
       "      <td>0</td>\n",
       "      <td>1</td>\n",
       "      <td>0</td>\n",
       "      <td>0</td>\n",
       "      <td>38.0</td>\n",
       "    </tr>\n",
       "    <tr>\n",
       "      <th>2</th>\n",
       "      <td>1</td>\n",
       "      <td>3</td>\n",
       "      <td>0</td>\n",
       "      <td>0</td>\n",
       "      <td>7.9250</td>\n",
       "      <td>0</td>\n",
       "      <td>0</td>\n",
       "      <td>0</td>\n",
       "      <td>1</td>\n",
       "      <td>26.0</td>\n",
       "    </tr>\n",
       "    <tr>\n",
       "      <th>3</th>\n",
       "      <td>1</td>\n",
       "      <td>1</td>\n",
       "      <td>1</td>\n",
       "      <td>0</td>\n",
       "      <td>53.1000</td>\n",
       "      <td>0</td>\n",
       "      <td>0</td>\n",
       "      <td>0</td>\n",
       "      <td>1</td>\n",
       "      <td>35.0</td>\n",
       "    </tr>\n",
       "    <tr>\n",
       "      <th>4</th>\n",
       "      <td>0</td>\n",
       "      <td>3</td>\n",
       "      <td>0</td>\n",
       "      <td>0</td>\n",
       "      <td>8.0500</td>\n",
       "      <td>1</td>\n",
       "      <td>0</td>\n",
       "      <td>0</td>\n",
       "      <td>1</td>\n",
       "      <td>35.0</td>\n",
       "    </tr>\n",
       "  </tbody>\n",
       "</table>\n",
       "</div>"
      ],
      "text/plain": [
       "   Survived  Pclass  SibSp  Parch     Fare  male  Embarked_C  Embarked_Q  \\\n",
       "0         0       3      1      0   7.2500     1           0           0   \n",
       "1         1       1      1      0  71.2833     0           1           0   \n",
       "2         1       3      0      0   7.9250     0           0           0   \n",
       "3         1       1      1      0  53.1000     0           0           0   \n",
       "4         0       3      0      0   8.0500     1           0           0   \n",
       "\n",
       "   Embarked_S  Age_1  \n",
       "0           1   22.0  \n",
       "1           0   38.0  \n",
       "2           1   26.0  \n",
       "3           1   35.0  \n",
       "4           1   35.0  "
      ]
     },
     "execution_count": 44,
     "metadata": {},
     "output_type": "execute_result"
    }
   ],
   "source": [
    "df.head()"
   ]
  },
  {
   "cell_type": "code",
   "execution_count": 45,
   "id": "5736a3f5",
   "metadata": {},
   "outputs": [
    {
     "data": {
      "text/plain": [
       "Survived      0\n",
       "Pclass        0\n",
       "SibSp         0\n",
       "Parch         0\n",
       "Fare          0\n",
       "male          0\n",
       "Embarked_C    0\n",
       "Embarked_Q    0\n",
       "Embarked_S    0\n",
       "Age_1         0\n",
       "dtype: int64"
      ]
     },
     "execution_count": 45,
     "metadata": {},
     "output_type": "execute_result"
    }
   ],
   "source": [
    "df.isnull().sum()"
   ]
  },
  {
   "cell_type": "code",
   "execution_count": 46,
   "id": "a27f5c27",
   "metadata": {},
   "outputs": [
    {
     "data": {
      "text/html": [
       "<div>\n",
       "<style scoped>\n",
       "    .dataframe tbody tr th:only-of-type {\n",
       "        vertical-align: middle;\n",
       "    }\n",
       "\n",
       "    .dataframe tbody tr th {\n",
       "        vertical-align: top;\n",
       "    }\n",
       "\n",
       "    .dataframe thead th {\n",
       "        text-align: right;\n",
       "    }\n",
       "</style>\n",
       "<table border=\"1\" class=\"dataframe\">\n",
       "  <thead>\n",
       "    <tr style=\"text-align: right;\">\n",
       "      <th></th>\n",
       "      <th>Survived</th>\n",
       "      <th>Pclass</th>\n",
       "      <th>SibSp</th>\n",
       "      <th>Parch</th>\n",
       "      <th>Fare</th>\n",
       "      <th>male</th>\n",
       "      <th>Embarked_C</th>\n",
       "      <th>Embarked_Q</th>\n",
       "      <th>Embarked_S</th>\n",
       "      <th>Age</th>\n",
       "    </tr>\n",
       "  </thead>\n",
       "  <tbody>\n",
       "    <tr>\n",
       "      <th>0</th>\n",
       "      <td>0</td>\n",
       "      <td>3</td>\n",
       "      <td>1</td>\n",
       "      <td>0</td>\n",
       "      <td>7.2500</td>\n",
       "      <td>1</td>\n",
       "      <td>0</td>\n",
       "      <td>0</td>\n",
       "      <td>1</td>\n",
       "      <td>22.0</td>\n",
       "    </tr>\n",
       "    <tr>\n",
       "      <th>1</th>\n",
       "      <td>1</td>\n",
       "      <td>1</td>\n",
       "      <td>1</td>\n",
       "      <td>0</td>\n",
       "      <td>71.2833</td>\n",
       "      <td>0</td>\n",
       "      <td>1</td>\n",
       "      <td>0</td>\n",
       "      <td>0</td>\n",
       "      <td>38.0</td>\n",
       "    </tr>\n",
       "    <tr>\n",
       "      <th>2</th>\n",
       "      <td>1</td>\n",
       "      <td>3</td>\n",
       "      <td>0</td>\n",
       "      <td>0</td>\n",
       "      <td>7.9250</td>\n",
       "      <td>0</td>\n",
       "      <td>0</td>\n",
       "      <td>0</td>\n",
       "      <td>1</td>\n",
       "      <td>26.0</td>\n",
       "    </tr>\n",
       "    <tr>\n",
       "      <th>3</th>\n",
       "      <td>1</td>\n",
       "      <td>1</td>\n",
       "      <td>1</td>\n",
       "      <td>0</td>\n",
       "      <td>53.1000</td>\n",
       "      <td>0</td>\n",
       "      <td>0</td>\n",
       "      <td>0</td>\n",
       "      <td>1</td>\n",
       "      <td>35.0</td>\n",
       "    </tr>\n",
       "    <tr>\n",
       "      <th>4</th>\n",
       "      <td>0</td>\n",
       "      <td>3</td>\n",
       "      <td>0</td>\n",
       "      <td>0</td>\n",
       "      <td>8.0500</td>\n",
       "      <td>1</td>\n",
       "      <td>0</td>\n",
       "      <td>0</td>\n",
       "      <td>1</td>\n",
       "      <td>35.0</td>\n",
       "    </tr>\n",
       "  </tbody>\n",
       "</table>\n",
       "</div>"
      ],
      "text/plain": [
       "   Survived  Pclass  SibSp  Parch     Fare  male  Embarked_C  Embarked_Q  \\\n",
       "0         0       3      1      0   7.2500     1           0           0   \n",
       "1         1       1      1      0  71.2833     0           1           0   \n",
       "2         1       3      0      0   7.9250     0           0           0   \n",
       "3         1       1      1      0  53.1000     0           0           0   \n",
       "4         0       3      0      0   8.0500     1           0           0   \n",
       "\n",
       "   Embarked_S   Age  \n",
       "0           1  22.0  \n",
       "1           0  38.0  \n",
       "2           1  26.0  \n",
       "3           1  35.0  \n",
       "4           1  35.0  "
      ]
     },
     "execution_count": 46,
     "metadata": {},
     "output_type": "execute_result"
    }
   ],
   "source": [
    "df.rename(columns = {'Age_1':'Age'}, inplace = True)\n",
    "\n",
    "df.head()"
   ]
  },
  {
   "cell_type": "code",
   "execution_count": 47,
   "id": "42071c44",
   "metadata": {},
   "outputs": [],
   "source": [
    "x = df.drop(columns = 'Survived')\n",
    "y = df.Survived"
   ]
  },
  {
   "cell_type": "code",
   "execution_count": 48,
   "id": "13267a66",
   "metadata": {},
   "outputs": [
    {
     "data": {
      "image/png": "[encoded data removed]",
      "text/plain": [
       "<Figure size 1440x1800 with 9 Axes>"
      ]
     },
     "metadata": {
      "needs_background": "light"
     },
     "output_type": "display_data"
    }
   ],
   "source": [
    "plt.figure(figsize=(20,25))\n",
    "fignumber = 1\n",
    "\n",
    "for column in x:\n",
    "    if fignumber <= 9:\n",
    "        ax = plt.subplot(3,3,fignumber)\n",
    "        sns.stripplot(y,x[column])\n",
    "        \n",
    "    fignumber +=1\n",
    "plt.show()"
   ]
  },
  {
   "cell_type": "code",
   "execution_count": 49,
   "id": "fa0f3a41",
   "metadata": {},
   "outputs": [
    {
     "data": {
      "image/png": "[encoded data removed]",
      "text/plain": [
       "<Figure size 1440x1440 with 9 Axes>"
      ]
     },
     "metadata": {
      "needs_background": "light"
     },
     "output_type": "display_data"
    }
   ],
   "source": [
    "plt.figure(figsize = (20,20))\n",
    "plotnumber = 1\n",
    "\n",
    "for column in x:\n",
    "    if plotnumber <= 9:\n",
    "        ax = plt.subplot(3,3,plotnumber)\n",
    "        sns.distplot(x[column])\n",
    "        plt.xlabel(column, fontsize = 20)\n",
    "    plotnumber +=1\n",
    "plt.tight_layout()"
   ]
  },
  {
   "cell_type": "code",
   "execution_count": 50,
   "id": "df543343",
   "metadata": {},
   "outputs": [],
   "source": [
    "from sklearn.preprocessing import StandardScaler\n",
    "\n",
    "scaler = StandardScaler()\n",
    "\n",
    "x_scaled = scaler.fit_transform(x)"
   ]
  },
  {
   "cell_type": "code",
   "execution_count": 51,
   "id": "8b39055f",
   "metadata": {},
   "outputs": [
    {
     "data": {
      "text/html": [
       "<div>\n",
       "<style scoped>\n",
       "    .dataframe tbody tr th:only-of-type {\n",
       "        vertical-align: middle;\n",
       "    }\n",
       "\n",
       "    .dataframe tbody tr th {\n",
       "        vertical-align: top;\n",
       "    }\n",
       "\n",
       "    .dataframe thead th {\n",
       "        text-align: right;\n",
       "    }\n",
       "</style>\n",
       "<table border=\"1\" class=\"dataframe\">\n",
       "  <thead>\n",
       "    <tr style=\"text-align: right;\">\n",
       "      <th></th>\n",
       "      <th>vif</th>\n",
       "      <th>features</th>\n",
       "    </tr>\n",
       "  </thead>\n",
       "  <tbody>\n",
       "    <tr>\n",
       "      <th>0</th>\n",
       "      <td>1.902352</td>\n",
       "      <td>Pclass</td>\n",
       "    </tr>\n",
       "    <tr>\n",
       "      <th>1</th>\n",
       "      <td>1.292438</td>\n",
       "      <td>SibSp</td>\n",
       "    </tr>\n",
       "    <tr>\n",
       "      <th>2</th>\n",
       "      <td>1.329624</td>\n",
       "      <td>Parch</td>\n",
       "    </tr>\n",
       "    <tr>\n",
       "      <th>3</th>\n",
       "      <td>1.652541</td>\n",
       "      <td>Fare</td>\n",
       "    </tr>\n",
       "    <tr>\n",
       "      <th>4</th>\n",
       "      <td>1.123776</td>\n",
       "      <td>male</td>\n",
       "    </tr>\n",
       "    <tr>\n",
       "      <th>5</th>\n",
       "      <td>inf</td>\n",
       "      <td>Embarked_C</td>\n",
       "    </tr>\n",
       "    <tr>\n",
       "      <th>6</th>\n",
       "      <td>inf</td>\n",
       "      <td>Embarked_Q</td>\n",
       "    </tr>\n",
       "    <tr>\n",
       "      <th>7</th>\n",
       "      <td>inf</td>\n",
       "      <td>Embarked_S</td>\n",
       "    </tr>\n",
       "    <tr>\n",
       "      <th>8</th>\n",
       "      <td>1.350250</td>\n",
       "      <td>Age</td>\n",
       "    </tr>\n",
       "  </tbody>\n",
       "</table>\n",
       "</div>"
      ],
      "text/plain": [
       "        vif    features\n",
       "0  1.902352      Pclass\n",
       "1  1.292438       SibSp\n",
       "2  1.329624       Parch\n",
       "3  1.652541        Fare\n",
       "4  1.123776        male\n",
       "5       inf  Embarked_C\n",
       "6       inf  Embarked_Q\n",
       "7       inf  Embarked_S\n",
       "8  1.350250         Age"
      ]
     },
     "execution_count": 51,
     "metadata": {},
     "output_type": "execute_result"
    }
   ],
   "source": [
    "from statsmodels.stats.outliers_influence import variance_inflation_factor\n",
    "\n",
    "vif = pd.DataFrame()\n",
    "\n",
    "vif['vif'] = [variance_inflation_factor(x_scaled, i) for i in range (x_scaled.shape[1])]\n",
    "\n",
    "vif['features'] = x.columns\n",
    "\n",
    "\n",
    "# Lets check the values \n",
    "vif"
   ]
  },
  {
   "cell_type": "markdown",
   "id": "1c7acbf1",
   "metadata": {},
   "source": [
    "As the VIF values represent, there is no multicollinearity in the Dataset."
   ]
  },
  {
   "cell_type": "code",
   "execution_count": 52,
   "id": "20490e6d",
   "metadata": {},
   "outputs": [
    {
     "name": "stdout",
     "output_type": "stream",
     "text": [
      "accuracy score 0.8116591928251121 random_state 1\n",
      "accuracy score 0.8116591928251121 random_state 1\n",
      "accuracy score 0.8026905829596412 random_state 2\n",
      "accuracy score 0.7668161434977578 random_state 3\n",
      "accuracy score 0.820627802690583 random_state 4\n",
      "accuracy score 0.820627802690583 random_state 4\n",
      "accuracy score 0.8340807174887892 random_state 5\n",
      "accuracy score 0.8340807174887892 random_state 5\n",
      "accuracy score 0.8609865470852018 random_state 6\n",
      "accuracy score 0.8609865470852018 random_state 6\n",
      "accuracy score 0.7533632286995515 random_state 7\n",
      "accuracy score 0.7937219730941704 random_state 8\n",
      "accuracy score 0.7892376681614349 random_state 9\n",
      "accuracy score 0.8251121076233184 random_state 10\n",
      "accuracy score 0.8654708520179372 random_state 11\n",
      "accuracy score 0.8654708520179372 random_state 11\n",
      "accuracy score 0.8251121076233184 random_state 12\n",
      "accuracy score 0.8071748878923767 random_state 13\n",
      "accuracy score 0.820627802690583 random_state 14\n",
      "accuracy score 0.8026905829596412 random_state 15\n",
      "accuracy score 0.7713004484304933 random_state 16\n",
      "accuracy score 0.7847533632286996 random_state 17\n",
      "accuracy score 0.8475336322869955 random_state 18\n",
      "accuracy score 0.8295964125560538 random_state 19\n",
      "accuracy score 0.820627802690583 random_state 20\n",
      "accuracy score 0.7982062780269058 random_state 21\n",
      "accuracy score 0.7937219730941704 random_state 22\n",
      "accuracy score 0.7713004484304933 random_state 23\n",
      "accuracy score 0.8295964125560538 random_state 24\n",
      "accuracy score 0.7982062780269058 random_state 25\n",
      "accuracy score 0.7982062780269058 random_state 26\n",
      "accuracy score 0.8026905829596412 random_state 27\n",
      "accuracy score 0.7757847533632287 random_state 28\n",
      "accuracy score 0.7623318385650224 random_state 29\n",
      "accuracy score 0.7937219730941704 random_state 30\n",
      "accuracy score 0.8026905829596412 random_state 31\n",
      "accuracy score 0.7757847533632287 random_state 32\n",
      "accuracy score 0.8295964125560538 random_state 33\n",
      "accuracy score 0.8430493273542601 random_state 34\n",
      "accuracy score 0.7937219730941704 random_state 35\n",
      "accuracy score 0.8251121076233184 random_state 36\n",
      "accuracy score 0.8026905829596412 random_state 37\n",
      "accuracy score 0.8475336322869955 random_state 38\n",
      "accuracy score 0.7802690582959642 random_state 39\n",
      "accuracy score 0.8116591928251121 random_state 40\n",
      "accuracy score 0.8116591928251121 random_state 41\n",
      "accuracy score 0.8071748878923767 random_state 42\n",
      "accuracy score 0.7443946188340808 random_state 43\n",
      "accuracy score 0.757847533632287 random_state 44\n",
      "accuracy score 0.8251121076233184 random_state 45\n",
      "accuracy score 0.8385650224215246 random_state 46\n",
      "accuracy score 0.8116591928251121 random_state 47\n",
      "accuracy score 0.7892376681614349 random_state 48\n",
      "accuracy score 0.8071748878923767 random_state 49\n",
      "accuracy score 0.8161434977578476 random_state 50\n",
      "accuracy score 0.7847533632286996 random_state 51\n",
      "accuracy score 0.8026905829596412 random_state 52\n",
      "accuracy score 0.8071748878923767 random_state 53\n",
      "accuracy score 0.7757847533632287 random_state 54\n",
      "accuracy score 0.7757847533632287 random_state 55\n",
      "accuracy score 0.8475336322869955 random_state 56\n",
      "accuracy score 0.7892376681614349 random_state 57\n",
      "accuracy score 0.8026905829596412 random_state 58\n",
      "accuracy score 0.7443946188340808 random_state 59\n",
      "accuracy score 0.757847533632287 random_state 60\n",
      "accuracy score 0.8116591928251121 random_state 61\n",
      "accuracy score 0.8161434977578476 random_state 62\n",
      "accuracy score 0.8071748878923767 random_state 63\n",
      "accuracy score 0.8340807174887892 random_state 64\n",
      "accuracy score 0.7892376681614349 random_state 65\n",
      "accuracy score 0.7757847533632287 random_state 66\n",
      "accuracy score 0.8251121076233184 random_state 67\n",
      "accuracy score 0.8251121076233184 random_state 68\n",
      "accuracy score 0.8161434977578476 random_state 69\n",
      "accuracy score 0.8340807174887892 random_state 70\n",
      "accuracy score 0.8116591928251121 random_state 71\n",
      "accuracy score 0.820627802690583 random_state 72\n",
      "accuracy score 0.8161434977578476 random_state 73\n",
      "accuracy score 0.8295964125560538 random_state 74\n",
      "accuracy score 0.7757847533632287 random_state 75\n",
      "accuracy score 0.8565022421524664 random_state 76\n",
      "accuracy score 0.8026905829596412 random_state 77\n",
      "accuracy score 0.8475336322869955 random_state 78\n",
      "accuracy score 0.820627802690583 random_state 79\n",
      "accuracy score 0.7802690582959642 random_state 80\n",
      "accuracy score 0.7668161434977578 random_state 81\n",
      "accuracy score 0.8026905829596412 random_state 82\n",
      "accuracy score 0.7847533632286996 random_state 83\n",
      "accuracy score 0.7354260089686099 random_state 84\n",
      "accuracy score 0.7982062780269058 random_state 85\n",
      "accuracy score 0.8071748878923767 random_state 86\n",
      "accuracy score 0.8026905829596412 random_state 87\n",
      "accuracy score 0.7892376681614349 random_state 88\n",
      "accuracy score 0.820627802690583 random_state 89\n",
      "accuracy score 0.7982062780269058 random_state 90\n",
      "accuracy score 0.7757847533632287 random_state 91\n",
      "accuracy score 0.7892376681614349 random_state 92\n",
      "accuracy score 0.852017937219731 random_state 93\n",
      "accuracy score 0.7982062780269058 random_state 94\n",
      "accuracy score 0.8161434977578476 random_state 95\n",
      "accuracy score 0.7982062780269058 random_state 96\n",
      "accuracy score 0.7802690582959642 random_state 97\n",
      "accuracy score 0.7668161434977578 random_state 98\n",
      "accuracy score 0.7623318385650224 random_state 99\n",
      "accuracy score 0.7892376681614349 random_state 100\n",
      "accuracy score 0.7802690582959642 random_state 101\n",
      "accuracy score 0.820627802690583 random_state 102\n",
      "accuracy score 0.8071748878923767 random_state 103\n",
      "accuracy score 0.8026905829596412 random_state 104\n",
      "accuracy score 0.7713004484304933 random_state 105\n",
      "accuracy score 0.8071748878923767 random_state 106\n",
      "accuracy score 0.8071748878923767 random_state 107\n",
      "accuracy score 0.7937219730941704 random_state 108\n",
      "accuracy score 0.7802690582959642 random_state 109\n",
      "accuracy score 0.7937219730941704 random_state 110\n",
      "accuracy score 0.7668161434977578 random_state 111\n",
      "accuracy score 0.820627802690583 random_state 112\n",
      "accuracy score 0.8071748878923767 random_state 113\n",
      "accuracy score 0.757847533632287 random_state 114\n",
      "accuracy score 0.8295964125560538 random_state 115\n",
      "accuracy score 0.8071748878923767 random_state 116\n",
      "accuracy score 0.7757847533632287 random_state 117\n",
      "accuracy score 0.7802690582959642 random_state 118\n",
      "accuracy score 0.8026905829596412 random_state 119\n",
      "accuracy score 0.7847533632286996 random_state 120\n",
      "accuracy score 0.7668161434977578 random_state 121\n",
      "accuracy score 0.7757847533632287 random_state 122\n",
      "accuracy score 0.8161434977578476 random_state 123\n",
      "accuracy score 0.7892376681614349 random_state 124\n",
      "accuracy score 0.7982062780269058 random_state 125\n",
      "accuracy score 0.8071748878923767 random_state 126\n",
      "accuracy score 0.8251121076233184 random_state 127\n",
      "accuracy score 0.7892376681614349 random_state 128\n",
      "accuracy score 0.8430493273542601 random_state 129\n",
      "accuracy score 0.8340807174887892 random_state 130\n",
      "accuracy score 0.7533632286995515 random_state 131\n",
      "accuracy score 0.8161434977578476 random_state 132\n",
      "accuracy score 0.8340807174887892 random_state 133\n",
      "accuracy score 0.7713004484304933 random_state 134\n",
      "accuracy score 0.7982062780269058 random_state 135\n",
      "accuracy score 0.8116591928251121 random_state 136\n",
      "accuracy score 0.7982062780269058 random_state 137\n",
      "accuracy score 0.7982062780269058 random_state 138\n",
      "accuracy score 0.820627802690583 random_state 139\n",
      "accuracy score 0.7982062780269058 random_state 140\n",
      "accuracy score 0.8026905829596412 random_state 141\n",
      "accuracy score 0.8071748878923767 random_state 142\n",
      "accuracy score 0.757847533632287 random_state 143\n",
      "accuracy score 0.8026905829596412 random_state 144\n",
      "accuracy score 0.8251121076233184 random_state 145\n",
      "accuracy score 0.7757847533632287 random_state 146\n",
      "accuracy score 0.8071748878923767 random_state 147\n",
      "accuracy score 0.8026905829596412 random_state 148\n",
      "accuracy score 0.8340807174887892 random_state 149\n",
      "accuracy score 0.874439461883408 random_state 150\n",
      "accuracy score 0.874439461883408 random_state 150\n",
      "accuracy score 0.757847533632287 random_state 151\n",
      "accuracy score 0.8161434977578476 random_state 152\n",
      "accuracy score 0.7892376681614349 random_state 153\n",
      "accuracy score 0.7982062780269058 random_state 154\n",
      "accuracy score 0.7668161434977578 random_state 155\n",
      "accuracy score 0.8071748878923767 random_state 156\n",
      "accuracy score 0.7982062780269058 random_state 157\n",
      "accuracy score 0.8071748878923767 random_state 158\n",
      "accuracy score 0.8251121076233184 random_state 159\n",
      "accuracy score 0.7892376681614349 random_state 160\n",
      "accuracy score 0.7757847533632287 random_state 161\n",
      "accuracy score 0.7892376681614349 random_state 162\n",
      "accuracy score 0.8430493273542601 random_state 163\n",
      "accuracy score 0.8116591928251121 random_state 164\n",
      "accuracy score 0.8251121076233184 random_state 165\n",
      "accuracy score 0.8071748878923767 random_state 166\n",
      "accuracy score 0.8026905829596412 random_state 167\n",
      "accuracy score 0.8295964125560538 random_state 168\n"
     ]
    },
    {
     "name": "stdout",
     "output_type": "stream",
     "text": [
      "accuracy score 0.8251121076233184 random_state 169\n",
      "accuracy score 0.7757847533632287 random_state 170\n",
      "accuracy score 0.7982062780269058 random_state 171\n",
      "accuracy score 0.8161434977578476 random_state 172\n",
      "accuracy score 0.8116591928251121 random_state 173\n",
      "accuracy score 0.7892376681614349 random_state 174\n",
      "accuracy score 0.7937219730941704 random_state 175\n",
      "accuracy score 0.7443946188340808 random_state 176\n",
      "accuracy score 0.7982062780269058 random_state 177\n",
      "accuracy score 0.7937219730941704 random_state 178\n",
      "accuracy score 0.7713004484304933 random_state 179\n",
      "accuracy score 0.820627802690583 random_state 180\n",
      "accuracy score 0.7757847533632287 random_state 181\n",
      "accuracy score 0.8071748878923767 random_state 182\n",
      "accuracy score 0.8071748878923767 random_state 183\n",
      "accuracy score 0.820627802690583 random_state 184\n",
      "accuracy score 0.7713004484304933 random_state 185\n",
      "accuracy score 0.7892376681614349 random_state 186\n",
      "accuracy score 0.7668161434977578 random_state 187\n",
      "accuracy score 0.7892376681614349 random_state 188\n",
      "accuracy score 0.7937219730941704 random_state 189\n",
      "accuracy score 0.8026905829596412 random_state 190\n",
      "accuracy score 0.8116591928251121 random_state 191\n",
      "accuracy score 0.7892376681614349 random_state 192\n",
      "accuracy score 0.8116591928251121 random_state 193\n",
      "accuracy score 0.7982062780269058 random_state 194\n",
      "accuracy score 0.7937219730941704 random_state 195\n",
      "accuracy score 0.8295964125560538 random_state 196\n",
      "accuracy score 0.7892376681614349 random_state 197\n",
      "accuracy score 0.7713004484304933 random_state 198\n",
      "accuracy score 0.7713004484304933 random_state 199\n",
      "accuracy score 0.7757847533632287 random_state 200\n",
      "accuracy score 0.8251121076233184 random_state 201\n",
      "accuracy score 0.7399103139013453 random_state 202\n",
      "accuracy score 0.7757847533632287 random_state 203\n",
      "accuracy score 0.8071748878923767 random_state 204\n",
      "accuracy score 0.7757847533632287 random_state 205\n",
      "accuracy score 0.7668161434977578 random_state 206\n",
      "accuracy score 0.8161434977578476 random_state 207\n",
      "accuracy score 0.7847533632286996 random_state 208\n",
      "accuracy score 0.7892376681614349 random_state 209\n",
      "accuracy score 0.7847533632286996 random_state 210\n",
      "accuracy score 0.8251121076233184 random_state 211\n",
      "accuracy score 0.8251121076233184 random_state 212\n",
      "accuracy score 0.7847533632286996 random_state 213\n",
      "accuracy score 0.8251121076233184 random_state 214\n",
      "accuracy score 0.7982062780269058 random_state 215\n",
      "accuracy score 0.7937219730941704 random_state 216\n",
      "accuracy score 0.7847533632286996 random_state 217\n",
      "accuracy score 0.8161434977578476 random_state 218\n",
      "accuracy score 0.8161434977578476 random_state 219\n",
      "accuracy score 0.8430493273542601 random_state 220\n",
      "accuracy score 0.7488789237668162 random_state 221\n",
      "accuracy score 0.7982062780269058 random_state 222\n",
      "accuracy score 0.7937219730941704 random_state 223\n",
      "accuracy score 0.8116591928251121 random_state 224\n",
      "accuracy score 0.7802690582959642 random_state 225\n",
      "accuracy score 0.7802690582959642 random_state 226\n",
      "accuracy score 0.8251121076233184 random_state 227\n",
      "accuracy score 0.7668161434977578 random_state 228\n",
      "accuracy score 0.7757847533632287 random_state 229\n",
      "accuracy score 0.8071748878923767 random_state 230\n",
      "accuracy score 0.8385650224215246 random_state 231\n",
      "accuracy score 0.8430493273542601 random_state 232\n",
      "accuracy score 0.7982062780269058 random_state 233\n",
      "accuracy score 0.7668161434977578 random_state 234\n",
      "accuracy score 0.8295964125560538 random_state 235\n",
      "accuracy score 0.7623318385650224 random_state 236\n",
      "accuracy score 0.7892376681614349 random_state 237\n",
      "accuracy score 0.8116591928251121 random_state 238\n",
      "accuracy score 0.8026905829596412 random_state 239\n",
      "accuracy score 0.7982062780269058 random_state 240\n",
      "accuracy score 0.8385650224215246 random_state 241\n",
      "accuracy score 0.7847533632286996 random_state 242\n",
      "accuracy score 0.8251121076233184 random_state 243\n",
      "accuracy score 0.7802690582959642 random_state 244\n",
      "accuracy score 0.7668161434977578 random_state 245\n",
      "accuracy score 0.8430493273542601 random_state 246\n",
      "accuracy score 0.7847533632286996 random_state 247\n",
      "accuracy score 0.8340807174887892 random_state 248\n",
      "accuracy score 0.8385650224215246 random_state 249\n",
      "accuracy score 0.7982062780269058 random_state 250\n",
      "accuracy score 0.7982062780269058 random_state 251\n",
      "accuracy score 0.7443946188340808 random_state 252\n",
      "accuracy score 0.8161434977578476 random_state 253\n",
      "accuracy score 0.820627802690583 random_state 254\n",
      "accuracy score 0.7937219730941704 random_state 255\n",
      "accuracy score 0.7399103139013453 random_state 256\n",
      "accuracy score 0.7847533632286996 random_state 257\n",
      "accuracy score 0.8161434977578476 random_state 258\n",
      "accuracy score 0.7937219730941704 random_state 259\n",
      "accuracy score 0.7982062780269058 random_state 260\n",
      "accuracy score 0.7757847533632287 random_state 261\n",
      "accuracy score 0.7757847533632287 random_state 262\n",
      "accuracy score 0.8251121076233184 random_state 263\n",
      "accuracy score 0.8161434977578476 random_state 264\n",
      "accuracy score 0.7847533632286996 random_state 265\n",
      "accuracy score 0.7713004484304933 random_state 266\n",
      "accuracy score 0.820627802690583 random_state 267\n",
      "accuracy score 0.7937219730941704 random_state 268\n",
      "accuracy score 0.8295964125560538 random_state 269\n",
      "accuracy score 0.8026905829596412 random_state 270\n",
      "accuracy score 0.852017937219731 random_state 271\n",
      "accuracy score 0.7802690582959642 random_state 272\n",
      "accuracy score 0.8340807174887892 random_state 273\n",
      "accuracy score 0.7713004484304933 random_state 274\n",
      "accuracy score 0.7623318385650224 random_state 275\n",
      "accuracy score 0.8026905829596412 random_state 276\n",
      "accuracy score 0.7982062780269058 random_state 277\n",
      "accuracy score 0.820627802690583 random_state 278\n",
      "accuracy score 0.8251121076233184 random_state 279\n",
      "accuracy score 0.8251121076233184 random_state 280\n",
      "accuracy score 0.757847533632287 random_state 281\n",
      "accuracy score 0.7757847533632287 random_state 282\n",
      "accuracy score 0.820627802690583 random_state 283\n",
      "accuracy score 0.7937219730941704 random_state 284\n",
      "accuracy score 0.7937219730941704 random_state 285\n",
      "accuracy score 0.8161434977578476 random_state 286\n",
      "accuracy score 0.820627802690583 random_state 287\n",
      "accuracy score 0.7892376681614349 random_state 288\n",
      "accuracy score 0.7847533632286996 random_state 289\n",
      "accuracy score 0.7668161434977578 random_state 290\n",
      "accuracy score 0.7668161434977578 random_state 291\n",
      "accuracy score 0.7713004484304933 random_state 292\n",
      "accuracy score 0.8251121076233184 random_state 293\n",
      "accuracy score 0.8071748878923767 random_state 294\n",
      "accuracy score 0.8071748878923767 random_state 295\n",
      "accuracy score 0.7937219730941704 random_state 296\n",
      "accuracy score 0.8430493273542601 random_state 297\n",
      "accuracy score 0.7982062780269058 random_state 298\n",
      "accuracy score 0.8340807174887892 random_state 299\n",
      "accuracy score 0.7713004484304933 random_state 300\n",
      "accuracy score 0.7623318385650224 random_state 301\n",
      "accuracy score 0.757847533632287 random_state 302\n",
      "accuracy score 0.7982062780269058 random_state 303\n",
      "accuracy score 0.8116591928251121 random_state 304\n",
      "accuracy score 0.8116591928251121 random_state 305\n",
      "accuracy score 0.7847533632286996 random_state 306\n",
      "accuracy score 0.7937219730941704 random_state 307\n",
      "accuracy score 0.8295964125560538 random_state 308\n",
      "accuracy score 0.7847533632286996 random_state 309\n",
      "accuracy score 0.8295964125560538 random_state 310\n",
      "accuracy score 0.8251121076233184 random_state 311\n",
      "accuracy score 0.7937219730941704 random_state 312\n",
      "accuracy score 0.7533632286995515 random_state 313\n",
      "accuracy score 0.8116591928251121 random_state 314\n",
      "accuracy score 0.7892376681614349 random_state 315\n",
      "accuracy score 0.8340807174887892 random_state 316\n",
      "accuracy score 0.7757847533632287 random_state 317\n",
      "accuracy score 0.7533632286995515 random_state 318\n",
      "accuracy score 0.8161434977578476 random_state 319\n",
      "accuracy score 0.8116591928251121 random_state 320\n",
      "accuracy score 0.820627802690583 random_state 321\n",
      "accuracy score 0.7892376681614349 random_state 322\n",
      "accuracy score 0.7354260089686099 random_state 323\n",
      "accuracy score 0.7892376681614349 random_state 324\n",
      "accuracy score 0.7219730941704036 random_state 325\n",
      "accuracy score 0.8026905829596412 random_state 326\n",
      "accuracy score 0.7892376681614349 random_state 327\n",
      "accuracy score 0.8026905829596412 random_state 328\n",
      "accuracy score 0.8161434977578476 random_state 329\n",
      "accuracy score 0.7713004484304933 random_state 330\n",
      "accuracy score 0.8071748878923767 random_state 331\n",
      "accuracy score 0.820627802690583 random_state 332\n",
      "accuracy score 0.7802690582959642 random_state 333\n",
      "accuracy score 0.7623318385650224 random_state 334\n",
      "accuracy score 0.7847533632286996 random_state 335\n",
      "accuracy score 0.757847533632287 random_state 336\n",
      "accuracy score 0.7937219730941704 random_state 337\n",
      "accuracy score 0.7982062780269058 random_state 338\n",
      "accuracy score 0.7847533632286996 random_state 339\n",
      "accuracy score 0.7668161434977578 random_state 340\n"
     ]
    },
    {
     "name": "stdout",
     "output_type": "stream",
     "text": [
      "accuracy score 0.8251121076233184 random_state 341\n",
      "accuracy score 0.7443946188340808 random_state 342\n",
      "accuracy score 0.7892376681614349 random_state 343\n",
      "accuracy score 0.7847533632286996 random_state 344\n",
      "accuracy score 0.7982062780269058 random_state 345\n",
      "accuracy score 0.7623318385650224 random_state 346\n",
      "accuracy score 0.8116591928251121 random_state 347\n",
      "accuracy score 0.7713004484304933 random_state 348\n",
      "accuracy score 0.7713004484304933 random_state 349\n",
      "accuracy score 0.7892376681614349 random_state 350\n",
      "accuracy score 0.7847533632286996 random_state 351\n",
      "accuracy score 0.7623318385650224 random_state 352\n",
      "accuracy score 0.7937219730941704 random_state 353\n",
      "accuracy score 0.7668161434977578 random_state 354\n",
      "accuracy score 0.7757847533632287 random_state 355\n",
      "accuracy score 0.8116591928251121 random_state 356\n",
      "accuracy score 0.8161434977578476 random_state 357\n",
      "accuracy score 0.8071748878923767 random_state 358\n",
      "accuracy score 0.7533632286995515 random_state 359\n",
      "accuracy score 0.7937219730941704 random_state 360\n",
      "accuracy score 0.7982062780269058 random_state 361\n",
      "accuracy score 0.8071748878923767 random_state 362\n",
      "accuracy score 0.8026905829596412 random_state 363\n",
      "accuracy score 0.7892376681614349 random_state 364\n",
      "accuracy score 0.8251121076233184 random_state 365\n",
      "accuracy score 0.7847533632286996 random_state 366\n",
      "accuracy score 0.7623318385650224 random_state 367\n",
      "accuracy score 0.8026905829596412 random_state 368\n",
      "accuracy score 0.7982062780269058 random_state 369\n",
      "accuracy score 0.7847533632286996 random_state 370\n",
      "accuracy score 0.7757847533632287 random_state 371\n",
      "accuracy score 0.7937219730941704 random_state 372\n",
      "accuracy score 0.7757847533632287 random_state 373\n",
      "accuracy score 0.7982062780269058 random_state 374\n",
      "accuracy score 0.7802690582959642 random_state 375\n",
      "accuracy score 0.7757847533632287 random_state 376\n",
      "accuracy score 0.7892376681614349 random_state 377\n",
      "accuracy score 0.7892376681614349 random_state 378\n",
      "accuracy score 0.7937219730941704 random_state 379\n",
      "accuracy score 0.7757847533632287 random_state 380\n",
      "accuracy score 0.852017937219731 random_state 381\n",
      "accuracy score 0.8071748878923767 random_state 382\n",
      "accuracy score 0.7937219730941704 random_state 383\n",
      "accuracy score 0.8116591928251121 random_state 384\n",
      "accuracy score 0.7847533632286996 random_state 385\n",
      "accuracy score 0.8161434977578476 random_state 386\n",
      "accuracy score 0.7982062780269058 random_state 387\n",
      "accuracy score 0.8475336322869955 random_state 388\n",
      "accuracy score 0.8071748878923767 random_state 389\n",
      "accuracy score 0.7533632286995515 random_state 390\n",
      "accuracy score 0.7847533632286996 random_state 391\n",
      "accuracy score 0.7937219730941704 random_state 392\n",
      "accuracy score 0.7802690582959642 random_state 393\n",
      "accuracy score 0.8071748878923767 random_state 394\n",
      "accuracy score 0.7713004484304933 random_state 395\n",
      "accuracy score 0.8654708520179372 random_state 396\n",
      "accuracy score 0.8071748878923767 random_state 397\n",
      "accuracy score 0.8161434977578476 random_state 398\n",
      "accuracy score 0.7982062780269058 random_state 399\n",
      "accuracy score 0.8430493273542601 random_state 400\n",
      "accuracy score 0.8251121076233184 random_state 401\n",
      "accuracy score 0.7892376681614349 random_state 402\n",
      "accuracy score 0.8071748878923767 random_state 403\n",
      "accuracy score 0.7713004484304933 random_state 404\n",
      "accuracy score 0.8251121076233184 random_state 405\n",
      "accuracy score 0.820627802690583 random_state 406\n",
      "accuracy score 0.7847533632286996 random_state 407\n",
      "accuracy score 0.7937219730941704 random_state 408\n",
      "accuracy score 0.8116591928251121 random_state 409\n",
      "accuracy score 0.8161434977578476 random_state 410\n",
      "accuracy score 0.8385650224215246 random_state 411\n",
      "accuracy score 0.8161434977578476 random_state 412\n",
      "accuracy score 0.7892376681614349 random_state 413\n",
      "accuracy score 0.7982062780269058 random_state 414\n",
      "accuracy score 0.7713004484304933 random_state 415\n",
      "accuracy score 0.8116591928251121 random_state 416\n",
      "accuracy score 0.8654708520179372 random_state 417\n",
      "accuracy score 0.7713004484304933 random_state 418\n",
      "accuracy score 0.7668161434977578 random_state 419\n",
      "accuracy score 0.8340807174887892 random_state 420\n",
      "accuracy score 0.8071748878923767 random_state 421\n",
      "accuracy score 0.7488789237668162 random_state 422\n",
      "accuracy score 0.7847533632286996 random_state 423\n",
      "accuracy score 0.8026905829596412 random_state 424\n",
      "accuracy score 0.7713004484304933 random_state 425\n",
      "accuracy score 0.7802690582959642 random_state 426\n",
      "accuracy score 0.7713004484304933 random_state 427\n",
      "accuracy score 0.7892376681614349 random_state 428\n",
      "accuracy score 0.8071748878923767 random_state 429\n",
      "accuracy score 0.8385650224215246 random_state 430\n",
      "accuracy score 0.8340807174887892 random_state 431\n",
      "accuracy score 0.8026905829596412 random_state 432\n",
      "accuracy score 0.8161434977578476 random_state 433\n",
      "accuracy score 0.8026905829596412 random_state 434\n",
      "accuracy score 0.7668161434977578 random_state 435\n",
      "accuracy score 0.8161434977578476 random_state 436\n",
      "accuracy score 0.8161434977578476 random_state 437\n",
      "accuracy score 0.8295964125560538 random_state 438\n",
      "accuracy score 0.8161434977578476 random_state 439\n",
      "accuracy score 0.7937219730941704 random_state 440\n",
      "accuracy score 0.7219730941704036 random_state 441\n",
      "accuracy score 0.7937219730941704 random_state 442\n",
      "accuracy score 0.7533632286995515 random_state 443\n",
      "accuracy score 0.8295964125560538 random_state 444\n",
      "accuracy score 0.7802690582959642 random_state 445\n",
      "accuracy score 0.7847533632286996 random_state 446\n",
      "accuracy score 0.7623318385650224 random_state 447\n",
      "accuracy score 0.8295964125560538 random_state 448\n",
      "accuracy score 0.8071748878923767 random_state 449\n",
      "accuracy score 0.8116591928251121 random_state 450\n",
      "accuracy score 0.8026905829596412 random_state 451\n",
      "accuracy score 0.7892376681614349 random_state 452\n",
      "accuracy score 0.7443946188340808 random_state 453\n",
      "accuracy score 0.7982062780269058 random_state 454\n",
      "accuracy score 0.8430493273542601 random_state 455\n",
      "accuracy score 0.8340807174887892 random_state 456\n",
      "accuracy score 0.8251121076233184 random_state 457\n",
      "accuracy score 0.8385650224215246 random_state 458\n",
      "accuracy score 0.7847533632286996 random_state 459\n",
      "accuracy score 0.7757847533632287 random_state 460\n",
      "accuracy score 0.7623318385650224 random_state 461\n",
      "accuracy score 0.7937219730941704 random_state 462\n",
      "accuracy score 0.8430493273542601 random_state 463\n",
      "accuracy score 0.7847533632286996 random_state 464\n",
      "accuracy score 0.8071748878923767 random_state 465\n",
      "accuracy score 0.8340807174887892 random_state 466\n",
      "accuracy score 0.7847533632286996 random_state 467\n",
      "accuracy score 0.8026905829596412 random_state 468\n",
      "accuracy score 0.7713004484304933 random_state 469\n",
      "accuracy score 0.7757847533632287 random_state 470\n",
      "accuracy score 0.820627802690583 random_state 471\n",
      "accuracy score 0.8071748878923767 random_state 472\n",
      "accuracy score 0.8026905829596412 random_state 473\n",
      "accuracy score 0.8071748878923767 random_state 474\n",
      "accuracy score 0.8251121076233184 random_state 475\n",
      "accuracy score 0.757847533632287 random_state 476\n",
      "accuracy score 0.7488789237668162 random_state 477\n",
      "accuracy score 0.820627802690583 random_state 478\n",
      "accuracy score 0.7847533632286996 random_state 479\n",
      "accuracy score 0.8116591928251121 random_state 480\n",
      "accuracy score 0.8295964125560538 random_state 481\n",
      "accuracy score 0.7847533632286996 random_state 482\n",
      "accuracy score 0.8161434977578476 random_state 483\n",
      "accuracy score 0.8116591928251121 random_state 484\n",
      "accuracy score 0.8161434977578476 random_state 485\n",
      "accuracy score 0.820627802690583 random_state 486\n",
      "accuracy score 0.7668161434977578 random_state 487\n",
      "accuracy score 0.8026905829596412 random_state 488\n",
      "accuracy score 0.7982062780269058 random_state 489\n",
      "accuracy score 0.8026905829596412 random_state 490\n",
      "accuracy score 0.7802690582959642 random_state 491\n",
      "accuracy score 0.7802690582959642 random_state 492\n",
      "accuracy score 0.7668161434977578 random_state 493\n",
      "accuracy score 0.7937219730941704 random_state 494\n",
      "accuracy score 0.8026905829596412 random_state 495\n",
      "accuracy score 0.7982062780269058 random_state 496\n",
      "accuracy score 0.7757847533632287 random_state 497\n",
      "accuracy score 0.7668161434977578 random_state 498\n",
      "accuracy score 0.757847533632287 random_state 499\n",
      "accuracy score 0.7757847533632287 random_state 500\n",
      "accuracy score 0.8385650224215246 random_state 501\n",
      "accuracy score 0.8340807174887892 random_state 502\n",
      "accuracy score 0.820627802690583 random_state 503\n",
      "accuracy score 0.7802690582959642 random_state 504\n",
      "accuracy score 0.7399103139013453 random_state 505\n",
      "accuracy score 0.8071748878923767 random_state 506\n",
      "accuracy score 0.8161434977578476 random_state 507\n",
      "accuracy score 0.8071748878923767 random_state 508\n",
      "accuracy score 0.7713004484304933 random_state 509\n",
      "accuracy score 0.7892376681614349 random_state 510\n"
     ]
    },
    {
     "name": "stdout",
     "output_type": "stream",
     "text": [
      "accuracy score 0.8295964125560538 random_state 511\n",
      "accuracy score 0.8071748878923767 random_state 512\n",
      "accuracy score 0.820627802690583 random_state 513\n",
      "accuracy score 0.7892376681614349 random_state 514\n",
      "accuracy score 0.7399103139013453 random_state 515\n",
      "accuracy score 0.8026905829596412 random_state 516\n",
      "accuracy score 0.8116591928251121 random_state 517\n",
      "accuracy score 0.8071748878923767 random_state 518\n",
      "accuracy score 0.820627802690583 random_state 519\n",
      "accuracy score 0.7892376681614349 random_state 520\n",
      "accuracy score 0.7802690582959642 random_state 521\n",
      "accuracy score 0.7757847533632287 random_state 522\n",
      "accuracy score 0.8071748878923767 random_state 523\n",
      "accuracy score 0.8475336322869955 random_state 524\n",
      "accuracy score 0.8385650224215246 random_state 525\n",
      "accuracy score 0.8161434977578476 random_state 526\n",
      "accuracy score 0.7937219730941704 random_state 527\n",
      "accuracy score 0.7937219730941704 random_state 528\n",
      "accuracy score 0.8071748878923767 random_state 529\n",
      "accuracy score 0.7892376681614349 random_state 530\n",
      "accuracy score 0.7757847533632287 random_state 531\n",
      "accuracy score 0.7982062780269058 random_state 532\n",
      "accuracy score 0.8385650224215246 random_state 533\n",
      "accuracy score 0.820627802690583 random_state 534\n",
      "accuracy score 0.7533632286995515 random_state 535\n",
      "accuracy score 0.8161434977578476 random_state 536\n",
      "accuracy score 0.8116591928251121 random_state 537\n",
      "accuracy score 0.8116591928251121 random_state 538\n",
      "accuracy score 0.8026905829596412 random_state 539\n",
      "accuracy score 0.7713004484304933 random_state 540\n",
      "accuracy score 0.8071748878923767 random_state 541\n",
      "accuracy score 0.7399103139013453 random_state 542\n",
      "accuracy score 0.7982062780269058 random_state 543\n",
      "accuracy score 0.7982062780269058 random_state 544\n",
      "accuracy score 0.8026905829596412 random_state 545\n",
      "accuracy score 0.7937219730941704 random_state 546\n",
      "accuracy score 0.820627802690583 random_state 547\n",
      "accuracy score 0.7757847533632287 random_state 548\n",
      "accuracy score 0.7982062780269058 random_state 549\n",
      "accuracy score 0.7623318385650224 random_state 550\n",
      "accuracy score 0.8161434977578476 random_state 551\n",
      "accuracy score 0.7982062780269058 random_state 552\n",
      "accuracy score 0.7847533632286996 random_state 553\n",
      "accuracy score 0.8251121076233184 random_state 554\n",
      "accuracy score 0.8430493273542601 random_state 555\n",
      "accuracy score 0.7982062780269058 random_state 556\n",
      "accuracy score 0.7982062780269058 random_state 557\n",
      "accuracy score 0.7982062780269058 random_state 558\n",
      "accuracy score 0.7757847533632287 random_state 559\n",
      "accuracy score 0.8161434977578476 random_state 560\n",
      "accuracy score 0.7757847533632287 random_state 561\n",
      "accuracy score 0.7713004484304933 random_state 562\n",
      "accuracy score 0.8071748878923767 random_state 563\n",
      "accuracy score 0.7982062780269058 random_state 564\n",
      "accuracy score 0.7937219730941704 random_state 565\n",
      "accuracy score 0.8385650224215246 random_state 566\n",
      "accuracy score 0.757847533632287 random_state 567\n",
      "accuracy score 0.8295964125560538 random_state 568\n",
      "accuracy score 0.8161434977578476 random_state 569\n",
      "accuracy score 0.820627802690583 random_state 570\n",
      "accuracy score 0.7982062780269058 random_state 571\n",
      "accuracy score 0.7847533632286996 random_state 572\n",
      "accuracy score 0.7937219730941704 random_state 573\n",
      "accuracy score 0.8161434977578476 random_state 574\n",
      "accuracy score 0.8071748878923767 random_state 575\n",
      "accuracy score 0.7982062780269058 random_state 576\n",
      "accuracy score 0.8026905829596412 random_state 577\n",
      "accuracy score 0.8565022421524664 random_state 578\n",
      "accuracy score 0.8026905829596412 random_state 579\n",
      "accuracy score 0.8161434977578476 random_state 580\n",
      "accuracy score 0.8116591928251121 random_state 581\n",
      "accuracy score 0.8116591928251121 random_state 582\n",
      "accuracy score 0.8116591928251121 random_state 583\n",
      "accuracy score 0.7937219730941704 random_state 584\n",
      "accuracy score 0.8699551569506726 random_state 585\n",
      "accuracy score 0.8026905829596412 random_state 586\n",
      "accuracy score 0.8071748878923767 random_state 587\n",
      "accuracy score 0.8295964125560538 random_state 588\n",
      "accuracy score 0.8161434977578476 random_state 589\n",
      "accuracy score 0.8923766816143498 random_state 590\n",
      "accuracy score 0.8923766816143498 random_state 590\n",
      "accuracy score 0.7847533632286996 random_state 591\n",
      "accuracy score 0.7982062780269058 random_state 592\n",
      "accuracy score 0.8026905829596412 random_state 593\n",
      "accuracy score 0.7937219730941704 random_state 594\n",
      "accuracy score 0.8116591928251121 random_state 595\n",
      "accuracy score 0.8026905829596412 random_state 596\n",
      "accuracy score 0.7757847533632287 random_state 597\n",
      "accuracy score 0.8026905829596412 random_state 598\n",
      "accuracy score 0.7937219730941704 random_state 599\n",
      "accuracy score 0.7802690582959642 random_state 600\n",
      "accuracy score 0.7847533632286996 random_state 601\n",
      "accuracy score 0.7847533632286996 random_state 602\n",
      "accuracy score 0.820627802690583 random_state 603\n",
      "accuracy score 0.7713004484304933 random_state 604\n",
      "accuracy score 0.7757847533632287 random_state 605\n",
      "accuracy score 0.7982062780269058 random_state 606\n",
      "accuracy score 0.8071748878923767 random_state 607\n",
      "accuracy score 0.8071748878923767 random_state 608\n",
      "accuracy score 0.7847533632286996 random_state 609\n",
      "accuracy score 0.8071748878923767 random_state 610\n",
      "accuracy score 0.8071748878923767 random_state 611\n",
      "accuracy score 0.7892376681614349 random_state 612\n",
      "accuracy score 0.8251121076233184 random_state 613\n",
      "accuracy score 0.7802690582959642 random_state 614\n",
      "accuracy score 0.7802690582959642 random_state 615\n",
      "accuracy score 0.8026905829596412 random_state 616\n",
      "accuracy score 0.8071748878923767 random_state 617\n",
      "accuracy score 0.8161434977578476 random_state 618\n",
      "accuracy score 0.757847533632287 random_state 619\n",
      "accuracy score 0.7847533632286996 random_state 620\n",
      "accuracy score 0.7802690582959642 random_state 621\n",
      "accuracy score 0.8116591928251121 random_state 622\n",
      "accuracy score 0.8026905829596412 random_state 623\n",
      "accuracy score 0.8251121076233184 random_state 624\n",
      "accuracy score 0.8385650224215246 random_state 625\n",
      "accuracy score 0.7937219730941704 random_state 626\n",
      "accuracy score 0.8026905829596412 random_state 627\n",
      "accuracy score 0.852017937219731 random_state 628\n",
      "accuracy score 0.8071748878923767 random_state 629\n",
      "accuracy score 0.7623318385650224 random_state 630\n",
      "accuracy score 0.7802690582959642 random_state 631\n",
      "accuracy score 0.7713004484304933 random_state 632\n",
      "accuracy score 0.8116591928251121 random_state 633\n",
      "accuracy score 0.820627802690583 random_state 634\n",
      "accuracy score 0.8161434977578476 random_state 635\n",
      "accuracy score 0.7757847533632287 random_state 636\n",
      "accuracy score 0.8161434977578476 random_state 637\n",
      "accuracy score 0.8116591928251121 random_state 638\n",
      "accuracy score 0.7982062780269058 random_state 639\n",
      "accuracy score 0.8116591928251121 random_state 640\n",
      "accuracy score 0.7623318385650224 random_state 641\n",
      "accuracy score 0.8340807174887892 random_state 642\n",
      "accuracy score 0.8295964125560538 random_state 643\n",
      "accuracy score 0.820627802690583 random_state 644\n",
      "accuracy score 0.7757847533632287 random_state 645\n",
      "accuracy score 0.8161434977578476 random_state 646\n",
      "accuracy score 0.7802690582959642 random_state 647\n",
      "accuracy score 0.7892376681614349 random_state 648\n",
      "accuracy score 0.8071748878923767 random_state 649\n",
      "accuracy score 0.7668161434977578 random_state 650\n",
      "accuracy score 0.7982062780269058 random_state 651\n",
      "accuracy score 0.7937219730941704 random_state 652\n",
      "accuracy score 0.8161434977578476 random_state 653\n",
      "accuracy score 0.7802690582959642 random_state 654\n",
      "accuracy score 0.8071748878923767 random_state 655\n",
      "accuracy score 0.7847533632286996 random_state 656\n",
      "accuracy score 0.7937219730941704 random_state 657\n",
      "accuracy score 0.7847533632286996 random_state 658\n",
      "accuracy score 0.7892376681614349 random_state 659\n",
      "accuracy score 0.8026905829596412 random_state 660\n",
      "accuracy score 0.8026905829596412 random_state 661\n",
      "accuracy score 0.7937219730941704 random_state 662\n",
      "accuracy score 0.7892376681614349 random_state 663\n",
      "accuracy score 0.7847533632286996 random_state 664\n",
      "accuracy score 0.820627802690583 random_state 665\n",
      "accuracy score 0.8026905829596412 random_state 666\n",
      "accuracy score 0.8026905829596412 random_state 667\n",
      "accuracy score 0.7533632286995515 random_state 668\n",
      "accuracy score 0.8071748878923767 random_state 669\n",
      "accuracy score 0.7937219730941704 random_state 670\n",
      "accuracy score 0.8026905829596412 random_state 671\n",
      "accuracy score 0.7488789237668162 random_state 672\n",
      "accuracy score 0.7937219730941704 random_state 673\n",
      "accuracy score 0.7668161434977578 random_state 674\n",
      "accuracy score 0.7802690582959642 random_state 675\n",
      "accuracy score 0.7937219730941704 random_state 676\n",
      "accuracy score 0.8385650224215246 random_state 677\n",
      "accuracy score 0.7399103139013453 random_state 678\n",
      "accuracy score 0.757847533632287 random_state 679\n",
      "accuracy score 0.7937219730941704 random_state 680\n",
      "accuracy score 0.7982062780269058 random_state 681\n",
      "accuracy score 0.8251121076233184 random_state 682\n",
      "accuracy score 0.820627802690583 random_state 683\n",
      "accuracy score 0.820627802690583 random_state 684\n"
     ]
    },
    {
     "name": "stdout",
     "output_type": "stream",
     "text": [
      "accuracy score 0.8026905829596412 random_state 685\n",
      "accuracy score 0.7847533632286996 random_state 686\n",
      "accuracy score 0.7713004484304933 random_state 687\n",
      "accuracy score 0.8026905829596412 random_state 688\n",
      "accuracy score 0.757847533632287 random_state 689\n",
      "accuracy score 0.8340807174887892 random_state 690\n",
      "accuracy score 0.7892376681614349 random_state 691\n",
      "accuracy score 0.7937219730941704 random_state 692\n",
      "accuracy score 0.8340807174887892 random_state 693\n",
      "accuracy score 0.7892376681614349 random_state 694\n",
      "accuracy score 0.7399103139013453 random_state 695\n",
      "accuracy score 0.7802690582959642 random_state 696\n",
      "accuracy score 0.7892376681614349 random_state 697\n",
      "accuracy score 0.8026905829596412 random_state 698\n",
      "accuracy score 0.7757847533632287 random_state 699\n",
      "accuracy score 0.8161434977578476 random_state 700\n",
      "accuracy score 0.8475336322869955 random_state 701\n",
      "accuracy score 0.8071748878923767 random_state 702\n",
      "accuracy score 0.7757847533632287 random_state 703\n",
      "accuracy score 0.7668161434977578 random_state 704\n",
      "accuracy score 0.7982062780269058 random_state 705\n",
      "accuracy score 0.8251121076233184 random_state 706\n",
      "accuracy score 0.7892376681614349 random_state 707\n",
      "accuracy score 0.7982062780269058 random_state 708\n",
      "accuracy score 0.8026905829596412 random_state 709\n",
      "accuracy score 0.874439461883408 random_state 710\n",
      "accuracy score 0.7892376681614349 random_state 711\n",
      "accuracy score 0.7937219730941704 random_state 712\n",
      "accuracy score 0.8071748878923767 random_state 713\n",
      "accuracy score 0.7802690582959642 random_state 714\n",
      "accuracy score 0.8609865470852018 random_state 715\n",
      "accuracy score 0.8161434977578476 random_state 716\n",
      "accuracy score 0.8161434977578476 random_state 717\n",
      "accuracy score 0.8430493273542601 random_state 718\n",
      "accuracy score 0.8295964125560538 random_state 719\n",
      "accuracy score 0.8116591928251121 random_state 720\n",
      "accuracy score 0.8161434977578476 random_state 721\n",
      "accuracy score 0.8385650224215246 random_state 722\n",
      "accuracy score 0.8071748878923767 random_state 723\n",
      "accuracy score 0.8071748878923767 random_state 724\n",
      "accuracy score 0.8385650224215246 random_state 725\n",
      "accuracy score 0.7892376681614349 random_state 726\n",
      "accuracy score 0.8251121076233184 random_state 727\n",
      "accuracy score 0.8116591928251121 random_state 728\n",
      "accuracy score 0.8295964125560538 random_state 729\n",
      "accuracy score 0.8161434977578476 random_state 730\n",
      "accuracy score 0.8116591928251121 random_state 731\n",
      "accuracy score 0.8251121076233184 random_state 732\n",
      "accuracy score 0.7892376681614349 random_state 733\n",
      "accuracy score 0.820627802690583 random_state 734\n",
      "accuracy score 0.7623318385650224 random_state 735\n",
      "accuracy score 0.7892376681614349 random_state 736\n",
      "accuracy score 0.7982062780269058 random_state 737\n",
      "accuracy score 0.8340807174887892 random_state 738\n",
      "accuracy score 0.7892376681614349 random_state 739\n",
      "accuracy score 0.8430493273542601 random_state 740\n",
      "accuracy score 0.7802690582959642 random_state 741\n",
      "accuracy score 0.7937219730941704 random_state 742\n",
      "accuracy score 0.820627802690583 random_state 743\n",
      "accuracy score 0.8026905829596412 random_state 744\n",
      "accuracy score 0.7982062780269058 random_state 745\n",
      "accuracy score 0.8026905829596412 random_state 746\n",
      "accuracy score 0.8295964125560538 random_state 747\n",
      "accuracy score 0.7443946188340808 random_state 748\n",
      "accuracy score 0.8295964125560538 random_state 749\n",
      "accuracy score 0.7847533632286996 random_state 750\n",
      "accuracy score 0.8071748878923767 random_state 751\n",
      "accuracy score 0.8116591928251121 random_state 752\n",
      "accuracy score 0.7892376681614349 random_state 753\n",
      "accuracy score 0.8430493273542601 random_state 754\n",
      "accuracy score 0.7533632286995515 random_state 755\n",
      "accuracy score 0.8071748878923767 random_state 756\n",
      "accuracy score 0.820627802690583 random_state 757\n",
      "accuracy score 0.7982062780269058 random_state 758\n",
      "accuracy score 0.7937219730941704 random_state 759\n",
      "accuracy score 0.7757847533632287 random_state 760\n",
      "accuracy score 0.8340807174887892 random_state 761\n",
      "accuracy score 0.7713004484304933 random_state 762\n",
      "accuracy score 0.8026905829596412 random_state 763\n",
      "accuracy score 0.8565022421524664 random_state 764\n",
      "accuracy score 0.7937219730941704 random_state 765\n",
      "accuracy score 0.7668161434977578 random_state 766\n",
      "accuracy score 0.8161434977578476 random_state 767\n",
      "accuracy score 0.7937219730941704 random_state 768\n",
      "accuracy score 0.8116591928251121 random_state 769\n",
      "accuracy score 0.7847533632286996 random_state 770\n",
      "accuracy score 0.7757847533632287 random_state 771\n",
      "accuracy score 0.7982062780269058 random_state 772\n",
      "accuracy score 0.7937219730941704 random_state 773\n",
      "accuracy score 0.8295964125560538 random_state 774\n",
      "accuracy score 0.8295964125560538 random_state 775\n",
      "accuracy score 0.8026905829596412 random_state 776\n",
      "accuracy score 0.7892376681614349 random_state 777\n",
      "accuracy score 0.7847533632286996 random_state 778\n",
      "accuracy score 0.7757847533632287 random_state 779\n",
      "accuracy score 0.8161434977578476 random_state 780\n",
      "accuracy score 0.8430493273542601 random_state 781\n",
      "accuracy score 0.8071748878923767 random_state 782\n",
      "accuracy score 0.8071748878923767 random_state 783\n",
      "accuracy score 0.7668161434977578 random_state 784\n",
      "accuracy score 0.8385650224215246 random_state 785\n",
      "accuracy score 0.7309417040358744 random_state 786\n",
      "accuracy score 0.7937219730941704 random_state 787\n",
      "accuracy score 0.8385650224215246 random_state 788\n",
      "accuracy score 0.8116591928251121 random_state 789\n",
      "accuracy score 0.7802690582959642 random_state 790\n",
      "accuracy score 0.852017937219731 random_state 791\n",
      "accuracy score 0.8026905829596412 random_state 792\n",
      "accuracy score 0.8161434977578476 random_state 793\n",
      "accuracy score 0.820627802690583 random_state 794\n",
      "accuracy score 0.8116591928251121 random_state 795\n",
      "accuracy score 0.7937219730941704 random_state 796\n",
      "accuracy score 0.8161434977578476 random_state 797\n",
      "accuracy score 0.7937219730941704 random_state 798\n",
      "accuracy score 0.7847533632286996 random_state 799\n",
      "accuracy score 0.820627802690583 random_state 800\n",
      "accuracy score 0.8026905829596412 random_state 801\n",
      "accuracy score 0.8116591928251121 random_state 802\n",
      "accuracy score 0.7937219730941704 random_state 803\n",
      "accuracy score 0.8295964125560538 random_state 804\n",
      "accuracy score 0.8295964125560538 random_state 805\n",
      "accuracy score 0.7847533632286996 random_state 806\n",
      "accuracy score 0.8116591928251121 random_state 807\n",
      "accuracy score 0.7937219730941704 random_state 808\n",
      "accuracy score 0.7668161434977578 random_state 809\n",
      "accuracy score 0.7757847533632287 random_state 810\n",
      "accuracy score 0.7802690582959642 random_state 811\n",
      "accuracy score 0.7488789237668162 random_state 812\n",
      "accuracy score 0.7892376681614349 random_state 813\n",
      "accuracy score 0.7757847533632287 random_state 814\n",
      "accuracy score 0.7892376681614349 random_state 815\n",
      "accuracy score 0.8161434977578476 random_state 816\n",
      "accuracy score 0.8116591928251121 random_state 817\n",
      "accuracy score 0.7982062780269058 random_state 818\n",
      "accuracy score 0.8161434977578476 random_state 819\n",
      "accuracy score 0.7937219730941704 random_state 820\n",
      "accuracy score 0.7847533632286996 random_state 821\n",
      "accuracy score 0.7802690582959642 random_state 822\n",
      "accuracy score 0.7802690582959642 random_state 823\n",
      "accuracy score 0.7982062780269058 random_state 824\n",
      "accuracy score 0.7892376681614349 random_state 825\n",
      "accuracy score 0.8071748878923767 random_state 826\n",
      "accuracy score 0.8161434977578476 random_state 827\n",
      "accuracy score 0.7937219730941704 random_state 828\n",
      "accuracy score 0.7668161434977578 random_state 829\n",
      "accuracy score 0.820627802690583 random_state 830\n",
      "accuracy score 0.8251121076233184 random_state 831\n",
      "accuracy score 0.8116591928251121 random_state 832\n",
      "accuracy score 0.7623318385650224 random_state 833\n",
      "accuracy score 0.7713004484304933 random_state 834\n",
      "accuracy score 0.7802690582959642 random_state 835\n",
      "accuracy score 0.820627802690583 random_state 836\n",
      "accuracy score 0.7757847533632287 random_state 837\n",
      "accuracy score 0.757847533632287 random_state 838\n",
      "accuracy score 0.7937219730941704 random_state 839\n",
      "accuracy score 0.8430493273542601 random_state 840\n",
      "accuracy score 0.8116591928251121 random_state 841\n",
      "accuracy score 0.7892376681614349 random_state 842\n",
      "accuracy score 0.757847533632287 random_state 843\n",
      "accuracy score 0.8116591928251121 random_state 844\n",
      "accuracy score 0.7937219730941704 random_state 845\n",
      "accuracy score 0.8026905829596412 random_state 846\n",
      "accuracy score 0.8071748878923767 random_state 847\n",
      "accuracy score 0.7892376681614349 random_state 848\n",
      "accuracy score 0.8609865470852018 random_state 849\n",
      "accuracy score 0.7937219730941704 random_state 850\n",
      "accuracy score 0.8071748878923767 random_state 851\n",
      "accuracy score 0.7533632286995515 random_state 852\n",
      "accuracy score 0.8161434977578476 random_state 853\n",
      "accuracy score 0.820627802690583 random_state 854\n",
      "accuracy score 0.7982062780269058 random_state 855\n",
      "accuracy score 0.8340807174887892 random_state 856\n",
      "accuracy score 0.7982062780269058 random_state 857\n",
      "accuracy score 0.7847533632286996 random_state 858\n"
     ]
    },
    {
     "name": "stdout",
     "output_type": "stream",
     "text": [
      "accuracy score 0.8251121076233184 random_state 859\n",
      "accuracy score 0.8071748878923767 random_state 860\n",
      "accuracy score 0.7892376681614349 random_state 861\n",
      "accuracy score 0.7982062780269058 random_state 862\n",
      "accuracy score 0.8116591928251121 random_state 863\n",
      "accuracy score 0.8475336322869955 random_state 864\n",
      "accuracy score 0.8026905829596412 random_state 865\n",
      "accuracy score 0.7847533632286996 random_state 866\n",
      "accuracy score 0.8295964125560538 random_state 867\n",
      "accuracy score 0.8251121076233184 random_state 868\n",
      "accuracy score 0.8116591928251121 random_state 869\n",
      "accuracy score 0.8161434977578476 random_state 870\n",
      "accuracy score 0.8026905829596412 random_state 871\n",
      "accuracy score 0.7623318385650224 random_state 872\n",
      "accuracy score 0.8161434977578476 random_state 873\n",
      "accuracy score 0.8071748878923767 random_state 874\n",
      "accuracy score 0.7847533632286996 random_state 875\n",
      "accuracy score 0.8475336322869955 random_state 876\n",
      "accuracy score 0.757847533632287 random_state 877\n",
      "accuracy score 0.7937219730941704 random_state 878\n",
      "accuracy score 0.726457399103139 random_state 879\n",
      "accuracy score 0.8116591928251121 random_state 880\n",
      "accuracy score 0.8116591928251121 random_state 881\n",
      "accuracy score 0.8026905829596412 random_state 882\n",
      "accuracy score 0.7533632286995515 random_state 883\n",
      "accuracy score 0.7892376681614349 random_state 884\n",
      "accuracy score 0.8251121076233184 random_state 885\n",
      "accuracy score 0.7982062780269058 random_state 886\n",
      "accuracy score 0.8071748878923767 random_state 887\n",
      "accuracy score 0.7757847533632287 random_state 888\n",
      "accuracy score 0.7982062780269058 random_state 889\n",
      "accuracy score 0.8251121076233184 random_state 890\n",
      "accuracy score 0.7757847533632287 random_state 891\n",
      "accuracy score 0.7713004484304933 random_state 892\n",
      "accuracy score 0.7847533632286996 random_state 893\n",
      "accuracy score 0.8026905829596412 random_state 894\n",
      "accuracy score 0.7892376681614349 random_state 895\n",
      "accuracy score 0.7982062780269058 random_state 896\n",
      "accuracy score 0.8295964125560538 random_state 897\n",
      "accuracy score 0.7713004484304933 random_state 898\n",
      "accuracy score 0.8116591928251121 random_state 899\n",
      "accuracy score 0.8385650224215246 random_state 900\n",
      "accuracy score 0.8161434977578476 random_state 901\n",
      "accuracy score 0.8026905829596412 random_state 902\n",
      "accuracy score 0.8340807174887892 random_state 903\n",
      "accuracy score 0.7892376681614349 random_state 904\n",
      "accuracy score 0.8116591928251121 random_state 905\n",
      "accuracy score 0.7847533632286996 random_state 906\n",
      "accuracy score 0.8071748878923767 random_state 907\n",
      "accuracy score 0.7847533632286996 random_state 908\n",
      "accuracy score 0.820627802690583 random_state 909\n",
      "accuracy score 0.7847533632286996 random_state 910\n",
      "accuracy score 0.7847533632286996 random_state 911\n",
      "accuracy score 0.8340807174887892 random_state 912\n",
      "accuracy score 0.7937219730941704 random_state 913\n",
      "accuracy score 0.7937219730941704 random_state 914\n",
      "accuracy score 0.7937219730941704 random_state 915\n",
      "accuracy score 0.8116591928251121 random_state 916\n",
      "accuracy score 0.7937219730941704 random_state 917\n",
      "accuracy score 0.8071748878923767 random_state 918\n",
      "accuracy score 0.820627802690583 random_state 919\n",
      "accuracy score 0.8340807174887892 random_state 920\n",
      "accuracy score 0.8161434977578476 random_state 921\n",
      "accuracy score 0.8071748878923767 random_state 922\n",
      "accuracy score 0.7668161434977578 random_state 923\n",
      "accuracy score 0.8251121076233184 random_state 924\n",
      "accuracy score 0.7982062780269058 random_state 925\n",
      "accuracy score 0.8071748878923767 random_state 926\n",
      "accuracy score 0.852017937219731 random_state 927\n",
      "accuracy score 0.820627802690583 random_state 928\n",
      "accuracy score 0.7802690582959642 random_state 929\n",
      "accuracy score 0.8161434977578476 random_state 930\n",
      "accuracy score 0.7802690582959642 random_state 931\n",
      "accuracy score 0.7757847533632287 random_state 932\n",
      "accuracy score 0.7892376681614349 random_state 933\n",
      "accuracy score 0.7802690582959642 random_state 934\n",
      "accuracy score 0.7757847533632287 random_state 935\n",
      "accuracy score 0.7623318385650224 random_state 936\n",
      "accuracy score 0.8071748878923767 random_state 937\n",
      "accuracy score 0.7847533632286996 random_state 938\n",
      "accuracy score 0.8071748878923767 random_state 939\n",
      "accuracy score 0.7623318385650224 random_state 940\n",
      "accuracy score 0.7892376681614349 random_state 941\n",
      "accuracy score 0.820627802690583 random_state 942\n",
      "accuracy score 0.820627802690583 random_state 943\n",
      "accuracy score 0.8071748878923767 random_state 944\n",
      "accuracy score 0.7802690582959642 random_state 945\n",
      "accuracy score 0.7533632286995515 random_state 946\n",
      "accuracy score 0.8026905829596412 random_state 947\n",
      "accuracy score 0.7937219730941704 random_state 948\n",
      "accuracy score 0.7937219730941704 random_state 949\n",
      "accuracy score 0.7668161434977578 random_state 950\n",
      "accuracy score 0.7847533632286996 random_state 951\n",
      "accuracy score 0.8295964125560538 random_state 952\n",
      "accuracy score 0.8161434977578476 random_state 953\n",
      "accuracy score 0.8026905829596412 random_state 954\n",
      "accuracy score 0.7757847533632287 random_state 955\n",
      "accuracy score 0.8026905829596412 random_state 956\n",
      "accuracy score 0.8161434977578476 random_state 957\n",
      "accuracy score 0.8295964125560538 random_state 958\n",
      "accuracy score 0.8161434977578476 random_state 959\n",
      "accuracy score 0.8295964125560538 random_state 960\n",
      "accuracy score 0.7937219730941704 random_state 961\n",
      "accuracy score 0.8116591928251121 random_state 962\n",
      "accuracy score 0.8071748878923767 random_state 963\n",
      "accuracy score 0.7982062780269058 random_state 964\n",
      "accuracy score 0.8475336322869955 random_state 965\n",
      "accuracy score 0.8116591928251121 random_state 966\n",
      "accuracy score 0.7713004484304933 random_state 967\n",
      "accuracy score 0.7668161434977578 random_state 968\n",
      "accuracy score 0.8295964125560538 random_state 969\n",
      "accuracy score 0.7623318385650224 random_state 970\n",
      "accuracy score 0.8295964125560538 random_state 971\n",
      "accuracy score 0.7757847533632287 random_state 972\n",
      "accuracy score 0.7623318385650224 random_state 973\n",
      "accuracy score 0.8071748878923767 random_state 974\n",
      "accuracy score 0.8026905829596412 random_state 975\n",
      "accuracy score 0.7623318385650224 random_state 976\n",
      "accuracy score 0.7982062780269058 random_state 977\n",
      "accuracy score 0.820627802690583 random_state 978\n",
      "accuracy score 0.7802690582959642 random_state 979\n",
      "accuracy score 0.7847533632286996 random_state 980\n",
      "accuracy score 0.8071748878923767 random_state 981\n",
      "accuracy score 0.8295964125560538 random_state 982\n",
      "accuracy score 0.8116591928251121 random_state 983\n",
      "accuracy score 0.7982062780269058 random_state 984\n",
      "accuracy score 0.8026905829596412 random_state 985\n",
      "accuracy score 0.7354260089686099 random_state 986\n",
      "accuracy score 0.820627802690583 random_state 987\n",
      "accuracy score 0.820627802690583 random_state 988\n",
      "accuracy score 0.7937219730941704 random_state 989\n",
      "accuracy score 0.7713004484304933 random_state 990\n",
      "accuracy score 0.7892376681614349 random_state 991\n",
      "accuracy score 0.8116591928251121 random_state 992\n",
      "accuracy score 0.8295964125560538 random_state 993\n",
      "accuracy score 0.7802690582959642 random_state 994\n",
      "accuracy score 0.7892376681614349 random_state 995\n",
      "accuracy score 0.7982062780269058 random_state 996\n",
      "accuracy score 0.8071748878923767 random_state 997\n",
      "accuracy score 0.7937219730941704 random_state 998\n",
      "accuracy score 0.7892376681614349 random_state 999\n"
     ]
    }
   ],
   "source": [
    "# Finding the Best Random State\n",
    "from sklearn.linear_model import LogisticRegression\n",
    "maxAccu = 0\n",
    "maxRS = 0\n",
    "\n",
    "for i in range(1,1000):\n",
    "    x_train, x_test, y_train, y_test = train_test_split(x_scaled, y, test_size = 0.25, random_state = i)\n",
    "    reg = LogisticRegression()\n",
    "    reg.fit(x_train, y_train)\n",
    "    y_pred = reg.predict(x_test)\n",
    "    acc = accuracy_score(y_test,y_pred)\n",
    "    print('accuracy score', acc, 'random_state', i)\n",
    "    \n",
    "    if acc > maxAccu:\n",
    "        maxAccu = acc\n",
    "        maxRS = i\n",
    "        print('accuracy score', maxAccu, 'random_state', i)"
   ]
  },
  {
   "cell_type": "code",
   "execution_count": 53,
   "id": "0a18aaa9",
   "metadata": {},
   "outputs": [
    {
     "name": "stdout",
     "output_type": "stream",
     "text": [
      "Best Accuracy is 0.8923766816143498 on Random_state 590\n"
     ]
    }
   ],
   "source": [
    "print('Best Accuracy is', maxAccu, 'on Random_state', maxRS)"
   ]
  },
  {
   "cell_type": "code",
   "execution_count": 54,
   "id": "c60d10d0",
   "metadata": {},
   "outputs": [],
   "source": [
    "x_train, x_test, y_train, y_test = train_test_split(x_scaled, y, test_size = 0.25, random_state = 590)"
   ]
  },
  {
   "cell_type": "code",
   "execution_count": 55,
   "id": "6a70839c",
   "metadata": {},
   "outputs": [
    {
     "name": "stdout",
     "output_type": "stream",
     "text": [
      "(668, 9)\n",
      "(668,)\n",
      "(223, 9)\n",
      "(223,)\n"
     ]
    }
   ],
   "source": [
    "print(x_train.shape)\n",
    "print(y_train.shape)\n",
    "print(x_test.shape)\n",
    "print(y_test.shape)"
   ]
  },
  {
   "cell_type": "code",
   "execution_count": 56,
   "id": "130d5921",
   "metadata": {},
   "outputs": [],
   "source": [
    "from sklearn.linear_model import LogisticRegression\n",
    "from sklearn.neighbors import KNeighborsClassifier\n",
    "from sklearn.tree import DecisionTreeClassifier\n",
    "from sklearn.ensemble import RandomForestClassifier\n",
    "from sklearn.metrics import roc_curve, roc_auc_score\n",
    "from sklearn.metrics import plot_roc_curve"
   ]
  },
  {
   "cell_type": "code",
   "execution_count": 57,
   "id": "757b677b",
   "metadata": {},
   "outputs": [
    {
     "name": "stdout",
     "output_type": "stream",
     "text": [
      "Accuracy Score: 0.8923766816143498\n",
      "[[119  10]\n",
      " [ 14  80]]\n",
      "              precision    recall  f1-score   support\n",
      "\n",
      "           0       0.89      0.92      0.91       129\n",
      "           1       0.89      0.85      0.87        94\n",
      "\n",
      "    accuracy                           0.89       223\n",
      "   macro avg       0.89      0.89      0.89       223\n",
      "weighted avg       0.89      0.89      0.89       223\n",
      "\n"
     ]
    }
   ],
   "source": [
    "reg = LogisticRegression()\n",
    "reg.fit(x_train, y_train)\n",
    "y_pred = reg.predict(x_test)\n",
    "print(f\"Accuracy Score: {accuracy_score(y_test, y_pred)}\")\n",
    "print(confusion_matrix(y_test, y_pred))\n",
    "print(classification_report(y_test, y_pred))"
   ]
  },
  {
   "cell_type": "code",
   "execution_count": 58,
   "id": "b75ab8ce",
   "metadata": {},
   "outputs": [
    {
     "name": "stdout",
     "output_type": "stream",
     "text": [
      "At CV: 2\n",
      "Cross Validation Score is:  79.12480475638634\n",
      "Accuracy Score is :  89.23766816143498\n",
      "At CV: 3\n",
      "Cross Validation Score is:  79.68574635241302\n",
      "Accuracy Score is :  89.23766816143498\n",
      "At CV: 4\n",
      "Cross Validation Score is:  79.46360037167211\n",
      "Accuracy Score is :  89.23766816143498\n",
      "At CV: 5\n",
      "Cross Validation Score is:  79.68740192078337\n",
      "Accuracy Score is :  89.23766816143498\n",
      "At CV: 6\n",
      "Cross Validation Score is:  79.01248564000242\n",
      "Accuracy Score is :  89.23766816143498\n",
      "At CV: 7\n",
      "Cross Validation Score is:  80.13744375703037\n",
      "Accuracy Score is :  89.23766816143498\n",
      "At CV: 8\n",
      "Cross Validation Score is:  79.7970962033462\n",
      "Accuracy Score is :  89.23766816143498\n",
      "At CV: 9\n",
      "Cross Validation Score is:  79.7979797979798\n",
      "Accuracy Score is :  89.23766816143498\n",
      "At CV: 10\n",
      "Cross Validation Score is:  80.47315855181022\n",
      "Accuracy Score is :  89.23766816143498\n"
     ]
    }
   ],
   "source": [
    "from sklearn.model_selection import cross_val_score\n",
    "\n",
    "acc = accuracy_score(y_test, y_pred)\n",
    "\n",
    "for i in range (2,11):\n",
    "    cvscore = cross_val_score(reg, x, y, cv = i)\n",
    "    cvs = cvscore.mean()\n",
    "    print(\"At CV:\", i)\n",
    "    print(\"Cross Validation Score is: \", cvs*100)\n",
    "    print(\"Accuracy Score is : \", acc*100)"
   ]
  },
  {
   "cell_type": "code",
   "execution_count": 59,
   "id": "a85260fd",
   "metadata": {},
   "outputs": [
    {
     "name": "stdout",
     "output_type": "stream",
     "text": [
      "The CV Score is:  0.8047315855181022 \n",
      "The Accuracy Score is:  0.8923766816143498\n"
     ]
    }
   ],
   "source": [
    "cvscore_selected = cross_val_score(reg, x, y, cv = 10).mean()\n",
    "print(\"The CV Score is: \", cvscore_selected, \"\\nThe Accuracy Score is: \", acc)"
   ]
  },
  {
   "cell_type": "code",
   "execution_count": 60,
   "id": "c8d6ddb1",
   "metadata": {},
   "outputs": [
    {
     "name": "stdout",
     "output_type": "stream",
     "text": [
      "Accuracy Score: 0.8430493273542601\n",
      "[[118  11]\n",
      " [ 24  70]]\n",
      "              precision    recall  f1-score   support\n",
      "\n",
      "           0       0.83      0.91      0.87       129\n",
      "           1       0.86      0.74      0.80        94\n",
      "\n",
      "    accuracy                           0.84       223\n",
      "   macro avg       0.85      0.83      0.84       223\n",
      "weighted avg       0.84      0.84      0.84       223\n",
      "\n",
      "At CV: 2\n",
      "Cross Validation Score is:  67.90396533481132\n",
      "Accuracy Score is :  84.30493273542601\n",
      "At CV: 3\n",
      "Cross Validation Score is:  71.2682379349046\n",
      "Accuracy Score is :  84.30493273542601\n",
      "At CV: 4\n",
      "Cross Validation Score is:  70.37429806488103\n",
      "Accuracy Score is :  84.30493273542601\n",
      "At CV: 5\n",
      "Cross Validation Score is:  69.58759650994915\n",
      "Accuracy Score is :  84.30493273542601\n",
      "At CV: 6\n",
      "Cross Validation Score is:  70.48718181268518\n",
      "Accuracy Score is :  84.30493273542601\n",
      "At CV: 7\n",
      "Cross Validation Score is:  69.14282199100114\n",
      "Accuracy Score is :  84.30493273542601\n",
      "At CV: 8\n",
      "Cross Validation Score is:  70.15564671814671\n",
      "Accuracy Score is :  84.30493273542601\n",
      "At CV: 9\n",
      "Cross Validation Score is:  69.92143658810325\n",
      "Accuracy Score is :  84.30493273542601\n",
      "At CV: 10\n",
      "Cross Validation Score is:  69.81772784019975\n",
      "Accuracy Score is :  84.30493273542601\n"
     ]
    }
   ],
   "source": [
    "knn = KNeighborsClassifier()\n",
    "knn.fit(x_train, y_train)\n",
    "y_pred = knn.predict(x_test)\n",
    "print(f\"Accuracy Score: {accuracy_score(y_test, y_pred)}\")\n",
    "print(confusion_matrix(y_test, y_pred))\n",
    "print(classification_report(y_test, y_pred))\n",
    "\n",
    "acc = accuracy_score(y_test, y_pred)\n",
    "\n",
    "for i in range (2,11):\n",
    "    cvscore = cross_val_score(knn, x, y, cv = i)\n",
    "    cvs = cvscore.mean()\n",
    "    print(\"At CV:\", i)\n",
    "    print(\"Cross Validation Score is: \", cvs*100)\n",
    "    print(\"Accuracy Score is : \", acc*100)"
   ]
  },
  {
   "cell_type": "code",
   "execution_count": 61,
   "id": "e613cc31",
   "metadata": {},
   "outputs": [
    {
     "name": "stdout",
     "output_type": "stream",
     "text": [
      "The CV Score is:  0.712682379349046 \n",
      "The Accuracy Score is:  0.8430493273542601\n"
     ]
    }
   ],
   "source": [
    "cvscore_selected = cross_val_score(knn, x, y, cv = 3).mean()\n",
    "print(\"The CV Score is: \", cvscore_selected, \"\\nThe Accuracy Score is: \", acc)"
   ]
  },
  {
   "cell_type": "code",
   "execution_count": 62,
   "id": "39a7c814",
   "metadata": {},
   "outputs": [
    {
     "name": "stdout",
     "output_type": "stream",
     "text": [
      "Accuracy Score: 0.7937219730941704\n",
      "[[110  19]\n",
      " [ 27  67]]\n",
      "              precision    recall  f1-score   support\n",
      "\n",
      "           0       0.80      0.85      0.83       129\n",
      "           1       0.78      0.71      0.74        94\n",
      "\n",
      "    accuracy                           0.79       223\n",
      "   macro avg       0.79      0.78      0.79       223\n",
      "weighted avg       0.79      0.79      0.79       223\n",
      "\n",
      "***********************************\n",
      "At CV: 2\n",
      "Cross Validation Score is:  76.76651383080566\n",
      "Accuracy Score is :  79.37219730941703\n",
      "At CV: 3\n",
      "Cross Validation Score is:  77.44107744107745\n",
      "Accuracy Score is :  79.37219730941703\n",
      "At CV: 4\n",
      "Cross Validation Score is:  78.45109683674706\n",
      "Accuracy Score is :  79.37219730941703\n",
      "At CV: 5\n",
      "Cross Validation Score is:  77.2192580503421\n",
      "Accuracy Score is :  79.37219730941703\n",
      "At CV: 6\n",
      "Cross Validation Score is:  78.00123949452808\n",
      "Accuracy Score is :  79.37219730941703\n",
      "At CV: 7\n",
      "Cross Validation Score is:  78.230455568054\n",
      "Accuracy Score is :  79.37219730941703\n",
      "At CV: 8\n",
      "Cross Validation Score is:  78.80067567567568\n",
      "Accuracy Score is :  79.37219730941703\n",
      "At CV: 9\n",
      "Cross Validation Score is:  77.55331088664421\n",
      "Accuracy Score is :  79.37219730941703\n",
      "At CV: 10\n",
      "Cross Validation Score is:  77.56304619225968\n",
      "Accuracy Score is :  79.37219730941703\n"
     ]
    }
   ],
   "source": [
    "dt = DecisionTreeClassifier()\n",
    "dt.fit(x_train, y_train)\n",
    "y_pred = dt.predict(x_test)\n",
    "print(f\"Accuracy Score: {accuracy_score(y_test, y_pred)}\")\n",
    "print(confusion_matrix(y_test, y_pred))\n",
    "print(classification_report(y_test, y_pred))\n",
    "print('***********************************')\n",
    "\n",
    "acc = accuracy_score(y_test, y_pred)\n",
    "\n",
    "for i in range (2,11):\n",
    "    cvscore = cross_val_score(dt, x, y, cv = i)\n",
    "    cvs = cvscore.mean()\n",
    "    print(\"At CV:\", i)\n",
    "    print(\"Cross Validation Score is: \", cvs*100)\n",
    "    print(\"Accuracy Score is : \", acc*100)"
   ]
  },
  {
   "cell_type": "code",
   "execution_count": 63,
   "id": "0a4a2f07",
   "metadata": {},
   "outputs": [
    {
     "name": "stdout",
     "output_type": "stream",
     "text": [
      "The CV Score is:  0.7845806383577053 \n",
      "The Accuracy Score is:  0.7937219730941704\n"
     ]
    }
   ],
   "source": [
    "cvscore_selected = cross_val_score(dt, x, y, cv = 7).mean()\n",
    "print(\"The CV Score is: \", cvscore_selected, \"\\nThe Accuracy Score is: \", acc)"
   ]
  },
  {
   "cell_type": "code",
   "execution_count": 64,
   "id": "b1949fd1",
   "metadata": {},
   "outputs": [
    {
     "name": "stdout",
     "output_type": "stream",
     "text": [
      "Accuracy Score: 0.8475336322869955\n",
      "[[115  14]\n",
      " [ 20  74]]\n",
      "              precision    recall  f1-score   support\n",
      "\n",
      "           0       0.85      0.89      0.87       129\n",
      "           1       0.84      0.79      0.81        94\n",
      "\n",
      "    accuracy                           0.85       223\n",
      "   macro avg       0.85      0.84      0.84       223\n",
      "weighted avg       0.85      0.85      0.85       223\n",
      "\n",
      "***********************************\n",
      "At CV: 2\n",
      "Cross Validation Score is:  78.22668413362221\n",
      "Accuracy Score is :  84.75336322869956\n",
      "At CV: 3\n",
      "Cross Validation Score is:  80.02244668911335\n",
      "Accuracy Score is :  84.75336322869956\n",
      "At CV: 4\n",
      "Cross Validation Score is:  81.14672968933058\n",
      "Accuracy Score is :  84.75336322869956\n",
      "At CV: 5\n",
      "Cross Validation Score is:  81.03697194149771\n",
      "Accuracy Score is :  84.75336322869956\n",
      "At CV: 6\n",
      "Cross Validation Score is:  81.70385150250922\n",
      "Accuracy Score is :  84.75336322869956\n",
      "At CV: 7\n",
      "Cross Validation Score is:  81.82912682789653\n",
      "Accuracy Score is :  84.75336322869956\n",
      "At CV: 8\n",
      "Cross Validation Score is:  81.26508204633205\n",
      "Accuracy Score is :  84.75336322869956\n",
      "At CV: 9\n",
      "Cross Validation Score is:  80.69584736251403\n",
      "Accuracy Score is :  84.75336322869956\n",
      "At CV: 10\n",
      "Cross Validation Score is:  81.93632958801498\n",
      "Accuracy Score is :  84.75336322869956\n"
     ]
    }
   ],
   "source": [
    "rf = RandomForestClassifier()\n",
    "rf.fit(x_train, y_train)\n",
    "y_pred = rf.predict(x_test)\n",
    "print(f\"Accuracy Score: {accuracy_score(y_test, y_pred)}\")\n",
    "print(confusion_matrix(y_test, y_pred))\n",
    "print(classification_report(y_test, y_pred))\n",
    "print('***********************************')\n",
    "\n",
    "acc = accuracy_score(y_test, y_pred)\n",
    "\n",
    "for i in range (2,11):\n",
    "    cvscore = cross_val_score(rf, x, y, cv = i)\n",
    "    cvs = cvscore.mean()\n",
    "    print(\"At CV:\", i)\n",
    "    print(\"Cross Validation Score is: \", cvs*100)\n",
    "    print(\"Accuracy Score is : \", acc*100)"
   ]
  },
  {
   "cell_type": "code",
   "execution_count": 65,
   "id": "2765694a",
   "metadata": {},
   "outputs": [
    {
     "name": "stdout",
     "output_type": "stream",
     "text": [
      "The CV Score is:  0.820505835208099 \n",
      "The Accuracy Score is:  0.8475336322869955\n"
     ]
    }
   ],
   "source": [
    "cvscore_selected = cross_val_score(rf, x, y, cv = 7).mean()\n",
    "print(\"The CV Score is: \", cvscore_selected, \"\\nThe Accuracy Score is: \", acc)"
   ]
  },
  {
   "cell_type": "code",
   "execution_count": 66,
   "id": "70530444",
   "metadata": {},
   "outputs": [
    {
     "name": "stdout",
     "output_type": "stream",
     "text": [
      "Accuracy Score: 0.874439461883408\n",
      "[[125   4]\n",
      " [ 24  70]]\n",
      "              precision    recall  f1-score   support\n",
      "\n",
      "           0       0.84      0.97      0.90       129\n",
      "           1       0.95      0.74      0.83        94\n",
      "\n",
      "    accuracy                           0.87       223\n",
      "   macro avg       0.89      0.86      0.87       223\n",
      "weighted avg       0.88      0.87      0.87       223\n",
      "\n",
      "***********************************\n",
      "At CV: 2\n",
      "Cross Validation Score is:  66.33193933591978\n",
      "Accuracy Score is :  87.4439461883408\n",
      "At CV: 3\n",
      "Cross Validation Score is:  65.993265993266\n",
      "Accuracy Score is :  87.4439461883408\n",
      "At CV: 4\n",
      "Cross Validation Score is:  66.33185876459419\n",
      "Accuracy Score is :  87.4439461883408\n",
      "At CV: 5\n",
      "Cross Validation Score is:  66.67691921411085\n",
      "Accuracy Score is :  87.4439461883408\n",
      "At CV: 6\n",
      "Cross Validation Score is:  66.89567083862386\n",
      "Accuracy Score is :  87.4439461883408\n",
      "At CV: 7\n",
      "Cross Validation Score is:  67.12686304836896\n",
      "Accuracy Score is :  87.4439461883408\n",
      "At CV: 8\n",
      "Cross Validation Score is:  67.23576254826254\n",
      "Accuracy Score is :  87.4439461883408\n",
      "At CV: 9\n",
      "Cross Validation Score is:  66.44219977553311\n",
      "Accuracy Score is :  87.4439461883408\n",
      "At CV: 10\n",
      "Cross Validation Score is:  67.12359550561798\n",
      "Accuracy Score is :  87.4439461883408\n"
     ]
    }
   ],
   "source": [
    "from sklearn.svm import SVC\n",
    "\n",
    "svc = SVC()\n",
    "svc.fit(x_train, y_train)\n",
    "y_pred =svc.predict(x_test)\n",
    "print(f\"Accuracy Score: {accuracy_score(y_test, y_pred)}\")\n",
    "print(confusion_matrix(y_test, y_pred))\n",
    "print(classification_report(y_test, y_pred))\n",
    "print('***********************************')\n",
    "\n",
    "acc = accuracy_score(y_test, y_pred)\n",
    "\n",
    "for i in range (2,11):\n",
    "    cvscore = cross_val_score(svc, x, y, cv = i)\n",
    "    cvs = cvscore.mean()\n",
    "    print(\"At CV:\", i)\n",
    "    print(\"Cross Validation Score is: \", cvs*100)\n",
    "    print(\"Accuracy Score is : \", acc*100)"
   ]
  },
  {
   "cell_type": "code",
   "execution_count": 67,
   "id": "7bbc662c",
   "metadata": {},
   "outputs": [
    {
     "name": "stdout",
     "output_type": "stream",
     "text": [
      "The CV Score is:  0.6723576254826255 \n",
      "The Accuracy Score is:  0.874439461883408\n"
     ]
    }
   ],
   "source": [
    "cvscore_selected = cross_val_score(svc, x, y, cv = 8).mean()\n",
    "print(\"The CV Score is: \", cvscore_selected, \"\\nThe Accuracy Score is: \", acc)"
   ]
  },
  {
   "cell_type": "code",
   "execution_count": 68,
   "id": "3ef110fa",
   "metadata": {},
   "outputs": [
    {
     "name": "stdout",
     "output_type": "stream",
     "text": [
      "Accuracy Score: 0.8654708520179372\n",
      "[[114  15]\n",
      " [ 15  79]]\n",
      "              precision    recall  f1-score   support\n",
      "\n",
      "           0       0.88      0.88      0.88       129\n",
      "           1       0.84      0.84      0.84        94\n",
      "\n",
      "    accuracy                           0.87       223\n",
      "   macro avg       0.86      0.86      0.86       223\n",
      "weighted avg       0.87      0.87      0.87       223\n",
      "\n",
      "***********************************\n",
      "At CV: 2\n",
      "Cross Validation Score is:  78.00272081422885\n",
      "Accuracy Score is :  86.54708520179372\n",
      "At CV: 3\n",
      "Cross Validation Score is:  80.58361391694726\n",
      "Accuracy Score is :  86.54708520179372\n",
      "At CV: 4\n",
      "Cross Validation Score is:  80.2478487456066\n",
      "Accuracy Score is :  86.54708520179372\n",
      "At CV: 5\n",
      "Cross Validation Score is:  81.70924612390935\n",
      "Accuracy Score is :  86.54708520179372\n",
      "At CV: 6\n",
      "Cross Validation Score is:  81.70914202793398\n",
      "Accuracy Score is :  86.54708520179372\n",
      "At CV: 7\n",
      "Cross Validation Score is:  82.38628374578178\n",
      "Accuracy Score is :  86.54708520179372\n",
      "At CV: 8\n",
      "Cross Validation Score is:  81.37568371943371\n",
      "Accuracy Score is :  86.54708520179372\n",
      "At CV: 9\n",
      "Cross Validation Score is:  81.25701459034791\n",
      "Accuracy Score is :  86.54708520179372\n",
      "At CV: 10\n",
      "Cross Validation Score is:  81.70786516853931\n",
      "Accuracy Score is :  86.54708520179372\n"
     ]
    }
   ],
   "source": [
    "import xgboost as xgb\n",
    "xgb = xgb.XGBClassifier()\n",
    "\n",
    "xgb.fit(x_train, y_train)\n",
    "\n",
    "y_pred = xgb.predict(x_test)\n",
    "\n",
    "print(f\"Accuracy Score: {accuracy_score(y_test, y_pred)}\")\n",
    "print(confusion_matrix(y_test, y_pred))\n",
    "print(classification_report(y_test, y_pred))\n",
    "print('***********************************')\n",
    "\n",
    "acc = accuracy_score(y_test, y_pred)\n",
    "\n",
    "for i in range (2,11):\n",
    "    cvscore = cross_val_score(xgb, x, y, cv = i)\n",
    "    cvs = cvscore.mean()\n",
    "    print(\"At CV:\", i)\n",
    "    print(\"Cross Validation Score is: \", cvs*100)\n",
    "    print(\"Accuracy Score is : \", acc*100)"
   ]
  },
  {
   "cell_type": "code",
   "execution_count": 69,
   "id": "94c96186",
   "metadata": {},
   "outputs": [
    {
     "name": "stdout",
     "output_type": "stream",
     "text": [
      "The CV Score is:  0.8238628374578179 \n",
      "The Accuracy Score is:  0.8654708520179372\n"
     ]
    }
   ],
   "source": [
    "cvscore_selected = cross_val_score(xgb, x, y, cv = 7).mean()\n",
    "print(\"The CV Score is: \", cvscore_selected, \"\\nThe Accuracy Score is: \", acc)"
   ]
  },
  {
   "cell_type": "markdown",
   "id": "da3189a8",
   "metadata": {},
   "source": [
    "##### Observations:\n",
    "\n",
    "1. Logistic Regression Model:\n",
    "        - Accuracy Score: 89.23\n",
    "        - CV Score: 80.47\n",
    "2. KNN Model:\n",
    "        - Accuracy Score: 84.30\n",
    "        - CV Score: 71.26\n",
    "3. Decision Tree Model:\n",
    "        - Accuracy Score: 77.57\n",
    "        - CV Score: 78.90\n",
    "4. Random Forest Model:\n",
    "        - Accuracy Score: 84.30\n",
    "        - CV Score: 82.05\n",
    "5. SVM Model:\n",
    "        - Accuracy Score: 87.44\n",
    "        - CV Score: 67.23\n",
    "6. XGB Model:\n",
    "        - Accuracy Score: 86.54\n",
    "        - CV Score: 82.38\n",
    "        \n",
    "\n",
    "Logistic Regression Model has the best Accuracy Score, But the Accuracy & CV Score both are good for Random Forest Model and XGB Model. \n",
    "\n",
    "Therefore, Will perform HyperParameter Tuning on Logistic Regression Model, Random Forest Model and XGB Model."
   ]
  },
  {
   "cell_type": "markdown",
   "id": "38918a06",
   "metadata": {},
   "source": [
    "# Hyper Parameter Tuning"
   ]
  },
  {
   "cell_type": "code",
   "execution_count": 70,
   "id": "e94ff889",
   "metadata": {},
   "outputs": [
    {
     "name": "stdout",
     "output_type": "stream",
     "text": [
      "Fitting 5 folds for each of 200 candidates, totalling 1000 fits\n",
      "Best Penalty: l2\n",
      "Best C: 0.02104904144512021\n"
     ]
    },
    {
     "data": {
      "text/plain": [
       "0.7964313769498372"
      ]
     },
     "execution_count": 70,
     "metadata": {},
     "output_type": "execute_result"
    }
   ],
   "source": [
    "# Logistic Regression Parameters tunning\n",
    "reg = LogisticRegression( )\n",
    "\n",
    "# Create regularization penalty space\n",
    "penalty = ['l1', 'l2']\n",
    "\n",
    "# Create regularization hyperparameter space\n",
    "C = np.logspace(-2, 2, 100)\n",
    "\n",
    "\n",
    "lr_param_grid = {'penalty': penalty, 'C': C }\n",
    "\n",
    "clf = GridSearchCV(reg, lr_param_grid)\n",
    "\n",
    "gsLR = GridSearchCV(reg,param_grid = lr_param_grid, scoring=\"accuracy\", n_jobs= 4, verbose = 1)\n",
    "\n",
    "gsLR.fit(x_train,y_train)\n",
    "\n",
    "LR_best = gsLR.best_estimator_\n",
    "\n",
    "# View best hyperparameters\n",
    "print('Best Penalty:', LR_best.get_params()['penalty'])\n",
    "print('Best C:', LR_best.get_params()['C'])\n",
    "\n",
    "# Best score\n",
    "gsLR.best_score_"
   ]
  },
  {
   "cell_type": "code",
   "execution_count": 71,
   "id": "f1eed444",
   "metadata": {},
   "outputs": [
    {
     "name": "stdout",
     "output_type": "stream",
     "text": [
      "Best Param ==> {'criterion': 'gini', 'max_depth': 7, 'max_features': 'sqrt', 'n_estimators': 16}\n",
      "\n",
      "conf_mat ==> \n",
      " [[123   6]\n",
      " [ 22  72]]\n",
      "\n",
      "Accuracy rf Normal ==> \n",
      " 0.874439461883408\n"
     ]
    }
   ],
   "source": [
    "rf = RandomForestClassifier()\n",
    "\n",
    "param_grid = {'criterion': ['gini', 'entropy'],\n",
    "             'max_depth': [4,5,6,7,8,9, 10, 15],\n",
    "             'max_features' : ['auto', 'sqrt', 'log2'],\n",
    "             'n_estimators': np.arange(2,21,2)}\n",
    "\n",
    "grd = GridSearchCV(rf, param_grid = param_grid)\n",
    "grd.fit(x_train, y_train)\n",
    "\n",
    "print('Best Param ==>', grd.best_params_)\n",
    "\n",
    "clf = grd.best_estimator_      # reinstiating with best parameters\n",
    "\n",
    "clf.fit(x_train, y_train)\n",
    "y_pred = clf.predict(x_test)\n",
    "\n",
    "rf_conf_mat = confusion_matrix(y_test, y_pred)\n",
    "\n",
    "print('\\nconf_mat ==>', '\\n', rf_conf_mat)\n",
    "\n",
    "print('\\nAccuracy rf Normal ==>', '\\n', accuracy_score(y_test, y_pred))"
   ]
  },
  {
   "cell_type": "code",
   "execution_count": 72,
   "id": "994cf99c",
   "metadata": {},
   "outputs": [
    {
     "name": "stdout",
     "output_type": "stream",
     "text": [
      "Best Param ==> {'colsample_bytree': 0.75, 'gamma': 2.75, 'max_depth': 8, 'min_child_weight': 1.0, 'subsample': 1.0}\n",
      "\n",
      "conf_mat ==> \n",
      " [[121   8]\n",
      " [ 22  72]]\n",
      "\n",
      "Accuracy rf Normal ==> \n",
      " 0.8654708520179372\n"
     ]
    }
   ],
   "source": [
    "import xgboost as xgb\n",
    "xgb = xgb.XGBClassifier()\n",
    "\n",
    "param_grid = {\n",
    "        'min_child_weight': np.linspace(1, 10, 5, endpoint=True),\n",
    "        'gamma': np.linspace(0.5, 5, 5, endpoint=True),\n",
    "        'subsample': np.linspace(0.5, 1, 5, endpoint=True),\n",
    "        'colsample_bytree': np.linspace(0.5, 1, 5, endpoint=True),\n",
    "        'max_depth': [1,2,4,8,10]\n",
    "        }\n",
    "\n",
    "\n",
    "grd = GridSearchCV(xgb, param_grid = param_grid)\n",
    "grd.fit(x_train, y_train)\n",
    "\n",
    "print('Best Param ==>', grd.best_params_)\n",
    "\n",
    "clf = grd.best_estimator_      # reinstiating with best parameters\n",
    "\n",
    "clf.fit(x_train, y_train)\n",
    "y_pred = clf.predict(x_test)\n",
    "\n",
    "rf_conf_mat = confusion_matrix(y_test, y_pred)\n",
    "\n",
    "print('\\nconf_mat ==>', '\\n', rf_conf_mat)\n",
    "\n",
    "print('\\nAccuracy rf Normal ==>', '\\n', accuracy_score(y_test, y_pred))"
   ]
  },
  {
   "cell_type": "markdown",
   "id": "0a2e349d",
   "metadata": {},
   "source": [
    "Since, Random Forest Classifier Model is having the best accuracy after Hyper Parameter Tuning. therefore, we will save the Random Forest Model."
   ]
  },
  {
   "cell_type": "code",
   "execution_count": 73,
   "id": "b55f9624",
   "metadata": {},
   "outputs": [
    {
     "data": {
      "text/plain": [
       "['Titanic_Dataset.pkl']"
      ]
     },
     "execution_count": 73,
     "metadata": {},
     "output_type": "execute_result"
    }
   ],
   "source": [
    "# Saving the Model\n",
    "\n",
    "import joblib\n",
    "joblib.dump(rf, \"Titanic_Dataset.pkl\")"
   ]
  },
  {
   "cell_type": "code",
   "execution_count": null,
   "id": "12ab615f",
   "metadata": {},
   "outputs": [],
   "source": []
  }
 ],
 "metadata": {
  "kernelspec": {
   "display_name": "Python 3 (ipykernel)",
   "language": "python",
   "name": "python3"
  },
  "language_info": {
   "codemirror_mode": {
    "name": "ipython",
    "version": 3
   },
   "file_extension": ".py",
   "mimetype": "text/x-python",
   "name": "python",
   "nbconvert_exporter": "python",
   "pygments_lexer": "ipython3",
   "version": "3.9.6"
  }
 },
 "nbformat": 4,
 "nbformat_minor": 5
}
